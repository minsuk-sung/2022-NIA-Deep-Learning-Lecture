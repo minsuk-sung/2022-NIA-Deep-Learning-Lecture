{
 "cells": [
  {
   "cell_type": "markdown",
   "id": "133631a0",
   "metadata": {},
   "source": [
    "![](../img/banner_day2.png)\n",
    "\n",
    "<br>\n",
    "\n",
    "# 2일차 실습(1) - 나이브 베이즈(Naive bayes)와 서포트 벡터 머신(SVM)\n",
    "\n",
    "<br>\n",
    "<br>\n",
    "<div align='right'>강사 성민석</div>\n",
    "<div align='right'>고려대학교 인공지능학과 박사과정</div>\n",
    "<div align='right'>(minsuksung@korea.ac.kr)</div>"
   ]
  },
  {
   "cell_type": "markdown",
   "id": "50ded8c6",
   "metadata": {},
   "source": [
    "> <font color='red'><b>WARNING</b></font>: 본 컨텐츠는 **[저작권법 제25조 제2항](https://glaw.scourt.go.kr/wsjo/lawod/sjo192.do?contId=2135829&jomunNo=25)** 에 의해 강의 목적으로 이용한 저작물이 포함되어 있습니다.  \n",
    "> 해당 자료를 제작자의 동의없이 <font color='red'><b>외부에 임의로 공개 및 수정하는 것을 금지</b></font>하며 이를 위반하는 경우 저작권 침해로서 관련법에 따라 처벌될 수 있으니 주의해주시기 바랍니다."
   ]
  },
  {
   "cell_type": "markdown",
   "id": "5f24954f",
   "metadata": {
    "toc": true
   },
   "source": [
    "<h1>목차<span class=\"tocSkip\"></span></h1>\n",
    "<div class=\"toc\"><ul class=\"toc-item\"><li><span><a href=\"#데이터-불러오기\" data-toc-modified-id=\"데이터-불러오기-1\"><span class=\"toc-item-num\">1&nbsp;&nbsp;</span>데이터 불러오기</a></span></li><li><span><a href=\"#탐색적-데이터-분석\" data-toc-modified-id=\"탐색적-데이터-분석-2\"><span class=\"toc-item-num\">2&nbsp;&nbsp;</span>탐색적 데이터 분석</a></span></li><li><span><a href=\"#데이터-전처리\" data-toc-modified-id=\"데이터-전처리-3\"><span class=\"toc-item-num\">3&nbsp;&nbsp;</span>데이터 전처리</a></span></li><li><span><a href=\"#피처-엔지니어링\" data-toc-modified-id=\"피처-엔지니어링-4\"><span class=\"toc-item-num\">4&nbsp;&nbsp;</span>피처 엔지니어링</a></span></li><li><span><a href=\"#모델링\" data-toc-modified-id=\"모델링-5\"><span class=\"toc-item-num\">5&nbsp;&nbsp;</span>모델링</a></span></li><li><span><a href=\"#하이퍼파라미터-튜닝\" data-toc-modified-id=\"하이퍼파라미터-튜닝-6\"><span class=\"toc-item-num\">6&nbsp;&nbsp;</span>하이퍼파라미터 튜닝</a></span></li><li><span><a href=\"#성능-평가\" data-toc-modified-id=\"성능-평가-7\"><span class=\"toc-item-num\">7&nbsp;&nbsp;</span>성능 평가</a></span></li><li><span><a href=\"#참고자료\" data-toc-modified-id=\"참고자료-8\"><span class=\"toc-item-num\">8&nbsp;&nbsp;</span>참고자료</a></span></li></ul></div>"
   ]
  },
  {
   "cell_type": "markdown",
   "id": "e7125329",
   "metadata": {},
   "source": [
    "![](../img/pipeline.png)"
   ]
  },
  {
   "cell_type": "code",
   "execution_count": 1,
   "id": "4f1a7503",
   "metadata": {
    "ExecuteTime": {
     "end_time": "2022-08-29T11:10:07.444151Z",
     "start_time": "2022-08-29T11:10:07.066731Z"
    }
   },
   "outputs": [],
   "source": [
    "import os\n",
    "import sys\n",
    "import warnings\n",
    "import numpy as np\n",
    "import pandas as pd\n",
    "import matplotlib.pyplot as plt"
   ]
  },
  {
   "cell_type": "code",
   "execution_count": 2,
   "id": "e27eca04",
   "metadata": {
    "ExecuteTime": {
     "end_time": "2022-08-29T11:10:07.448020Z",
     "start_time": "2022-08-29T11:10:07.445678Z"
    }
   },
   "outputs": [],
   "source": [
    "warnings.filterwarnings(action='ignore')"
   ]
  },
  {
   "cell_type": "markdown",
   "id": "6cb072aa",
   "metadata": {},
   "source": [
    "## 데이터 불러오기\n",
    "<hr style=\"height:5px;border:none;color:#132e4f;background-color:#132e4f;\"/>\n",
    "\n",
    "![](https://camo.githubusercontent.com/d2367f028498f84a8e11edd66faad675045d19b413d7dbaf44ac822853e69671/68747470733a2f2f6d69726f2e6d656469756d2e636f6d2f6d61782f313030302f312a486835336d4f4634587934654f526a4c696c4b4f77412e706e67)"
   ]
  },
  {
   "cell_type": "code",
   "execution_count": 3,
   "id": "24d1dbde",
   "metadata": {
    "ExecuteTime": {
     "end_time": "2022-08-29T11:10:07.885705Z",
     "start_time": "2022-08-29T11:10:07.449265Z"
    }
   },
   "outputs": [],
   "source": [
    "from sklearn.datasets import load_iris"
   ]
  },
  {
   "cell_type": "code",
   "execution_count": 4,
   "id": "bcb1a5eb",
   "metadata": {
    "ExecuteTime": {
     "end_time": "2022-08-29T11:10:07.890450Z",
     "start_time": "2022-08-29T11:10:07.887081Z"
    }
   },
   "outputs": [],
   "source": [
    "iris_dataset = load_iris()"
   ]
  },
  {
   "cell_type": "code",
   "execution_count": 5,
   "id": "238a44b1",
   "metadata": {
    "ExecuteTime": {
     "end_time": "2022-08-29T11:10:07.908270Z",
     "start_time": "2022-08-29T11:10:07.891662Z"
    }
   },
   "outputs": [
    {
     "data": {
      "text/plain": [
       "dict_keys(['data', 'target', 'frame', 'target_names', 'DESCR', 'feature_names', 'filename'])"
      ]
     },
     "execution_count": 5,
     "metadata": {},
     "output_type": "execute_result"
    }
   ],
   "source": [
    "iris_dataset.keys()"
   ]
  },
  {
   "cell_type": "code",
   "execution_count": 6,
   "id": "208d33d4",
   "metadata": {
    "ExecuteTime": {
     "end_time": "2022-08-29T11:10:07.922045Z",
     "start_time": "2022-08-29T11:10:07.910975Z"
    }
   },
   "outputs": [
    {
     "name": "stdout",
     "output_type": "stream",
     "text": [
      ".. _iris_dataset:\n",
      "\n",
      "Iris plants dataset\n",
      "--------------------\n",
      "\n",
      "**Data Set Characteristics:**\n",
      "\n",
      "    :Number of Instances: 150 (50 in each of three classes)\n",
      "    :Number of Attributes: 4 numeric, predictive attributes and the class\n",
      "    :Attribute Information:\n",
      "        - sepal length in cm\n",
      "        - sepal width in cm\n",
      "        - petal length in cm\n",
      "        - petal width in cm\n",
      "        - class:\n",
      "                - Iris-Setosa\n",
      "                - Iris-Versicolour\n",
      "                - Iris-Virginica\n",
      "                \n",
      "    :Summary Statistics:\n",
      "\n",
      "    ============== ==== ==== ======= ===== ====================\n",
      "                    Min  Max   Mean    SD   Class Correlation\n",
      "    ============== ==== ==== ======= ===== ====================\n",
      "    sepal length:   4.3  7.9   5.84   0.83    0.7826\n",
      "    sepal width:    2.0  4.4   3.05   0.43   -0.4194\n",
      "    petal length:   1.0  6.9   3.76   1.76    0.9490  (high!)\n",
      "    petal width:    0.1  2.5   1.20   0.76    0.9565  (high!)\n",
      "    ============== ==== ==== ======= ===== ====================\n",
      "\n",
      "    :Missing Attribute Values: None\n",
      "    :Class Distribution: 33.3% for each of 3 classes.\n",
      "    :Creator: R.A. Fisher\n",
      "    :Donor: Michael Marshall (MARSHALL%PLU@io.arc.nasa.gov)\n",
      "    :Date: July, 1988\n",
      "\n",
      "The famous Iris database, first used by Sir R.A. Fisher. The dataset is taken\n",
      "from Fisher's paper. Note that it's the same as in R, but not as in the UCI\n",
      "Machine Learning Repository, which has two wrong data points.\n",
      "\n",
      "This is perhaps the best known database to be found in the\n",
      "pattern recognition literature.  Fisher's paper is a classic in the field and\n",
      "is referenced frequently to this day.  (See Duda & Hart, for example.)  The\n",
      "data set contains 3 classes of 50 instances each, where each class refers to a\n",
      "type of iris plant.  One class is linearly separable from the other 2; the\n",
      "latter are NOT linearly separable from each other.\n",
      "\n",
      ".. topic:: References\n",
      "\n",
      "   - Fisher, R.A. \"The use of multiple measurements in taxonomic problems\"\n",
      "     Annual Eugenics, 7, Part II, 179-188 (1936); also in \"Contributions to\n",
      "     Mathematical Statistics\" (John Wiley, NY, 1950).\n",
      "   - Duda, R.O., & Hart, P.E. (1973) Pattern Classification and Scene Analysis.\n",
      "     (Q327.D83) John Wiley & Sons.  ISBN 0-471-22361-1.  See page 218.\n",
      "   - Dasarathy, B.V. (1980) \"Nosing Around the Neighborhood: A New System\n",
      "     Structure and Classification Rule for Recognition in Partially Exposed\n",
      "     Environments\".  IEEE Transactions on Pattern Analysis and Machine\n",
      "     Intelligence, Vol. PAMI-2, No. 1, 67-71.\n",
      "   - Gates, G.W. (1972) \"The Reduced Nearest Neighbor Rule\".  IEEE Transactions\n",
      "     on Information Theory, May 1972, 431-433.\n",
      "   - See also: 1988 MLC Proceedings, 54-64.  Cheeseman et al\"s AUTOCLASS II\n",
      "     conceptual clustering system finds 3 classes in the data.\n",
      "   - Many, many more ...\n"
     ]
    }
   ],
   "source": [
    "print(iris_dataset['DESCR'])"
   ]
  },
  {
   "cell_type": "code",
   "execution_count": 7,
   "id": "a80a4536",
   "metadata": {
    "ExecuteTime": {
     "end_time": "2022-08-29T11:10:07.947436Z",
     "start_time": "2022-08-29T11:10:07.924621Z"
    }
   },
   "outputs": [
    {
     "data": {
      "text/plain": [
       "array([[5.1, 3.5, 1.4, 0.2],\n",
       "       [4.9, 3. , 1.4, 0.2],\n",
       "       [4.7, 3.2, 1.3, 0.2],\n",
       "       [4.6, 3.1, 1.5, 0.2],\n",
       "       [5. , 3.6, 1.4, 0.2],\n",
       "       [5.4, 3.9, 1.7, 0.4],\n",
       "       [4.6, 3.4, 1.4, 0.3],\n",
       "       [5. , 3.4, 1.5, 0.2],\n",
       "       [4.4, 2.9, 1.4, 0.2],\n",
       "       [4.9, 3.1, 1.5, 0.1],\n",
       "       [5.4, 3.7, 1.5, 0.2],\n",
       "       [4.8, 3.4, 1.6, 0.2],\n",
       "       [4.8, 3. , 1.4, 0.1],\n",
       "       [4.3, 3. , 1.1, 0.1],\n",
       "       [5.8, 4. , 1.2, 0.2],\n",
       "       [5.7, 4.4, 1.5, 0.4],\n",
       "       [5.4, 3.9, 1.3, 0.4],\n",
       "       [5.1, 3.5, 1.4, 0.3],\n",
       "       [5.7, 3.8, 1.7, 0.3],\n",
       "       [5.1, 3.8, 1.5, 0.3],\n",
       "       [5.4, 3.4, 1.7, 0.2],\n",
       "       [5.1, 3.7, 1.5, 0.4],\n",
       "       [4.6, 3.6, 1. , 0.2],\n",
       "       [5.1, 3.3, 1.7, 0.5],\n",
       "       [4.8, 3.4, 1.9, 0.2],\n",
       "       [5. , 3. , 1.6, 0.2],\n",
       "       [5. , 3.4, 1.6, 0.4],\n",
       "       [5.2, 3.5, 1.5, 0.2],\n",
       "       [5.2, 3.4, 1.4, 0.2],\n",
       "       [4.7, 3.2, 1.6, 0.2],\n",
       "       [4.8, 3.1, 1.6, 0.2],\n",
       "       [5.4, 3.4, 1.5, 0.4],\n",
       "       [5.2, 4.1, 1.5, 0.1],\n",
       "       [5.5, 4.2, 1.4, 0.2],\n",
       "       [4.9, 3.1, 1.5, 0.2],\n",
       "       [5. , 3.2, 1.2, 0.2],\n",
       "       [5.5, 3.5, 1.3, 0.2],\n",
       "       [4.9, 3.6, 1.4, 0.1],\n",
       "       [4.4, 3. , 1.3, 0.2],\n",
       "       [5.1, 3.4, 1.5, 0.2],\n",
       "       [5. , 3.5, 1.3, 0.3],\n",
       "       [4.5, 2.3, 1.3, 0.3],\n",
       "       [4.4, 3.2, 1.3, 0.2],\n",
       "       [5. , 3.5, 1.6, 0.6],\n",
       "       [5.1, 3.8, 1.9, 0.4],\n",
       "       [4.8, 3. , 1.4, 0.3],\n",
       "       [5.1, 3.8, 1.6, 0.2],\n",
       "       [4.6, 3.2, 1.4, 0.2],\n",
       "       [5.3, 3.7, 1.5, 0.2],\n",
       "       [5. , 3.3, 1.4, 0.2],\n",
       "       [7. , 3.2, 4.7, 1.4],\n",
       "       [6.4, 3.2, 4.5, 1.5],\n",
       "       [6.9, 3.1, 4.9, 1.5],\n",
       "       [5.5, 2.3, 4. , 1.3],\n",
       "       [6.5, 2.8, 4.6, 1.5],\n",
       "       [5.7, 2.8, 4.5, 1.3],\n",
       "       [6.3, 3.3, 4.7, 1.6],\n",
       "       [4.9, 2.4, 3.3, 1. ],\n",
       "       [6.6, 2.9, 4.6, 1.3],\n",
       "       [5.2, 2.7, 3.9, 1.4],\n",
       "       [5. , 2. , 3.5, 1. ],\n",
       "       [5.9, 3. , 4.2, 1.5],\n",
       "       [6. , 2.2, 4. , 1. ],\n",
       "       [6.1, 2.9, 4.7, 1.4],\n",
       "       [5.6, 2.9, 3.6, 1.3],\n",
       "       [6.7, 3.1, 4.4, 1.4],\n",
       "       [5.6, 3. , 4.5, 1.5],\n",
       "       [5.8, 2.7, 4.1, 1. ],\n",
       "       [6.2, 2.2, 4.5, 1.5],\n",
       "       [5.6, 2.5, 3.9, 1.1],\n",
       "       [5.9, 3.2, 4.8, 1.8],\n",
       "       [6.1, 2.8, 4. , 1.3],\n",
       "       [6.3, 2.5, 4.9, 1.5],\n",
       "       [6.1, 2.8, 4.7, 1.2],\n",
       "       [6.4, 2.9, 4.3, 1.3],\n",
       "       [6.6, 3. , 4.4, 1.4],\n",
       "       [6.8, 2.8, 4.8, 1.4],\n",
       "       [6.7, 3. , 5. , 1.7],\n",
       "       [6. , 2.9, 4.5, 1.5],\n",
       "       [5.7, 2.6, 3.5, 1. ],\n",
       "       [5.5, 2.4, 3.8, 1.1],\n",
       "       [5.5, 2.4, 3.7, 1. ],\n",
       "       [5.8, 2.7, 3.9, 1.2],\n",
       "       [6. , 2.7, 5.1, 1.6],\n",
       "       [5.4, 3. , 4.5, 1.5],\n",
       "       [6. , 3.4, 4.5, 1.6],\n",
       "       [6.7, 3.1, 4.7, 1.5],\n",
       "       [6.3, 2.3, 4.4, 1.3],\n",
       "       [5.6, 3. , 4.1, 1.3],\n",
       "       [5.5, 2.5, 4. , 1.3],\n",
       "       [5.5, 2.6, 4.4, 1.2],\n",
       "       [6.1, 3. , 4.6, 1.4],\n",
       "       [5.8, 2.6, 4. , 1.2],\n",
       "       [5. , 2.3, 3.3, 1. ],\n",
       "       [5.6, 2.7, 4.2, 1.3],\n",
       "       [5.7, 3. , 4.2, 1.2],\n",
       "       [5.7, 2.9, 4.2, 1.3],\n",
       "       [6.2, 2.9, 4.3, 1.3],\n",
       "       [5.1, 2.5, 3. , 1.1],\n",
       "       [5.7, 2.8, 4.1, 1.3],\n",
       "       [6.3, 3.3, 6. , 2.5],\n",
       "       [5.8, 2.7, 5.1, 1.9],\n",
       "       [7.1, 3. , 5.9, 2.1],\n",
       "       [6.3, 2.9, 5.6, 1.8],\n",
       "       [6.5, 3. , 5.8, 2.2],\n",
       "       [7.6, 3. , 6.6, 2.1],\n",
       "       [4.9, 2.5, 4.5, 1.7],\n",
       "       [7.3, 2.9, 6.3, 1.8],\n",
       "       [6.7, 2.5, 5.8, 1.8],\n",
       "       [7.2, 3.6, 6.1, 2.5],\n",
       "       [6.5, 3.2, 5.1, 2. ],\n",
       "       [6.4, 2.7, 5.3, 1.9],\n",
       "       [6.8, 3. , 5.5, 2.1],\n",
       "       [5.7, 2.5, 5. , 2. ],\n",
       "       [5.8, 2.8, 5.1, 2.4],\n",
       "       [6.4, 3.2, 5.3, 2.3],\n",
       "       [6.5, 3. , 5.5, 1.8],\n",
       "       [7.7, 3.8, 6.7, 2.2],\n",
       "       [7.7, 2.6, 6.9, 2.3],\n",
       "       [6. , 2.2, 5. , 1.5],\n",
       "       [6.9, 3.2, 5.7, 2.3],\n",
       "       [5.6, 2.8, 4.9, 2. ],\n",
       "       [7.7, 2.8, 6.7, 2. ],\n",
       "       [6.3, 2.7, 4.9, 1.8],\n",
       "       [6.7, 3.3, 5.7, 2.1],\n",
       "       [7.2, 3.2, 6. , 1.8],\n",
       "       [6.2, 2.8, 4.8, 1.8],\n",
       "       [6.1, 3. , 4.9, 1.8],\n",
       "       [6.4, 2.8, 5.6, 2.1],\n",
       "       [7.2, 3. , 5.8, 1.6],\n",
       "       [7.4, 2.8, 6.1, 1.9],\n",
       "       [7.9, 3.8, 6.4, 2. ],\n",
       "       [6.4, 2.8, 5.6, 2.2],\n",
       "       [6.3, 2.8, 5.1, 1.5],\n",
       "       [6.1, 2.6, 5.6, 1.4],\n",
       "       [7.7, 3. , 6.1, 2.3],\n",
       "       [6.3, 3.4, 5.6, 2.4],\n",
       "       [6.4, 3.1, 5.5, 1.8],\n",
       "       [6. , 3. , 4.8, 1.8],\n",
       "       [6.9, 3.1, 5.4, 2.1],\n",
       "       [6.7, 3.1, 5.6, 2.4],\n",
       "       [6.9, 3.1, 5.1, 2.3],\n",
       "       [5.8, 2.7, 5.1, 1.9],\n",
       "       [6.8, 3.2, 5.9, 2.3],\n",
       "       [6.7, 3.3, 5.7, 2.5],\n",
       "       [6.7, 3. , 5.2, 2.3],\n",
       "       [6.3, 2.5, 5. , 1.9],\n",
       "       [6.5, 3. , 5.2, 2. ],\n",
       "       [6.2, 3.4, 5.4, 2.3],\n",
       "       [5.9, 3. , 5.1, 1.8]])"
      ]
     },
     "execution_count": 7,
     "metadata": {},
     "output_type": "execute_result"
    }
   ],
   "source": [
    "iris_dataset['data']"
   ]
  },
  {
   "cell_type": "code",
   "execution_count": 8,
   "id": "def3411f",
   "metadata": {
    "ExecuteTime": {
     "end_time": "2022-08-29T11:10:07.960660Z",
     "start_time": "2022-08-29T11:10:07.948637Z"
    }
   },
   "outputs": [
    {
     "data": {
      "text/plain": [
       "['sepal length (cm)',\n",
       " 'sepal width (cm)',\n",
       " 'petal length (cm)',\n",
       " 'petal width (cm)']"
      ]
     },
     "execution_count": 8,
     "metadata": {},
     "output_type": "execute_result"
    }
   ],
   "source": [
    "iris_dataset['feature_names']"
   ]
  },
  {
   "cell_type": "code",
   "execution_count": 9,
   "id": "521c0e10",
   "metadata": {
    "ExecuteTime": {
     "end_time": "2022-08-29T11:10:07.976187Z",
     "start_time": "2022-08-29T11:10:07.962268Z"
    }
   },
   "outputs": [
    {
     "data": {
      "text/plain": [
       "array([0, 0, 0, 0, 0, 0, 0, 0, 0, 0, 0, 0, 0, 0, 0, 0, 0, 0, 0, 0, 0, 0,\n",
       "       0, 0, 0, 0, 0, 0, 0, 0, 0, 0, 0, 0, 0, 0, 0, 0, 0, 0, 0, 0, 0, 0,\n",
       "       0, 0, 0, 0, 0, 0, 1, 1, 1, 1, 1, 1, 1, 1, 1, 1, 1, 1, 1, 1, 1, 1,\n",
       "       1, 1, 1, 1, 1, 1, 1, 1, 1, 1, 1, 1, 1, 1, 1, 1, 1, 1, 1, 1, 1, 1,\n",
       "       1, 1, 1, 1, 1, 1, 1, 1, 1, 1, 1, 1, 2, 2, 2, 2, 2, 2, 2, 2, 2, 2,\n",
       "       2, 2, 2, 2, 2, 2, 2, 2, 2, 2, 2, 2, 2, 2, 2, 2, 2, 2, 2, 2, 2, 2,\n",
       "       2, 2, 2, 2, 2, 2, 2, 2, 2, 2, 2, 2, 2, 2, 2, 2, 2, 2])"
      ]
     },
     "execution_count": 9,
     "metadata": {},
     "output_type": "execute_result"
    }
   ],
   "source": [
    "iris_dataset['target']"
   ]
  },
  {
   "cell_type": "code",
   "execution_count": 10,
   "id": "99043ee5",
   "metadata": {
    "ExecuteTime": {
     "end_time": "2022-08-29T11:10:07.994360Z",
     "start_time": "2022-08-29T11:10:07.978054Z"
    }
   },
   "outputs": [
    {
     "data": {
      "text/plain": [
       "array(['setosa', 'versicolor', 'virginica'], dtype='<U10')"
      ]
     },
     "execution_count": 10,
     "metadata": {},
     "output_type": "execute_result"
    }
   ],
   "source": [
    "iris_dataset['target_names']"
   ]
  },
  {
   "cell_type": "code",
   "execution_count": 11,
   "id": "c069b5bb",
   "metadata": {
    "ExecuteTime": {
     "end_time": "2022-08-29T11:10:08.013326Z",
     "start_time": "2022-08-29T11:10:07.996531Z"
    }
   },
   "outputs": [],
   "source": [
    "X = pd.DataFrame(iris_dataset['data'], columns=iris_dataset['feature_names'])\n",
    "y = pd.DataFrame(iris_dataset['target'], columns=['target'])"
   ]
  },
  {
   "cell_type": "code",
   "execution_count": 12,
   "id": "e1197527",
   "metadata": {
    "ExecuteTime": {
     "end_time": "2022-08-29T11:10:08.044077Z",
     "start_time": "2022-08-29T11:10:08.015718Z"
    }
   },
   "outputs": [
    {
     "data": {
      "text/html": [
       "<div>\n",
       "<style scoped>\n",
       "    .dataframe tbody tr th:only-of-type {\n",
       "        vertical-align: middle;\n",
       "    }\n",
       "\n",
       "    .dataframe tbody tr th {\n",
       "        vertical-align: top;\n",
       "    }\n",
       "\n",
       "    .dataframe thead th {\n",
       "        text-align: right;\n",
       "    }\n",
       "</style>\n",
       "<table border=\"1\" class=\"dataframe\">\n",
       "  <thead>\n",
       "    <tr style=\"text-align: right;\">\n",
       "      <th></th>\n",
       "      <th>sepal length (cm)</th>\n",
       "      <th>sepal width (cm)</th>\n",
       "      <th>petal length (cm)</th>\n",
       "      <th>petal width (cm)</th>\n",
       "    </tr>\n",
       "  </thead>\n",
       "  <tbody>\n",
       "    <tr>\n",
       "      <th>0</th>\n",
       "      <td>5.1</td>\n",
       "      <td>3.5</td>\n",
       "      <td>1.4</td>\n",
       "      <td>0.2</td>\n",
       "    </tr>\n",
       "    <tr>\n",
       "      <th>1</th>\n",
       "      <td>4.9</td>\n",
       "      <td>3.0</td>\n",
       "      <td>1.4</td>\n",
       "      <td>0.2</td>\n",
       "    </tr>\n",
       "    <tr>\n",
       "      <th>2</th>\n",
       "      <td>4.7</td>\n",
       "      <td>3.2</td>\n",
       "      <td>1.3</td>\n",
       "      <td>0.2</td>\n",
       "    </tr>\n",
       "    <tr>\n",
       "      <th>3</th>\n",
       "      <td>4.6</td>\n",
       "      <td>3.1</td>\n",
       "      <td>1.5</td>\n",
       "      <td>0.2</td>\n",
       "    </tr>\n",
       "    <tr>\n",
       "      <th>4</th>\n",
       "      <td>5.0</td>\n",
       "      <td>3.6</td>\n",
       "      <td>1.4</td>\n",
       "      <td>0.2</td>\n",
       "    </tr>\n",
       "    <tr>\n",
       "      <th>...</th>\n",
       "      <td>...</td>\n",
       "      <td>...</td>\n",
       "      <td>...</td>\n",
       "      <td>...</td>\n",
       "    </tr>\n",
       "    <tr>\n",
       "      <th>145</th>\n",
       "      <td>6.7</td>\n",
       "      <td>3.0</td>\n",
       "      <td>5.2</td>\n",
       "      <td>2.3</td>\n",
       "    </tr>\n",
       "    <tr>\n",
       "      <th>146</th>\n",
       "      <td>6.3</td>\n",
       "      <td>2.5</td>\n",
       "      <td>5.0</td>\n",
       "      <td>1.9</td>\n",
       "    </tr>\n",
       "    <tr>\n",
       "      <th>147</th>\n",
       "      <td>6.5</td>\n",
       "      <td>3.0</td>\n",
       "      <td>5.2</td>\n",
       "      <td>2.0</td>\n",
       "    </tr>\n",
       "    <tr>\n",
       "      <th>148</th>\n",
       "      <td>6.2</td>\n",
       "      <td>3.4</td>\n",
       "      <td>5.4</td>\n",
       "      <td>2.3</td>\n",
       "    </tr>\n",
       "    <tr>\n",
       "      <th>149</th>\n",
       "      <td>5.9</td>\n",
       "      <td>3.0</td>\n",
       "      <td>5.1</td>\n",
       "      <td>1.8</td>\n",
       "    </tr>\n",
       "  </tbody>\n",
       "</table>\n",
       "<p>150 rows × 4 columns</p>\n",
       "</div>"
      ],
      "text/plain": [
       "     sepal length (cm)  sepal width (cm)  petal length (cm)  petal width (cm)\n",
       "0                  5.1               3.5                1.4               0.2\n",
       "1                  4.9               3.0                1.4               0.2\n",
       "2                  4.7               3.2                1.3               0.2\n",
       "3                  4.6               3.1                1.5               0.2\n",
       "4                  5.0               3.6                1.4               0.2\n",
       "..                 ...               ...                ...               ...\n",
       "145                6.7               3.0                5.2               2.3\n",
       "146                6.3               2.5                5.0               1.9\n",
       "147                6.5               3.0                5.2               2.0\n",
       "148                6.2               3.4                5.4               2.3\n",
       "149                5.9               3.0                5.1               1.8\n",
       "\n",
       "[150 rows x 4 columns]"
      ]
     },
     "execution_count": 12,
     "metadata": {},
     "output_type": "execute_result"
    }
   ],
   "source": [
    "X"
   ]
  },
  {
   "cell_type": "code",
   "execution_count": 13,
   "id": "cc75b47b",
   "metadata": {
    "ExecuteTime": {
     "end_time": "2022-08-29T11:10:08.051717Z",
     "start_time": "2022-08-29T11:10:08.045239Z"
    }
   },
   "outputs": [
    {
     "data": {
      "text/html": [
       "<div>\n",
       "<style scoped>\n",
       "    .dataframe tbody tr th:only-of-type {\n",
       "        vertical-align: middle;\n",
       "    }\n",
       "\n",
       "    .dataframe tbody tr th {\n",
       "        vertical-align: top;\n",
       "    }\n",
       "\n",
       "    .dataframe thead th {\n",
       "        text-align: right;\n",
       "    }\n",
       "</style>\n",
       "<table border=\"1\" class=\"dataframe\">\n",
       "  <thead>\n",
       "    <tr style=\"text-align: right;\">\n",
       "      <th></th>\n",
       "      <th>target</th>\n",
       "    </tr>\n",
       "  </thead>\n",
       "  <tbody>\n",
       "    <tr>\n",
       "      <th>0</th>\n",
       "      <td>0</td>\n",
       "    </tr>\n",
       "    <tr>\n",
       "      <th>1</th>\n",
       "      <td>0</td>\n",
       "    </tr>\n",
       "    <tr>\n",
       "      <th>2</th>\n",
       "      <td>0</td>\n",
       "    </tr>\n",
       "    <tr>\n",
       "      <th>3</th>\n",
       "      <td>0</td>\n",
       "    </tr>\n",
       "    <tr>\n",
       "      <th>4</th>\n",
       "      <td>0</td>\n",
       "    </tr>\n",
       "    <tr>\n",
       "      <th>...</th>\n",
       "      <td>...</td>\n",
       "    </tr>\n",
       "    <tr>\n",
       "      <th>145</th>\n",
       "      <td>2</td>\n",
       "    </tr>\n",
       "    <tr>\n",
       "      <th>146</th>\n",
       "      <td>2</td>\n",
       "    </tr>\n",
       "    <tr>\n",
       "      <th>147</th>\n",
       "      <td>2</td>\n",
       "    </tr>\n",
       "    <tr>\n",
       "      <th>148</th>\n",
       "      <td>2</td>\n",
       "    </tr>\n",
       "    <tr>\n",
       "      <th>149</th>\n",
       "      <td>2</td>\n",
       "    </tr>\n",
       "  </tbody>\n",
       "</table>\n",
       "<p>150 rows × 1 columns</p>\n",
       "</div>"
      ],
      "text/plain": [
       "     target\n",
       "0         0\n",
       "1         0\n",
       "2         0\n",
       "3         0\n",
       "4         0\n",
       "..      ...\n",
       "145       2\n",
       "146       2\n",
       "147       2\n",
       "148       2\n",
       "149       2\n",
       "\n",
       "[150 rows x 1 columns]"
      ]
     },
     "execution_count": 13,
     "metadata": {},
     "output_type": "execute_result"
    }
   ],
   "source": [
    "y"
   ]
  },
  {
   "cell_type": "markdown",
   "id": "06699121",
   "metadata": {},
   "source": [
    "## 탐색적 데이터 분석\n",
    "<hr style=\"height:5px;border:none;color:#132e4f;background-color:#132e4f;\"/>"
   ]
  },
  {
   "cell_type": "code",
   "execution_count": 14,
   "id": "8b79a0d2",
   "metadata": {
    "ExecuteTime": {
     "end_time": "2022-08-29T11:10:09.681425Z",
     "start_time": "2022-08-29T11:10:08.052846Z"
    }
   },
   "outputs": [
    {
     "data": {
      "image/png": "[encoded data removed]",
      "text/plain": [
       "<Figure size 432x288 with 1 Axes>"
      ]
     },
     "metadata": {
      "needs_background": "light"
     },
     "output_type": "display_data"
    }
   ],
   "source": [
    "colors = ['r','g','b']\n",
    "for idx, row in X[['sepal length (cm)','sepal width (cm)']].iterrows():\n",
    "    plt.scatter(row['sepal length (cm)'],\n",
    "                row['sepal width (cm)'],\n",
    "                color=colors[int(y.iloc[idx])], alpha=0.5)\n",
    "plt.xlabel('sepal length (cm)')\n",
    "plt.ylabel('sepal width (cm)')\n",
    "plt.grid(True)\n",
    "plt.show()"
   ]
  },
  {
   "cell_type": "code",
   "execution_count": 15,
   "id": "0c998944",
   "metadata": {
    "ExecuteTime": {
     "end_time": "2022-08-29T11:10:11.282328Z",
     "start_time": "2022-08-29T11:10:09.682781Z"
    }
   },
   "outputs": [
    {
     "data": {
      "image/png": "[encoded data removed]",
      "text/plain": [
       "<Figure size 432x288 with 1 Axes>"
      ]
     },
     "metadata": {
      "needs_background": "light"
     },
     "output_type": "display_data"
    }
   ],
   "source": [
    "colors = ['r','g','b']\n",
    "for idx, row in X[['petal length (cm)','petal width (cm)']].iterrows():\n",
    "    plt.scatter(row['petal length (cm)'],\n",
    "                row['petal width (cm)'],\n",
    "                color=colors[int(y.iloc[idx])], alpha=0.5)\n",
    "plt.xlabel('petal length (cm)')\n",
    "plt.ylabel('petal width (cm)')\n",
    "plt.grid(True)\n",
    "plt.show()"
   ]
  },
  {
   "cell_type": "markdown",
   "id": "001d0294",
   "metadata": {},
   "source": [
    "## 데이터 전처리\n",
    "<hr style=\"height:5px;border:none;color:#132e4f;background-color:#132e4f;\"/>"
   ]
  },
  {
   "cell_type": "code",
   "execution_count": 16,
   "id": "0e222156",
   "metadata": {
    "ExecuteTime": {
     "end_time": "2022-08-29T11:10:11.334499Z",
     "start_time": "2022-08-29T11:10:11.283783Z"
    }
   },
   "outputs": [],
   "source": [
    "import missingno as msno"
   ]
  },
  {
   "cell_type": "code",
   "execution_count": 17,
   "id": "f3b0c185",
   "metadata": {
    "ExecuteTime": {
     "end_time": "2022-08-29T11:10:11.544906Z",
     "start_time": "2022-08-29T11:10:11.335810Z"
    }
   },
   "outputs": [
    {
     "data": {
      "image/png": "[encoded data removed]",
      "text/plain": [
       "<Figure size 1800x720 with 2 Axes>"
      ]
     },
     "metadata": {
      "needs_background": "light"
     },
     "output_type": "display_data"
    }
   ],
   "source": [
    "msno.matrix(X)\n",
    "plt.show()"
   ]
  },
  {
   "cell_type": "markdown",
   "id": "86a6be58",
   "metadata": {},
   "source": [
    "## 피처 엔지니어링\n",
    "<hr style=\"height:5px;border:none;color:#132e4f;background-color:#132e4f;\"/>"
   ]
  },
  {
   "cell_type": "code",
   "execution_count": 18,
   "id": "f9ea3ad6",
   "metadata": {
    "ExecuteTime": {
     "end_time": "2022-08-29T11:10:11.559953Z",
     "start_time": "2022-08-29T11:10:11.546283Z"
    }
   },
   "outputs": [],
   "source": [
    "from sklearn.model_selection import train_test_split"
   ]
  },
  {
   "cell_type": "code",
   "execution_count": 19,
   "id": "fb84eccd",
   "metadata": {
    "ExecuteTime": {
     "end_time": "2022-08-29T11:10:11.565211Z",
     "start_time": "2022-08-29T11:10:11.561223Z"
    }
   },
   "outputs": [],
   "source": [
    "X_train, X_valid, y_train, y_valid = train_test_split(X, y, test_size=0.2, random_state=42, shuffle=True)"
   ]
  },
  {
   "cell_type": "code",
   "execution_count": 36,
   "id": "dbcd4ec3",
   "metadata": {
    "ExecuteTime": {
     "end_time": "2022-08-29T13:03:45.908379Z",
     "start_time": "2022-08-29T13:03:45.901152Z"
    }
   },
   "outputs": [
    {
     "data": {
      "text/plain": [
       "((120, 6), (30, 6))"
      ]
     },
     "execution_count": 36,
     "metadata": {},
     "output_type": "execute_result"
    }
   ],
   "source": [
    "X_train.shape, X_valid.shape"
   ]
  },
  {
   "cell_type": "code",
   "execution_count": 37,
   "id": "aa802346",
   "metadata": {
    "ExecuteTime": {
     "end_time": "2022-08-29T13:03:49.552390Z",
     "start_time": "2022-08-29T13:03:49.545591Z"
    }
   },
   "outputs": [
    {
     "data": {
      "text/plain": [
       "((120, 1), (30, 1))"
      ]
     },
     "execution_count": 37,
     "metadata": {},
     "output_type": "execute_result"
    }
   ],
   "source": [
    "y_train.shape, y_valid.shape"
   ]
  },
  {
   "cell_type": "code",
   "execution_count": 20,
   "id": "33bd1108",
   "metadata": {
    "ExecuteTime": {
     "end_time": "2022-08-29T11:10:11.581837Z",
     "start_time": "2022-08-29T11:10:11.566457Z"
    }
   },
   "outputs": [],
   "source": [
    "X_train['sepal/petal length(ratio)'] = X_train['sepal length (cm)'] / X_train['petal length (cm)']\n",
    "X_valid['sepal/petal length(ratio)'] = X_valid['sepal length (cm)'] / X_valid['petal length (cm)']"
   ]
  },
  {
   "cell_type": "code",
   "execution_count": 21,
   "id": "cd166e4f",
   "metadata": {
    "ExecuteTime": {
     "end_time": "2022-08-29T11:10:11.596143Z",
     "start_time": "2022-08-29T11:10:11.585221Z"
    }
   },
   "outputs": [],
   "source": [
    "X_train['sepal/petal width(ratio)'] = X_train['sepal width (cm)'] / X_train['petal width (cm)']\n",
    "X_valid['sepal/petal width(ratio)'] = X_valid['sepal width (cm)'] / X_valid['petal width (cm)']"
   ]
  },
  {
   "cell_type": "code",
   "execution_count": 22,
   "id": "94adf532",
   "metadata": {
    "ExecuteTime": {
     "end_time": "2022-08-29T11:10:11.610148Z",
     "start_time": "2022-08-29T11:10:11.598118Z"
    }
   },
   "outputs": [],
   "source": [
    "from sklearn.preprocessing import MinMaxScaler"
   ]
  },
  {
   "cell_type": "code",
   "execution_count": 23,
   "id": "181fb7ae",
   "metadata": {
    "ExecuteTime": {
     "end_time": "2022-08-29T11:10:11.631390Z",
     "start_time": "2022-08-29T11:10:11.611989Z"
    }
   },
   "outputs": [],
   "source": [
    "mms = MinMaxScaler()\n",
    "mms.fit(X_train)\n",
    "X_train = mms.transform(X_train)\n",
    "X_valid = mms.transform(X_valid)"
   ]
  },
  {
   "cell_type": "markdown",
   "id": "500d4dd5",
   "metadata": {},
   "source": [
    "## 모델링\n",
    "<hr style=\"height:5px;border:none;color:#132e4f;background-color:#132e4f;\"/>"
   ]
  },
  {
   "cell_type": "code",
   "execution_count": 24,
   "id": "b9989006",
   "metadata": {
    "ExecuteTime": {
     "end_time": "2022-08-29T11:10:11.660510Z",
     "start_time": "2022-08-29T11:10:11.633226Z"
    }
   },
   "outputs": [],
   "source": [
    "from sklearn.naive_bayes import GaussianNB\n",
    "from sklearn.svm import SVC"
   ]
  },
  {
   "cell_type": "code",
   "execution_count": 25,
   "id": "3c06b2eb",
   "metadata": {
    "ExecuteTime": {
     "end_time": "2022-08-29T11:10:11.666841Z",
     "start_time": "2022-08-29T11:10:11.661798Z"
    }
   },
   "outputs": [
    {
     "data": {
      "text/plain": [
       "1.0"
      ]
     },
     "execution_count": 25,
     "metadata": {},
     "output_type": "execute_result"
    }
   ],
   "source": [
    "model  = GaussianNB()\n",
    "model.fit(X_train, y_train)\n",
    "model.score(X_valid, y_valid)"
   ]
  },
  {
   "cell_type": "code",
   "execution_count": 26,
   "id": "c7547455",
   "metadata": {
    "ExecuteTime": {
     "end_time": "2022-08-29T11:11:20.891263Z",
     "start_time": "2022-08-29T11:11:20.881520Z"
    }
   },
   "outputs": [
    {
     "data": {
      "text/plain": [
       "1.0"
      ]
     },
     "execution_count": 26,
     "metadata": {},
     "output_type": "execute_result"
    }
   ],
   "source": [
    "model = SVC(C=1.0, kernel='rbf', degree=3, max_iter=-1)\n",
    "model.fit(X_train, y_train)\n",
    "model.score(X_valid, y_valid)"
   ]
  },
  {
   "cell_type": "markdown",
   "id": "d7c35140",
   "metadata": {},
   "source": [
    "## 하이퍼파라미터 튜닝\n",
    "<hr style=\"height:5px;border:none;color:#132e4f;background-color:#132e4f;\"/>"
   ]
  },
  {
   "cell_type": "code",
   "execution_count": 28,
   "id": "0a0b39bb",
   "metadata": {
    "ExecuteTime": {
     "end_time": "2022-08-29T12:38:44.966013Z",
     "start_time": "2022-08-29T12:38:44.962593Z"
    }
   },
   "outputs": [],
   "source": [
    "from sklearn.model_selection import GridSearchCV"
   ]
  },
  {
   "cell_type": "code",
   "execution_count": 30,
   "id": "6bf6bcc3",
   "metadata": {
    "ExecuteTime": {
     "end_time": "2022-08-29T12:40:44.477918Z",
     "start_time": "2022-08-29T12:40:44.473182Z"
    }
   },
   "outputs": [],
   "source": [
    "param_grid = {\n",
    "    'C': [0.1, 1.0, 10.0, 100.0],\n",
    "    'degree': [1, 10, 100],\n",
    "}"
   ]
  },
  {
   "cell_type": "code",
   "execution_count": 31,
   "id": "68efad66",
   "metadata": {
    "ExecuteTime": {
     "end_time": "2022-08-29T12:40:44.661132Z",
     "start_time": "2022-08-29T12:40:44.656434Z"
    }
   },
   "outputs": [],
   "source": [
    "from sklearn.model_selection import KFold\n",
    "\n",
    "kf = KFold(\n",
    "    random_state=42,\n",
    "    n_splits=5,\n",
    "    shuffle=True,\n",
    ")"
   ]
  },
  {
   "cell_type": "code",
   "execution_count": 32,
   "id": "e83f4a08",
   "metadata": {
    "ExecuteTime": {
     "end_time": "2022-08-29T12:40:45.813151Z",
     "start_time": "2022-08-29T12:40:45.808369Z"
    }
   },
   "outputs": [],
   "source": [
    "grid_search = GridSearchCV(\n",
    "    estimator=SVC(),\n",
    "    param_grid=param_grid,\n",
    "    cv=kf,\n",
    "    n_jobs=-1,\n",
    "    verbose=2\n",
    ")"
   ]
  },
  {
   "cell_type": "code",
   "execution_count": 34,
   "id": "f6949a53",
   "metadata": {
    "ExecuteTime": {
     "end_time": "2022-08-29T12:40:51.941800Z",
     "start_time": "2022-08-29T12:40:50.521465Z"
    }
   },
   "outputs": [
    {
     "name": "stdout",
     "output_type": "stream",
     "text": [
      "Fitting 5 folds for each of 12 candidates, totalling 60 fits\n"
     ]
    },
    {
     "data": {
      "text/plain": [
       "GridSearchCV(cv=KFold(n_splits=5, random_state=42, shuffle=True),\n",
       "             estimator=SVC(), n_jobs=-1,\n",
       "             param_grid={'C': [0.1, 1.0, 10.0, 100.0], 'degree': [1, 10, 100]},\n",
       "             verbose=2)"
      ]
     },
     "execution_count": 34,
     "metadata": {},
     "output_type": "execute_result"
    }
   ],
   "source": [
    "grid_search.fit(X_train, y_train)"
   ]
  },
  {
   "cell_type": "code",
   "execution_count": 35,
   "id": "67198d2d",
   "metadata": {
    "ExecuteTime": {
     "end_time": "2022-08-29T12:41:02.180941Z",
     "start_time": "2022-08-29T12:41:02.173257Z"
    }
   },
   "outputs": [
    {
     "data": {
      "text/plain": [
       "{'C': 10.0, 'degree': 1}"
      ]
     },
     "execution_count": 35,
     "metadata": {},
     "output_type": "execute_result"
    }
   ],
   "source": [
    "grid_search.best_params_"
   ]
  },
  {
   "cell_type": "code",
   "execution_count": 39,
   "id": "483f70ed",
   "metadata": {
    "ExecuteTime": {
     "end_time": "2022-08-29T13:04:33.072139Z",
     "start_time": "2022-08-29T13:04:33.053639Z"
    }
   },
   "outputs": [
    {
     "data": {
      "text/plain": [
       "{'mean_fit_time': array([0.00351686, 0.00352917, 0.00294781, 0.00223317, 0.00240846,\n",
       "        0.00227523, 0.00217295, 0.00224643, 0.00232668, 0.00227537,\n",
       "        0.00204172, 0.00202503]),\n",
       " 'std_fit_time': array([1.55876120e-04, 1.47021168e-04, 4.60051937e-04, 5.32540196e-04,\n",
       "        1.38336401e-04, 7.35783067e-05, 2.60973199e-04, 3.16126472e-04,\n",
       "        1.70972980e-04, 2.29206630e-04, 3.67040601e-04, 2.59089004e-04]),\n",
       " 'mean_score_time': array([0.00120182, 0.0012126 , 0.00094557, 0.00069623, 0.00095186,\n",
       "        0.00087152, 0.0007978 , 0.0008039 , 0.00084839, 0.0008163 ,\n",
       "        0.00069242, 0.00074744]),\n",
       " 'std_score_time': array([7.14146071e-05, 5.82610326e-05, 1.69996493e-04, 1.81725350e-04,\n",
       "        7.15701600e-05, 5.03357128e-05, 1.14045792e-04, 1.35968709e-04,\n",
       "        4.07048598e-05, 9.41264231e-05, 1.50636881e-04, 9.74865553e-05]),\n",
       " 'param_C': masked_array(data=[0.1, 0.1, 0.1, 1.0, 1.0, 1.0, 10.0, 10.0, 10.0, 100.0,\n",
       "                    100.0, 100.0],\n",
       "              mask=[False, False, False, False, False, False, False, False,\n",
       "                    False, False, False, False],\n",
       "        fill_value='?',\n",
       "             dtype=object),\n",
       " 'param_degree': masked_array(data=[1, 10, 100, 1, 10, 100, 1, 10, 100, 1, 10, 100],\n",
       "              mask=[False, False, False, False, False, False, False, False,\n",
       "                    False, False, False, False],\n",
       "        fill_value='?',\n",
       "             dtype=object),\n",
       " 'params': [{'C': 0.1, 'degree': 1},\n",
       "  {'C': 0.1, 'degree': 10},\n",
       "  {'C': 0.1, 'degree': 100},\n",
       "  {'C': 1.0, 'degree': 1},\n",
       "  {'C': 1.0, 'degree': 10},\n",
       "  {'C': 1.0, 'degree': 100},\n",
       "  {'C': 10.0, 'degree': 1},\n",
       "  {'C': 10.0, 'degree': 10},\n",
       "  {'C': 10.0, 'degree': 100},\n",
       "  {'C': 100.0, 'degree': 1},\n",
       "  {'C': 100.0, 'degree': 10},\n",
       "  {'C': 100.0, 'degree': 100}],\n",
       " 'split0_test_score': array([1.        , 1.        , 1.        , 0.91666667, 0.91666667,\n",
       "        0.91666667, 0.91666667, 0.91666667, 0.91666667, 0.91666667,\n",
       "        0.91666667, 0.91666667]),\n",
       " 'split1_test_score': array([0.875     , 0.875     , 0.875     , 1.        , 1.        ,\n",
       "        1.        , 1.        , 1.        , 1.        , 0.95833333,\n",
       "        0.95833333, 0.95833333]),\n",
       " 'split2_test_score': array([0.83333333, 0.83333333, 0.83333333, 0.95833333, 0.95833333,\n",
       "        0.95833333, 0.95833333, 0.95833333, 0.95833333, 0.95833333,\n",
       "        0.95833333, 0.95833333]),\n",
       " 'split3_test_score': array([0.83333333, 0.83333333, 0.83333333, 0.875     , 0.875     ,\n",
       "        0.875     , 0.91666667, 0.91666667, 0.91666667, 0.91666667,\n",
       "        0.91666667, 0.91666667]),\n",
       " 'split4_test_score': array([0.95833333, 0.95833333, 0.95833333, 1.        , 1.        ,\n",
       "        1.        , 1.        , 1.        , 1.        , 1.        ,\n",
       "        1.        , 1.        ]),\n",
       " 'mean_test_score': array([0.9       , 0.9       , 0.9       , 0.95      , 0.95      ,\n",
       "        0.95      , 0.95833333, 0.95833333, 0.95833333, 0.95      ,\n",
       "        0.95      , 0.95      ]),\n",
       " 'std_test_score': array([0.06770032, 0.06770032, 0.06770032, 0.04859127, 0.04859127,\n",
       "        0.04859127, 0.0372678 , 0.0372678 , 0.0372678 , 0.03118048,\n",
       "        0.03118048, 0.03118048]),\n",
       " 'rank_test_score': array([10, 10, 10,  4,  4,  4,  1,  1,  1,  4,  4,  4], dtype=int32)}"
      ]
     },
     "execution_count": 39,
     "metadata": {},
     "output_type": "execute_result"
    }
   ],
   "source": [
    "grid_search.cv_results_"
   ]
  },
  {
   "cell_type": "code",
   "execution_count": 40,
   "id": "68025623",
   "metadata": {
    "ExecuteTime": {
     "end_time": "2022-08-29T13:39:05.714299Z",
     "start_time": "2022-08-29T13:39:05.679804Z"
    }
   },
   "outputs": [
    {
     "data": {
      "text/html": [
       "<div>\n",
       "<style scoped>\n",
       "    .dataframe tbody tr th:only-of-type {\n",
       "        vertical-align: middle;\n",
       "    }\n",
       "\n",
       "    .dataframe tbody tr th {\n",
       "        vertical-align: top;\n",
       "    }\n",
       "\n",
       "    .dataframe thead th {\n",
       "        text-align: right;\n",
       "    }\n",
       "</style>\n",
       "<table border=\"1\" class=\"dataframe\">\n",
       "  <thead>\n",
       "    <tr style=\"text-align: right;\">\n",
       "      <th></th>\n",
       "      <th>mean_fit_time</th>\n",
       "      <th>std_fit_time</th>\n",
       "      <th>mean_score_time</th>\n",
       "      <th>std_score_time</th>\n",
       "      <th>param_C</th>\n",
       "      <th>param_degree</th>\n",
       "      <th>params</th>\n",
       "      <th>split0_test_score</th>\n",
       "      <th>split1_test_score</th>\n",
       "      <th>split2_test_score</th>\n",
       "      <th>split3_test_score</th>\n",
       "      <th>split4_test_score</th>\n",
       "      <th>mean_test_score</th>\n",
       "      <th>std_test_score</th>\n",
       "      <th>rank_test_score</th>\n",
       "    </tr>\n",
       "  </thead>\n",
       "  <tbody>\n",
       "    <tr>\n",
       "      <th>0</th>\n",
       "      <td>0.003517</td>\n",
       "      <td>0.000156</td>\n",
       "      <td>0.001202</td>\n",
       "      <td>0.000071</td>\n",
       "      <td>0.1</td>\n",
       "      <td>1</td>\n",
       "      <td>{'C': 0.1, 'degree': 1}</td>\n",
       "      <td>1.000000</td>\n",
       "      <td>0.875000</td>\n",
       "      <td>0.833333</td>\n",
       "      <td>0.833333</td>\n",
       "      <td>0.958333</td>\n",
       "      <td>0.900000</td>\n",
       "      <td>0.067700</td>\n",
       "      <td>10</td>\n",
       "    </tr>\n",
       "    <tr>\n",
       "      <th>1</th>\n",
       "      <td>0.003529</td>\n",
       "      <td>0.000147</td>\n",
       "      <td>0.001213</td>\n",
       "      <td>0.000058</td>\n",
       "      <td>0.1</td>\n",
       "      <td>10</td>\n",
       "      <td>{'C': 0.1, 'degree': 10}</td>\n",
       "      <td>1.000000</td>\n",
       "      <td>0.875000</td>\n",
       "      <td>0.833333</td>\n",
       "      <td>0.833333</td>\n",
       "      <td>0.958333</td>\n",
       "      <td>0.900000</td>\n",
       "      <td>0.067700</td>\n",
       "      <td>10</td>\n",
       "    </tr>\n",
       "    <tr>\n",
       "      <th>2</th>\n",
       "      <td>0.002948</td>\n",
       "      <td>0.000460</td>\n",
       "      <td>0.000946</td>\n",
       "      <td>0.000170</td>\n",
       "      <td>0.1</td>\n",
       "      <td>100</td>\n",
       "      <td>{'C': 0.1, 'degree': 100}</td>\n",
       "      <td>1.000000</td>\n",
       "      <td>0.875000</td>\n",
       "      <td>0.833333</td>\n",
       "      <td>0.833333</td>\n",
       "      <td>0.958333</td>\n",
       "      <td>0.900000</td>\n",
       "      <td>0.067700</td>\n",
       "      <td>10</td>\n",
       "    </tr>\n",
       "    <tr>\n",
       "      <th>3</th>\n",
       "      <td>0.002233</td>\n",
       "      <td>0.000533</td>\n",
       "      <td>0.000696</td>\n",
       "      <td>0.000182</td>\n",
       "      <td>1.0</td>\n",
       "      <td>1</td>\n",
       "      <td>{'C': 1.0, 'degree': 1}</td>\n",
       "      <td>0.916667</td>\n",
       "      <td>1.000000</td>\n",
       "      <td>0.958333</td>\n",
       "      <td>0.875000</td>\n",
       "      <td>1.000000</td>\n",
       "      <td>0.950000</td>\n",
       "      <td>0.048591</td>\n",
       "      <td>4</td>\n",
       "    </tr>\n",
       "    <tr>\n",
       "      <th>4</th>\n",
       "      <td>0.002408</td>\n",
       "      <td>0.000138</td>\n",
       "      <td>0.000952</td>\n",
       "      <td>0.000072</td>\n",
       "      <td>1.0</td>\n",
       "      <td>10</td>\n",
       "      <td>{'C': 1.0, 'degree': 10}</td>\n",
       "      <td>0.916667</td>\n",
       "      <td>1.000000</td>\n",
       "      <td>0.958333</td>\n",
       "      <td>0.875000</td>\n",
       "      <td>1.000000</td>\n",
       "      <td>0.950000</td>\n",
       "      <td>0.048591</td>\n",
       "      <td>4</td>\n",
       "    </tr>\n",
       "    <tr>\n",
       "      <th>5</th>\n",
       "      <td>0.002275</td>\n",
       "      <td>0.000074</td>\n",
       "      <td>0.000872</td>\n",
       "      <td>0.000050</td>\n",
       "      <td>1.0</td>\n",
       "      <td>100</td>\n",
       "      <td>{'C': 1.0, 'degree': 100}</td>\n",
       "      <td>0.916667</td>\n",
       "      <td>1.000000</td>\n",
       "      <td>0.958333</td>\n",
       "      <td>0.875000</td>\n",
       "      <td>1.000000</td>\n",
       "      <td>0.950000</td>\n",
       "      <td>0.048591</td>\n",
       "      <td>4</td>\n",
       "    </tr>\n",
       "    <tr>\n",
       "      <th>6</th>\n",
       "      <td>0.002173</td>\n",
       "      <td>0.000261</td>\n",
       "      <td>0.000798</td>\n",
       "      <td>0.000114</td>\n",
       "      <td>10.0</td>\n",
       "      <td>1</td>\n",
       "      <td>{'C': 10.0, 'degree': 1}</td>\n",
       "      <td>0.916667</td>\n",
       "      <td>1.000000</td>\n",
       "      <td>0.958333</td>\n",
       "      <td>0.916667</td>\n",
       "      <td>1.000000</td>\n",
       "      <td>0.958333</td>\n",
       "      <td>0.037268</td>\n",
       "      <td>1</td>\n",
       "    </tr>\n",
       "    <tr>\n",
       "      <th>7</th>\n",
       "      <td>0.002246</td>\n",
       "      <td>0.000316</td>\n",
       "      <td>0.000804</td>\n",
       "      <td>0.000136</td>\n",
       "      <td>10.0</td>\n",
       "      <td>10</td>\n",
       "      <td>{'C': 10.0, 'degree': 10}</td>\n",
       "      <td>0.916667</td>\n",
       "      <td>1.000000</td>\n",
       "      <td>0.958333</td>\n",
       "      <td>0.916667</td>\n",
       "      <td>1.000000</td>\n",
       "      <td>0.958333</td>\n",
       "      <td>0.037268</td>\n",
       "      <td>1</td>\n",
       "    </tr>\n",
       "    <tr>\n",
       "      <th>8</th>\n",
       "      <td>0.002327</td>\n",
       "      <td>0.000171</td>\n",
       "      <td>0.000848</td>\n",
       "      <td>0.000041</td>\n",
       "      <td>10.0</td>\n",
       "      <td>100</td>\n",
       "      <td>{'C': 10.0, 'degree': 100}</td>\n",
       "      <td>0.916667</td>\n",
       "      <td>1.000000</td>\n",
       "      <td>0.958333</td>\n",
       "      <td>0.916667</td>\n",
       "      <td>1.000000</td>\n",
       "      <td>0.958333</td>\n",
       "      <td>0.037268</td>\n",
       "      <td>1</td>\n",
       "    </tr>\n",
       "    <tr>\n",
       "      <th>9</th>\n",
       "      <td>0.002275</td>\n",
       "      <td>0.000229</td>\n",
       "      <td>0.000816</td>\n",
       "      <td>0.000094</td>\n",
       "      <td>100.0</td>\n",
       "      <td>1</td>\n",
       "      <td>{'C': 100.0, 'degree': 1}</td>\n",
       "      <td>0.916667</td>\n",
       "      <td>0.958333</td>\n",
       "      <td>0.958333</td>\n",
       "      <td>0.916667</td>\n",
       "      <td>1.000000</td>\n",
       "      <td>0.950000</td>\n",
       "      <td>0.031180</td>\n",
       "      <td>4</td>\n",
       "    </tr>\n",
       "    <tr>\n",
       "      <th>10</th>\n",
       "      <td>0.002042</td>\n",
       "      <td>0.000367</td>\n",
       "      <td>0.000692</td>\n",
       "      <td>0.000151</td>\n",
       "      <td>100.0</td>\n",
       "      <td>10</td>\n",
       "      <td>{'C': 100.0, 'degree': 10}</td>\n",
       "      <td>0.916667</td>\n",
       "      <td>0.958333</td>\n",
       "      <td>0.958333</td>\n",
       "      <td>0.916667</td>\n",
       "      <td>1.000000</td>\n",
       "      <td>0.950000</td>\n",
       "      <td>0.031180</td>\n",
       "      <td>4</td>\n",
       "    </tr>\n",
       "    <tr>\n",
       "      <th>11</th>\n",
       "      <td>0.002025</td>\n",
       "      <td>0.000259</td>\n",
       "      <td>0.000747</td>\n",
       "      <td>0.000097</td>\n",
       "      <td>100.0</td>\n",
       "      <td>100</td>\n",
       "      <td>{'C': 100.0, 'degree': 100}</td>\n",
       "      <td>0.916667</td>\n",
       "      <td>0.958333</td>\n",
       "      <td>0.958333</td>\n",
       "      <td>0.916667</td>\n",
       "      <td>1.000000</td>\n",
       "      <td>0.950000</td>\n",
       "      <td>0.031180</td>\n",
       "      <td>4</td>\n",
       "    </tr>\n",
       "  </tbody>\n",
       "</table>\n",
       "</div>"
      ],
      "text/plain": [
       "    mean_fit_time  std_fit_time  mean_score_time  std_score_time param_C  \\\n",
       "0        0.003517      0.000156         0.001202        0.000071     0.1   \n",
       "1        0.003529      0.000147         0.001213        0.000058     0.1   \n",
       "2        0.002948      0.000460         0.000946        0.000170     0.1   \n",
       "3        0.002233      0.000533         0.000696        0.000182     1.0   \n",
       "4        0.002408      0.000138         0.000952        0.000072     1.0   \n",
       "5        0.002275      0.000074         0.000872        0.000050     1.0   \n",
       "6        0.002173      0.000261         0.000798        0.000114    10.0   \n",
       "7        0.002246      0.000316         0.000804        0.000136    10.0   \n",
       "8        0.002327      0.000171         0.000848        0.000041    10.0   \n",
       "9        0.002275      0.000229         0.000816        0.000094   100.0   \n",
       "10       0.002042      0.000367         0.000692        0.000151   100.0   \n",
       "11       0.002025      0.000259         0.000747        0.000097   100.0   \n",
       "\n",
       "   param_degree                       params  split0_test_score  \\\n",
       "0             1      {'C': 0.1, 'degree': 1}           1.000000   \n",
       "1            10     {'C': 0.1, 'degree': 10}           1.000000   \n",
       "2           100    {'C': 0.1, 'degree': 100}           1.000000   \n",
       "3             1      {'C': 1.0, 'degree': 1}           0.916667   \n",
       "4            10     {'C': 1.0, 'degree': 10}           0.916667   \n",
       "5           100    {'C': 1.0, 'degree': 100}           0.916667   \n",
       "6             1     {'C': 10.0, 'degree': 1}           0.916667   \n",
       "7            10    {'C': 10.0, 'degree': 10}           0.916667   \n",
       "8           100   {'C': 10.0, 'degree': 100}           0.916667   \n",
       "9             1    {'C': 100.0, 'degree': 1}           0.916667   \n",
       "10           10   {'C': 100.0, 'degree': 10}           0.916667   \n",
       "11          100  {'C': 100.0, 'degree': 100}           0.916667   \n",
       "\n",
       "    split1_test_score  split2_test_score  split3_test_score  \\\n",
       "0            0.875000           0.833333           0.833333   \n",
       "1            0.875000           0.833333           0.833333   \n",
       "2            0.875000           0.833333           0.833333   \n",
       "3            1.000000           0.958333           0.875000   \n",
       "4            1.000000           0.958333           0.875000   \n",
       "5            1.000000           0.958333           0.875000   \n",
       "6            1.000000           0.958333           0.916667   \n",
       "7            1.000000           0.958333           0.916667   \n",
       "8            1.000000           0.958333           0.916667   \n",
       "9            0.958333           0.958333           0.916667   \n",
       "10           0.958333           0.958333           0.916667   \n",
       "11           0.958333           0.958333           0.916667   \n",
       "\n",
       "    split4_test_score  mean_test_score  std_test_score  rank_test_score  \n",
       "0            0.958333         0.900000        0.067700               10  \n",
       "1            0.958333         0.900000        0.067700               10  \n",
       "2            0.958333         0.900000        0.067700               10  \n",
       "3            1.000000         0.950000        0.048591                4  \n",
       "4            1.000000         0.950000        0.048591                4  \n",
       "5            1.000000         0.950000        0.048591                4  \n",
       "6            1.000000         0.958333        0.037268                1  \n",
       "7            1.000000         0.958333        0.037268                1  \n",
       "8            1.000000         0.958333        0.037268                1  \n",
       "9            1.000000         0.950000        0.031180                4  \n",
       "10           1.000000         0.950000        0.031180                4  \n",
       "11           1.000000         0.950000        0.031180                4  "
      ]
     },
     "execution_count": 40,
     "metadata": {},
     "output_type": "execute_result"
    }
   ],
   "source": [
    "pd.DataFrame(grid_search.cv_results_)"
   ]
  },
  {
   "cell_type": "markdown",
   "id": "0b612754",
   "metadata": {},
   "source": [
    "## 성능 평가\n",
    "<hr style=\"height:5px;border:none;color:#132e4f;background-color:#132e4f;\"/>"
   ]
  },
  {
   "cell_type": "code",
   "execution_count": 27,
   "id": "4d7abffa",
   "metadata": {
    "ExecuteTime": {
     "end_time": "2022-08-29T12:36:38.771019Z",
     "start_time": "2022-08-29T12:36:38.755550Z"
    }
   },
   "outputs": [
    {
     "name": "stdout",
     "output_type": "stream",
     "text": [
      "              precision    recall  f1-score   support\n",
      "\n",
      "           0       1.00      1.00      1.00        10\n",
      "           1       1.00      1.00      1.00         9\n",
      "           2       1.00      1.00      1.00        11\n",
      "\n",
      "    accuracy                           1.00        30\n",
      "   macro avg       1.00      1.00      1.00        30\n",
      "weighted avg       1.00      1.00      1.00        30\n",
      "\n"
     ]
    }
   ],
   "source": [
    "from sklearn.metrics import classification_report\n",
    "y_pred = model.predict(X_valid)\n",
    "print(classification_report(y_valid, y_pred))"
   ]
  },
  {
   "cell_type": "markdown",
   "id": "49ce3d86",
   "metadata": {},
   "source": [
    "## 참고자료\n",
    "<hr style=\"height:5px;border:none;color:#132e4f;background-color:#132e4f;\"/>"
   ]
  },
  {
   "cell_type": "markdown",
   "id": "5dec1acf",
   "metadata": {},
   "source": [
    "- "
   ]
  },
  {
   "cell_type": "markdown",
   "id": "c65da470",
   "metadata": {},
   "source": [
    "<br>\n",
    "\n",
    "<span style=\"color:rgb(120, 120, 120)\">본 학습 자료를 포함한 모든 자료의 저작권은 성민석에 있으며 제작자의 동의없이 외부로의 무단 복제, 배포 및 전송을 절대로 불허합니다.\n",
    "\n",
    "<b>Copyright ⓒ 2022. Minsuk Sung. All rights reserved.</b>\n",
    "</span>\n",
    "\n",
    "<br>"
   ]
  }
 ],
 "metadata": {
  "kernelspec": {
   "display_name": "Python 3",
   "language": "python",
   "name": "python3"
  },
  "language_info": {
   "codemirror_mode": {
    "name": "ipython",
    "version": 3
   },
   "file_extension": ".py",
   "mimetype": "text/x-python",
   "name": "python",
   "nbconvert_exporter": "python",
   "pygments_lexer": "ipython3",
   "version": "3.7.10"
  },
  "toc": {
   "base_numbering": 1,
   "nav_menu": {},
   "number_sections": true,
   "sideBar": true,
   "skip_h1_title": true,
   "title_cell": "목차",
   "title_sidebar": "내용",
   "toc_cell": true,
   "toc_position": {
    "height": "calc(100% - 180px)",
    "left": "10px",
    "top": "150px",
    "width": "165px"
   },
   "toc_section_display": true,
   "toc_window_display": true
  }
 },
 "nbformat": 4,
 "nbformat_minor": 5
}
