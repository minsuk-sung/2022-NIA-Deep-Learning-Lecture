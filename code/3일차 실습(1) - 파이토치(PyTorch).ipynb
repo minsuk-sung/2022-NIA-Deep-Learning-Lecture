{
 "cells": [
  {
   "cell_type": "markdown",
   "id": "133631a0",
   "metadata": {},
   "source": [
    "![](../img/banner_day3.png)\n",
    "\n",
    "<br>\n",
    "\n",
    "# 3일차 실습(1) - 파이토치(PyTorch)\n",
    "\n",
    "<br>\n",
    "<br>\n",
    "<div align='right'>강사 성민석</div>\n",
    "<div align='right'>고려대학교 인공지능학과 박사과정</div>\n",
    "<div align='right'>(minsuksung@korea.ac.kr)</div>"
   ]
  },
  {
   "cell_type": "markdown",
   "id": "50ded8c6",
   "metadata": {},
   "source": [
    "> <font color='red'><b>WARNING</b></font>: 본 컨텐츠는 **[저작권법 제25조 제2항](https://glaw.scourt.go.kr/wsjo/lawod/sjo192.do?contId=2135829&jomunNo=25)** 에 의해 강의 목적으로 이용한 저작물이 포함되어 있습니다.  \n",
    "> 해당 자료를 제작자의 동의없이 <font color='red'><b>외부에 임의로 공개 및 수정하는 것을 금지</b></font>하며 이를 위반하는 경우 저작권 침해로서 관련법에 따라 처벌될 수 있으니 주의해주시기 바랍니다."
   ]
  },
  {
   "cell_type": "markdown",
   "id": "5f24954f",
   "metadata": {
    "toc": true
   },
   "source": [
    "<h1>목차<span class=\"tocSkip\"></span></h1>\n",
    "<div class=\"toc\"><ul class=\"toc-item\"><li><span><a href=\"#파이토치-불러오기\" data-toc-modified-id=\"파이토치-불러오기-1\"><span class=\"toc-item-num\">1&nbsp;&nbsp;</span>파이토치 불러오기</a></span></li><li><span><a href=\"#파이토치에서-제공하는-함수들\" data-toc-modified-id=\"파이토치에서-제공하는-함수들-2\"><span class=\"toc-item-num\">2&nbsp;&nbsp;</span>파이토치에서 제공하는 함수들</a></span></li><li><span><a href=\"#파이토치-Autograd\" data-toc-modified-id=\"파이토치-Autograd-3\"><span class=\"toc-item-num\">3&nbsp;&nbsp;</span>파이토치 Autograd</a></span></li><li><span><a href=\"#모델-구현-및-학습하기\" data-toc-modified-id=\"모델-구현-및-학습하기-4\"><span class=\"toc-item-num\">4&nbsp;&nbsp;</span>모델 구현 및 학습하기</a></span></li><li><span><a href=\"#참고자료\" data-toc-modified-id=\"참고자료-5\"><span class=\"toc-item-num\">5&nbsp;&nbsp;</span>참고자료</a></span></li></ul></div>"
   ]
  },
  {
   "cell_type": "markdown",
   "id": "6cb072aa",
   "metadata": {},
   "source": [
    "## 파이토치 불러오기\n",
    "<hr style=\"height:5px;border:none;color:#132e4f;background-color:#132e4f;\"/>"
   ]
  },
  {
   "cell_type": "code",
   "execution_count": 12,
   "id": "24d1dbde",
   "metadata": {
    "ExecuteTime": {
     "end_time": "2022-08-29T16:09:53.796437Z",
     "start_time": "2022-08-29T16:09:53.792390Z"
    }
   },
   "outputs": [],
   "source": [
    "import torch\n",
    "import numpy as np"
   ]
  },
  {
   "cell_type": "code",
   "execution_count": 52,
   "id": "48272773",
   "metadata": {
    "ExecuteTime": {
     "end_time": "2022-08-29T16:13:06.601748Z",
     "start_time": "2022-08-29T16:13:06.560178Z"
    }
   },
   "outputs": [
    {
     "data": {
      "text/plain": [
       "True"
      ]
     },
     "execution_count": 52,
     "metadata": {},
     "output_type": "execute_result"
    }
   ],
   "source": [
    "torch.cuda.is_available()"
   ]
  },
  {
   "cell_type": "markdown",
   "id": "9e6bbe47",
   "metadata": {},
   "source": [
    "## 파이토치에서 제공하는 함수들\n",
    "<hr style=\"height:5px;border:none;color:#132e4f;background-color:#132e4f;\"/>"
   ]
  },
  {
   "cell_type": "code",
   "execution_count": 37,
   "id": "7a1118e5",
   "metadata": {
    "ExecuteTime": {
     "end_time": "2022-08-29T16:11:19.916858Z",
     "start_time": "2022-08-29T16:11:19.908962Z"
    }
   },
   "outputs": [
    {
     "data": {
      "text/plain": [
       "tensor([0, 1, 2, 3, 4, 5, 6, 7, 8])"
      ]
     },
     "execution_count": 37,
     "metadata": {},
     "output_type": "execute_result"
    }
   ],
   "source": [
    "a = torch.tensor([0, 1, 2, 3, 4, 5, 6, 7, 8])\n",
    "a"
   ]
  },
  {
   "cell_type": "code",
   "execution_count": 38,
   "id": "1145a7fe",
   "metadata": {
    "ExecuteTime": {
     "end_time": "2022-08-29T16:11:20.099998Z",
     "start_time": "2022-08-29T16:11:20.093535Z"
    }
   },
   "outputs": [
    {
     "data": {
      "text/plain": [
       "torch.Size([9])"
      ]
     },
     "execution_count": 38,
     "metadata": {},
     "output_type": "execute_result"
    }
   ],
   "source": [
    "a.shape"
   ]
  },
  {
   "cell_type": "code",
   "execution_count": 39,
   "id": "eccaa73b",
   "metadata": {
    "ExecuteTime": {
     "end_time": "2022-08-29T16:11:20.256580Z",
     "start_time": "2022-08-29T16:11:20.250141Z"
    }
   },
   "outputs": [
    {
     "data": {
      "text/plain": [
       "<function Tensor.type>"
      ]
     },
     "execution_count": 39,
     "metadata": {},
     "output_type": "execute_result"
    }
   ],
   "source": [
    "a.type"
   ]
  },
  {
   "cell_type": "code",
   "execution_count": 40,
   "id": "34535f07",
   "metadata": {
    "ExecuteTime": {
     "end_time": "2022-08-29T16:11:20.437562Z",
     "start_time": "2022-08-29T16:11:20.430620Z"
    }
   },
   "outputs": [
    {
     "data": {
      "text/plain": [
       "tensor(0)"
      ]
     },
     "execution_count": 40,
     "metadata": {},
     "output_type": "execute_result"
    }
   ],
   "source": [
    "a[0]"
   ]
  },
  {
   "cell_type": "code",
   "execution_count": 41,
   "id": "abfc5904",
   "metadata": {
    "ExecuteTime": {
     "end_time": "2022-08-29T16:11:20.618305Z",
     "start_time": "2022-08-29T16:11:20.611612Z"
    }
   },
   "outputs": [
    {
     "data": {
      "text/plain": [
       "0"
      ]
     },
     "execution_count": 41,
     "metadata": {},
     "output_type": "execute_result"
    }
   ],
   "source": [
    "a[0].item()"
   ]
  },
  {
   "cell_type": "code",
   "execution_count": 50,
   "id": "1badee72",
   "metadata": {
    "ExecuteTime": {
     "end_time": "2022-08-29T16:12:02.177852Z",
     "start_time": "2022-08-29T16:12:02.170468Z"
    }
   },
   "outputs": [
    {
     "data": {
      "text/plain": [
       "tensor([3, 4, 5, 6, 7, 8])"
      ]
     },
     "execution_count": 50,
     "metadata": {},
     "output_type": "execute_result"
    }
   ],
   "source": [
    "a[3:]"
   ]
  },
  {
   "cell_type": "code",
   "execution_count": 42,
   "id": "6bdca46d",
   "metadata": {
    "ExecuteTime": {
     "end_time": "2022-08-29T16:11:20.778649Z",
     "start_time": "2022-08-29T16:11:20.771789Z"
    }
   },
   "outputs": [
    {
     "data": {
      "text/plain": [
       "array([0, 1, 2, 3, 4, 5, 6, 7, 8])"
      ]
     },
     "execution_count": 42,
     "metadata": {},
     "output_type": "execute_result"
    }
   ],
   "source": [
    "a.numpy()"
   ]
  },
  {
   "cell_type": "code",
   "execution_count": 43,
   "id": "9c91919c",
   "metadata": {
    "ExecuteTime": {
     "end_time": "2022-08-29T16:11:20.965271Z",
     "start_time": "2022-08-29T16:11:20.958108Z"
    }
   },
   "outputs": [
    {
     "data": {
      "text/plain": [
       "tensor([[0, 1, 2],\n",
       "        [3, 4, 5],\n",
       "        [6, 7, 8]])"
      ]
     },
     "execution_count": 43,
     "metadata": {},
     "output_type": "execute_result"
    }
   ],
   "source": [
    "a.reshape(3,3)"
   ]
  },
  {
   "cell_type": "code",
   "execution_count": 44,
   "id": "fa8ca209",
   "metadata": {
    "ExecuteTime": {
     "end_time": "2022-08-29T16:11:21.145234Z",
     "start_time": "2022-08-29T16:11:21.139065Z"
    }
   },
   "outputs": [
    {
     "data": {
      "text/plain": [
       "tensor([[0.7159, 0.7704, 0.0083],\n",
       "        [0.2916, 0.1352, 0.9247],\n",
       "        [0.2982, 0.9415, 0.7291]])"
      ]
     },
     "execution_count": 44,
     "metadata": {},
     "output_type": "execute_result"
    }
   ],
   "source": [
    "torch.rand((3,3))"
   ]
  },
  {
   "cell_type": "code",
   "execution_count": 45,
   "id": "f0dc72dd",
   "metadata": {
    "ExecuteTime": {
     "end_time": "2022-08-29T16:11:21.323429Z",
     "start_time": "2022-08-29T16:11:21.316181Z"
    }
   },
   "outputs": [
    {
     "data": {
      "text/plain": [
       "tensor([[1., 1.],\n",
       "        [1., 1.],\n",
       "        [1., 1.]])"
      ]
     },
     "execution_count": 45,
     "metadata": {},
     "output_type": "execute_result"
    }
   ],
   "source": [
    "torch.ones((3,2))"
   ]
  },
  {
   "cell_type": "code",
   "execution_count": 46,
   "id": "a0eb3320",
   "metadata": {
    "ExecuteTime": {
     "end_time": "2022-08-29T16:11:21.683444Z",
     "start_time": "2022-08-29T16:11:21.676382Z"
    }
   },
   "outputs": [
    {
     "data": {
      "text/plain": [
       "tensor([[0., 0., 0.],\n",
       "        [0., 0., 0.]])"
      ]
     },
     "execution_count": 46,
     "metadata": {},
     "output_type": "execute_result"
    }
   ],
   "source": [
    "torch.zeros(2,3)"
   ]
  },
  {
   "cell_type": "code",
   "execution_count": 47,
   "id": "c89a82aa",
   "metadata": {
    "ExecuteTime": {
     "end_time": "2022-08-29T16:11:21.867940Z",
     "start_time": "2022-08-29T16:11:21.860750Z"
    }
   },
   "outputs": [
    {
     "data": {
      "text/plain": [
       "tensor([0, 1, 2, 3, 4, 5, 6, 7, 8])"
      ]
     },
     "execution_count": 47,
     "metadata": {},
     "output_type": "execute_result"
    }
   ],
   "source": [
    "torch.arange(9)"
   ]
  },
  {
   "cell_type": "code",
   "execution_count": 48,
   "id": "9e84acbc",
   "metadata": {
    "ExecuteTime": {
     "end_time": "2022-08-29T16:11:31.163676Z",
     "start_time": "2022-08-29T16:11:31.156597Z"
    }
   },
   "outputs": [
    {
     "data": {
      "text/plain": [
       "tensor([ 0,  3,  6,  9, 12, 15, 18, 21, 24])"
      ]
     },
     "execution_count": 48,
     "metadata": {},
     "output_type": "execute_result"
    }
   ],
   "source": [
    "a * 3"
   ]
  },
  {
   "cell_type": "code",
   "execution_count": 49,
   "id": "13df578e",
   "metadata": {
    "ExecuteTime": {
     "end_time": "2022-08-29T16:11:35.274717Z",
     "start_time": "2022-08-29T16:11:35.267692Z"
    }
   },
   "outputs": [
    {
     "data": {
      "text/plain": [
       "tensor([ 0,  2,  4,  6,  8, 10, 12, 14, 16])"
      ]
     },
     "execution_count": 49,
     "metadata": {},
     "output_type": "execute_result"
    }
   ],
   "source": [
    "a + a"
   ]
  },
  {
   "cell_type": "code",
   "execution_count": 53,
   "id": "f6f2b63d",
   "metadata": {
    "ExecuteTime": {
     "end_time": "2022-08-29T16:13:21.483697Z",
     "start_time": "2022-08-29T16:13:18.748515Z"
    }
   },
   "outputs": [
    {
     "data": {
      "text/plain": [
       "tensor([0, 1, 2, 3, 4, 5, 6, 7, 8], device='cuda:0')"
      ]
     },
     "execution_count": 53,
     "metadata": {},
     "output_type": "execute_result"
    }
   ],
   "source": [
    "a.to('cuda')"
   ]
  },
  {
   "cell_type": "markdown",
   "id": "e963009a",
   "metadata": {},
   "source": [
    "## 파이토치 Autograd\n",
    "<hr style=\"height:5px;border:none;color:#132e4f;background-color:#132e4f;\"/>\n",
    "\n",
    "자동 미분 을 사용하여 신경망에서 역전파 단계의 연산을 자동화할 수 있습니다. PyTorch의 autograd 패키지는 정확히 이런 기능을 제공합니다. Autograd를 사용할 때, 신경망의 순전파 단계는 연산 그래프 를 정의하게 됩니다; 이 그래프의 노드(node)는 Tensor, 엣지(edge)는 입력 Tensor로부터 출력 Tensor를 만들어내는 함수가 됩니다. 이 그래프를 통해 역전파를 하게 되면 변화도를 쉽게 계산할 수 있습니다."
   ]
  },
  {
   "cell_type": "code",
   "execution_count": 51,
   "id": "d7663cde",
   "metadata": {
    "ExecuteTime": {
     "end_time": "2022-08-29T16:12:50.479958Z",
     "start_time": "2022-08-29T16:12:50.471291Z"
    }
   },
   "outputs": [
    {
     "data": {
      "text/plain": [
       "tensor([[1., 1.],\n",
       "        [1., 1.]], requires_grad=True)"
      ]
     },
     "execution_count": 51,
     "metadata": {},
     "output_type": "execute_result"
    }
   ],
   "source": [
    "x = torch.ones(2,2,requires_grad=True)  # 드디어 학습시킬 수 있게끔 만들어줌\n",
    "x # x.requires_grad=True 인 Tensor면 x.grad 는 어떤 스칼라 값에 대한 x 의 변화도를 갖는 또 다른 Tensor"
   ]
  },
  {
   "cell_type": "markdown",
   "id": "dedd9f91",
   "metadata": {},
   "source": [
    "그라디언트가 필요한 Single Input이 있을 경우 이것의 output는 또한 그라디언트가 필요합니다. 반대로, 모든 input에 그래디언트가 필요하지 않은 경우엔 output 또한 필요하지 않습니다. 모든 변수들이 그래디언트가 필요하지 않다면 Backward 연산은 하위 그래프에서 이루어지지 않습니다.\n",
    "\n",
    "출처: [어쩐지 오늘은](https://zzsza.github.io/data/2018/02/03/pytorch-1/)"
   ]
  },
  {
   "cell_type": "code",
   "execution_count": 54,
   "id": "ff9aecb6",
   "metadata": {
    "ExecuteTime": {
     "end_time": "2022-08-29T16:14:21.822022Z",
     "start_time": "2022-08-29T16:14:21.817570Z"
    }
   },
   "outputs": [],
   "source": [
    "x.grad # gradient가 없는걸 확인가능"
   ]
  },
  {
   "cell_type": "markdown",
   "id": "dafda10e",
   "metadata": {},
   "source": [
    "$$ y = x + 2 $$\n",
    "$$ z = y^2 + 3 $$"
   ]
  },
  {
   "cell_type": "code",
   "execution_count": 55,
   "id": "d9f46bf9",
   "metadata": {
    "ExecuteTime": {
     "end_time": "2022-08-29T16:14:25.985778Z",
     "start_time": "2022-08-29T16:14:25.977172Z"
    }
   },
   "outputs": [
    {
     "name": "stdout",
     "output_type": "stream",
     "text": [
      "tensor([[12., 12.],\n",
      "        [12., 12.]], grad_fn=<AddBackward0>) tensor(12., grad_fn=<MeanBackward0>)\n"
     ]
    }
   ],
   "source": [
    "y = x + 2\n",
    "z = y*y + 3\n",
    "out = z.mean()\n",
    "print(z,out)"
   ]
  },
  {
   "cell_type": "code",
   "execution_count": 56,
   "id": "21869a2b",
   "metadata": {
    "ExecuteTime": {
     "end_time": "2022-08-29T16:14:31.098375Z",
     "start_time": "2022-08-29T16:14:31.090232Z"
    }
   },
   "outputs": [],
   "source": [
    "out.backward()  # gradient를 흘려보내줌"
   ]
  },
  {
   "cell_type": "code",
   "execution_count": 57,
   "id": "4c6cd184",
   "metadata": {
    "ExecuteTime": {
     "end_time": "2022-08-29T16:14:34.833893Z",
     "start_time": "2022-08-29T16:14:34.826347Z"
    }
   },
   "outputs": [
    {
     "data": {
      "text/plain": [
       "tensor([[1.5000, 1.5000],\n",
       "        [1.5000, 1.5000]])"
      ]
     },
     "execution_count": 57,
     "metadata": {},
     "output_type": "execute_result"
    }
   ],
   "source": [
    "x.grad  # gradient가 생김"
   ]
  },
  {
   "cell_type": "code",
   "execution_count": 58,
   "id": "ac9ddc9d",
   "metadata": {
    "ExecuteTime": {
     "end_time": "2022-08-29T16:14:41.841831Z",
     "start_time": "2022-08-29T16:14:41.835294Z"
    }
   },
   "outputs": [
    {
     "data": {
      "text/plain": [
       "True"
      ]
     },
     "execution_count": 58,
     "metadata": {},
     "output_type": "execute_result"
    }
   ],
   "source": [
    "x.requires_grad "
   ]
  },
  {
   "cell_type": "markdown",
   "id": "f0361b7f",
   "metadata": {},
   "source": [
    "## 모델 구현 및 학습하기\n",
    "<hr style=\"height:5px;border:none;color:#132e4f;background-color:#132e4f;\"/>"
   ]
  },
  {
   "cell_type": "markdown",
   "id": "cc1486bf",
   "metadata": {},
   "source": [
    "![](../img/pipeline2.png)"
   ]
  },
  {
   "cell_type": "code",
   "execution_count": 59,
   "id": "c615b3e6",
   "metadata": {
    "ExecuteTime": {
     "end_time": "2022-08-29T16:37:19.151016Z",
     "start_time": "2022-08-29T16:37:19.145589Z"
    }
   },
   "outputs": [],
   "source": [
    "import torch\n",
    "import torch.nn as nn\n",
    "import torch.optim as optim\n",
    "import torch.nn.init as init\n",
    "import torch.nn.functional as F"
   ]
  },
  {
   "cell_type": "code",
   "execution_count": 2,
   "id": "423bb308",
   "metadata": {
    "ExecuteTime": {
     "end_time": "2022-08-29T16:34:22.209703Z",
     "start_time": "2022-08-29T16:34:22.205511Z"
    }
   },
   "outputs": [],
   "source": [
    "num_data = 1000\n",
    "num_epoch = 10000"
   ]
  },
  {
   "cell_type": "code",
   "execution_count": 19,
   "id": "60c10790",
   "metadata": {
    "ExecuteTime": {
     "end_time": "2022-08-29T16:36:35.738850Z",
     "start_time": "2022-08-29T16:36:35.731887Z"
    }
   },
   "outputs": [],
   "source": [
    "noise = init.normal_(torch.FloatTensor(num_data,1),std=1)\n",
    "X = init.uniform_(torch.Tensor(num_data,1),-15,15)\n",
    "y = (X**2) + 3\n",
    "y_true = y + noise"
   ]
  },
  {
   "cell_type": "code",
   "execution_count": 20,
   "id": "256963e7",
   "metadata": {
    "ExecuteTime": {
     "end_time": "2022-08-29T16:36:35.906159Z",
     "start_time": "2022-08-29T16:36:35.897005Z"
    }
   },
   "outputs": [],
   "source": [
    "class Net(nn.Module):\n",
    "    def __init__(self):\n",
    "        super(Net,self).__init__()\n",
    "        self.fc1 = nn.Linear(1,6)\n",
    "        self.fc2 = nn.Linear(6,10)\n",
    "        self.fc3 = nn.Linear(10,6)\n",
    "        self.fc4 = nn.Linear(6,1)\n",
    "        \n",
    "    def forward(self,x):\n",
    "        x = F.relu(self.fc1(x))\n",
    "        x = F.relu(self.fc2(x))\n",
    "        x = F.relu(self.fc3(x))\n",
    "        output = self.fc4(x)\n",
    "        return output"
   ]
  },
  {
   "cell_type": "code",
   "execution_count": 21,
   "id": "a2955a79",
   "metadata": {
    "ExecuteTime": {
     "end_time": "2022-08-29T16:36:36.066792Z",
     "start_time": "2022-08-29T16:36:36.059490Z"
    }
   },
   "outputs": [
    {
     "data": {
      "text/plain": [
       "Net(\n",
       "  (fc1): Linear(in_features=1, out_features=6, bias=True)\n",
       "  (fc2): Linear(in_features=6, out_features=10, bias=True)\n",
       "  (fc3): Linear(in_features=10, out_features=6, bias=True)\n",
       "  (fc4): Linear(in_features=6, out_features=1, bias=True)\n",
       ")"
      ]
     },
     "execution_count": 21,
     "metadata": {},
     "output_type": "execute_result"
    }
   ],
   "source": [
    "model = Net()  # 신경망\n",
    "model"
   ]
  },
  {
   "cell_type": "code",
   "execution_count": 22,
   "id": "85278a9b",
   "metadata": {
    "ExecuteTime": {
     "end_time": "2022-08-29T16:36:36.223980Z",
     "start_time": "2022-08-29T16:36:36.220237Z"
    }
   },
   "outputs": [],
   "source": [
    "loss_fn = nn.L1Loss()  # 손실함수\n",
    "optimizer = optim.SGD(model.parameters(),lr=0.001)  # 최적화함수"
   ]
  },
  {
   "cell_type": "code",
   "execution_count": 23,
   "id": "bd2cc72f",
   "metadata": {
    "ExecuteTime": {
     "end_time": "2022-08-29T16:36:43.872265Z",
     "start_time": "2022-08-29T16:36:36.388927Z"
    }
   },
   "outputs": [
    {
     "name": "stdout",
     "output_type": "stream",
     "text": [
      "Epoch    0 \t Loss: 77.5985488892\n",
      "Epoch  500 \t Loss: 19.0614871979\n",
      "Epoch 1000 \t Loss: 13.1061983109\n",
      "Epoch 1500 \t Loss: 6.3533883095\n",
      "Epoch 2000 \t Loss: 8.6333122253\n",
      "Epoch 2500 \t Loss: 5.5777578354\n",
      "Epoch 3000 \t Loss: 5.2168588638\n",
      "Epoch 3500 \t Loss: 6.7135305405\n",
      "Epoch 4000 \t Loss: 6.1792216301\n",
      "Epoch 4500 \t Loss: 5.8730125427\n",
      "Epoch 5000 \t Loss: 6.4420671463\n",
      "Epoch 5500 \t Loss: 5.9999427795\n",
      "Epoch 6000 \t Loss: 5.0412755013\n",
      "Epoch 6500 \t Loss: 5.1942505836\n",
      "Epoch 7000 \t Loss: 5.1121211052\n",
      "Epoch 7500 \t Loss: 5.0143489838\n",
      "Epoch 8000 \t Loss: 4.9693946838\n",
      "Epoch 8500 \t Loss: 4.9071946144\n",
      "Epoch 9000 \t Loss: 4.8178796768\n",
      "Epoch 9500 \t Loss: 4.9052772522\n"
     ]
    }
   ],
   "source": [
    "loss_array = []\n",
    "for i in range(num_epoch):\n",
    "    optimizer.zero_grad()  # gradients를 clear해서 새로운 최적화 값을 찾기 위해 준비\n",
    "    y_pred = model(X) # 준비한 데이터를 model에 input으로 넣어 output을 얻음\n",
    "    loss = loss_fn(y_pred,y_true)\n",
    "    loss.backward()  # 그래디언트를 구해서\n",
    "    optimizer.step()  # 앞서 구한 그래디언트를 통해서 업데이트!!\n",
    "    \n",
    "    if i % 500 == 0:\n",
    "        print(f'Epoch {i:>4} \\t Loss: {loss:>4.10f}')\n",
    "        \n",
    "    loss_array.append(loss.item())"
   ]
  },
  {
   "cell_type": "code",
   "execution_count": 24,
   "id": "99c7b597",
   "metadata": {
    "ExecuteTime": {
     "end_time": "2022-08-29T16:36:43.989778Z",
     "start_time": "2022-08-29T16:36:43.873581Z"
    }
   },
   "outputs": [
    {
     "data": {
      "image/png": "[encoded data removed]",
      "text/plain": [
       "<Figure size 432x288 with 1 Axes>"
      ]
     },
     "metadata": {
      "needs_background": "light"
     },
     "output_type": "display_data"
    }
   ],
   "source": [
    "import matplotlib.pyplot as plt\n",
    "plt.plot(loss_array)\n",
    "plt.show()"
   ]
  },
  {
   "cell_type": "code",
   "execution_count": 25,
   "id": "1562a1b4",
   "metadata": {
    "ExecuteTime": {
     "end_time": "2022-08-29T16:36:44.164511Z",
     "start_time": "2022-08-29T16:36:43.991268Z"
    }
   },
   "outputs": [
    {
     "data": {
      "image/png": "[encoded data removed]",
      "text/plain": [
       "<Figure size 432x288 with 1 Axes>"
      ]
     },
     "metadata": {
      "needs_background": "light"
     },
     "output_type": "display_data"
    }
   ],
   "source": [
    "plt.scatter(X,y_pred.detach().numpy(),alpha=0.1,label='Prediction')\n",
    "plt.scatter(X,y_true,alpha=0.1,label='Ground Truth')\n",
    "plt.ylim(0,30)\n",
    "plt.grid(True)\n",
    "plt.legend()\n",
    "plt.show()"
   ]
  },
  {
   "cell_type": "markdown",
   "id": "49ce3d86",
   "metadata": {},
   "source": [
    "## 참고자료\n",
    "<hr style=\"height:5px;border:none;color:#132e4f;background-color:#132e4f;\"/>"
   ]
  },
  {
   "cell_type": "markdown",
   "id": "5dec1acf",
   "metadata": {},
   "source": [
    "- ㅇㅇ"
   ]
  },
  {
   "cell_type": "markdown",
   "id": "c65da470",
   "metadata": {},
   "source": [
    "<br>\n",
    "\n",
    "<span style=\"color:rgb(120, 120, 120)\">본 학습 자료를 포함한 모든 자료의 저작권은 성민석에 있으며 제작자의 동의없이 외부로의 무단 복제, 배포 및 전송을 절대로 불허합니다.\n",
    "\n",
    "<b>Copyright ⓒ 2022. Minsuk Sung. All rights reserved.</b>\n",
    "</span>\n",
    "\n",
    "<br>"
   ]
  }
 ],
 "metadata": {
  "kernelspec": {
   "display_name": "Python 3",
   "language": "python",
   "name": "python3"
  },
  "language_info": {
   "codemirror_mode": {
    "name": "ipython",
    "version": 3
   },
   "file_extension": ".py",
   "mimetype": "text/x-python",
   "name": "python",
   "nbconvert_exporter": "python",
   "pygments_lexer": "ipython3",
   "version": "3.7.10"
  },
  "toc": {
   "base_numbering": 1,
   "nav_menu": {},
   "number_sections": true,
   "sideBar": true,
   "skip_h1_title": true,
   "title_cell": "목차",
   "title_sidebar": "내용",
   "toc_cell": true,
   "toc_position": {
    "height": "calc(100% - 180px)",
    "left": "10px",
    "top": "150px",
    "width": "165px"
   },
   "toc_section_display": true,
   "toc_window_display": true
  }
 },
 "nbformat": 4,
 "nbformat_minor": 5
}
