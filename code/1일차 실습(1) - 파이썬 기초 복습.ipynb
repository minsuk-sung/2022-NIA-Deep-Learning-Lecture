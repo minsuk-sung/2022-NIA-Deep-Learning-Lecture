{
 "cells": [
  {
   "cell_type": "markdown",
   "id": "f4405472",
   "metadata": {},
   "source": [
    "![](../img/banner.png)\n",
    "\n",
    "<br>\n",
    "\n",
    "# 1일차 실습(1) - 파이썬 기초 복습\n",
    "\n",
    "<br>\n",
    "<br>\n",
    "<div align='right'>강사 성민석</div>\n",
    "<div align='right'>고려대학교 인공지능학과 박사과정</div>\n",
    "<div align='right'>(minsuksung@korea.ac.kr)</div>"
   ]
  },
  {
   "cell_type": "markdown",
   "id": "50ded8c6",
   "metadata": {},
   "source": [
    "> <font color='red'><b>WARNING</b></font>: 본 컨텐츠는 **[저작권법 제25조 제2항](https://glaw.scourt.go.kr/wsjo/lawod/sjo192.do?contId=2135829&jomunNo=25)** 에 의해 강의 목적으로 이용한 저작물이 포함되어 있습니다.  \n",
    "> 해당 자료를 제작자의 동의없이 <font color='red'><b>외부에 임의로 공개 및 수정하는 것을 금지</b></font>하며 이를 위반하는 경우 저작권 침해로서 관련법에 따라 처벌될 수 있으니 주의해주시기 바랍니다."
   ]
  },
  {
   "cell_type": "markdown",
   "id": "5f24954f",
   "metadata": {
    "toc": true
   },
   "source": [
    "<h1>목차<span class=\"tocSkip\"></span></h1>\n",
    "<div class=\"toc\"><ul class=\"toc-item\"><li><span><a href=\"#기초-자료형\" data-toc-modified-id=\"기초-자료형-1\"><span class=\"toc-item-num\">1&nbsp;&nbsp;</span>기초 자료형</a></span></li><li><span><a href=\"#제어문\" data-toc-modified-id=\"제어문-2\"><span class=\"toc-item-num\">2&nbsp;&nbsp;</span>제어문</a></span></li><li><span><a href=\"#반복문\" data-toc-modified-id=\"반복문-3\"><span class=\"toc-item-num\">3&nbsp;&nbsp;</span>반복문</a></span></li><li><span><a href=\"#함수\" data-toc-modified-id=\"함수-4\"><span class=\"toc-item-num\">4&nbsp;&nbsp;</span>함수</a></span></li><li><span><a href=\"#클래스\" data-toc-modified-id=\"클래스-5\"><span class=\"toc-item-num\">5&nbsp;&nbsp;</span>클래스</a></span></li><li><span><a href=\"#참고자료\" data-toc-modified-id=\"참고자료-6\"><span class=\"toc-item-num\">6&nbsp;&nbsp;</span>참고자료</a></span></li></ul></div>"
   ]
  },
  {
   "cell_type": "markdown",
   "id": "6cb072aa",
   "metadata": {},
   "source": [
    "## 기초 자료형\n",
    "<hr style=\"height:5px;border:none;color:#B00A2B;background-color:#B00A2B;\"/>"
   ]
  },
  {
   "cell_type": "markdown",
   "id": "749d4980",
   "metadata": {},
   "source": [
    "<div style=\"background:rgb(255,135,0,0.1);padding:20px;margin: 20px;color:black;\">\n",
    "    <b>설명</b>\n",
    "    <ul>\n",
    "        <li>ㅇㅇㅇㅇㅇ</li>\n",
    "    </ul>\n",
    "</div>"
   ]
  },
  {
   "cell_type": "code",
   "execution_count": null,
   "id": "6fd4eff0",
   "metadata": {},
   "outputs": [],
   "source": []
  },
  {
   "cell_type": "markdown",
   "id": "07e05366",
   "metadata": {},
   "source": [
    "## 제어문\n",
    "<hr style=\"height:5px;border:none;color:#B00A2B;background-color:#B00A2B;\"/>"
   ]
  },
  {
   "cell_type": "code",
   "execution_count": null,
   "id": "4e42ea13",
   "metadata": {},
   "outputs": [],
   "source": []
  },
  {
   "cell_type": "markdown",
   "id": "5fd2da08",
   "metadata": {},
   "source": [
    "## 반복문\n",
    "<hr style=\"height:5px;border:none;color:#B00A2B;background-color:#B00A2B;\"/>"
   ]
  },
  {
   "cell_type": "code",
   "execution_count": null,
   "id": "178b08e3",
   "metadata": {},
   "outputs": [],
   "source": []
  },
  {
   "cell_type": "markdown",
   "id": "6130c3f2",
   "metadata": {},
   "source": [
    "## 함수\n",
    "<hr style=\"height:5px;border:none;color:#B00A2B;background-color:#B00A2B;\"/>"
   ]
  },
  {
   "cell_type": "code",
   "execution_count": null,
   "id": "66ef7765",
   "metadata": {},
   "outputs": [],
   "source": []
  },
  {
   "cell_type": "markdown",
   "id": "7bac530f",
   "metadata": {},
   "source": [
    "## 클래스\n",
    "<hr style=\"height:5px;border:none;color:#B00A2B;background-color:#B00A2B;\"/>"
   ]
  },
  {
   "cell_type": "code",
   "execution_count": null,
   "id": "24d1dbde",
   "metadata": {},
   "outputs": [],
   "source": []
  },
  {
   "cell_type": "markdown",
   "id": "49ce3d86",
   "metadata": {},
   "source": [
    "## 참고자료"
   ]
  },
  {
   "cell_type": "markdown",
   "id": "5dec1acf",
   "metadata": {},
   "source": [
    "- ㅇㅇ"
   ]
  },
  {
   "cell_type": "markdown",
   "id": "c65da470",
   "metadata": {},
   "source": [
    "<br>\n",
    "\n",
    "<span style=\"color:rgb(120, 120, 120)\">본 학습 자료를 포함한 모든 자료의 저작권은 성민석에 있으며 외부로의 무단 복제, 배포 및 전송을 절대로 불허합니다.\n",
    "\n",
    "<b>Copyright @ 성민석 All Rights Reserved.</b>\n",
    "</span>\n",
    "\n",
    "<br>"
   ]
  }
 ],
 "metadata": {
  "kernelspec": {
   "display_name": "Python 3",
   "language": "python",
   "name": "python3"
  },
  "language_info": {
   "codemirror_mode": {
    "name": "ipython",
    "version": 3
   },
   "file_extension": ".py",
   "mimetype": "text/x-python",
   "name": "python",
   "nbconvert_exporter": "python",
   "pygments_lexer": "ipython3",
   "version": "3.7.10"
  },
  "toc": {
   "base_numbering": 1,
   "nav_menu": {},
   "number_sections": true,
   "sideBar": true,
   "skip_h1_title": true,
   "title_cell": "목차",
   "title_sidebar": "내용",
   "toc_cell": true,
   "toc_position": {
    "height": "calc(100% - 180px)",
    "left": "10px",
    "top": "150px",
    "width": "165px"
   },
   "toc_section_display": true,
   "toc_window_display": true
  }
 },
 "nbformat": 4,
 "nbformat_minor": 5
}
