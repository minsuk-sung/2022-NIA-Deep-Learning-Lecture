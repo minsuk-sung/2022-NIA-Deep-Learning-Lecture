{
 "cells": [
  {
   "cell_type": "markdown",
   "id": "03d69eb6",
   "metadata": {},
   "source": [
    "![](../img/banner_day2.png)\n",
    "\n",
    "<br>\n",
    "\n",
    "# 2일차 실습(1) - 랜덤 포레스트(Random Forest)\n",
    "\n",
    "<br>\n",
    "<br>\n",
    "<div align='right'>강사 성민석</div>\n",
    "<div align='right'>고려대학교 인공지능학과 박사과정</div>\n",
    "<div align='right'>(minsuksung@korea.ac.kr)</div>"
   ]
  },
  {
   "cell_type": "markdown",
   "id": "3b27a47d",
   "metadata": {},
   "source": [
    "> <font color='red'><b>WARNING</b></font>: 본 컨텐츠는 **[저작권법 제25조 제2항](https://glaw.scourt.go.kr/wsjo/lawod/sjo192.do?contId=2135829&jomunNo=25)** 에 의해 강의 목적으로 이용한 저작물이 포함되어 있습니다.  \n",
    "> 해당 자료를 제작자의 동의없이 <font color='red'><b>외부에 임의로 공개 및 수정하는 것을 금지</b></font>하며 이를 위반하는 경우 저작권 침해로서 관련법에 따라 처벌될 수 있으니 주의해주시기 바랍니다."
   ]
  },
  {
   "cell_type": "markdown",
   "id": "61fa4600",
   "metadata": {
    "toc": true
   },
   "source": [
    "<h1>목차<span class=\"tocSkip\"></span></h1>\n",
    "<div class=\"toc\"><ul class=\"toc-item\"><li><span><a href=\"#데이터-불러오기\" data-toc-modified-id=\"데이터-불러오기-1\"><span class=\"toc-item-num\">1&nbsp;&nbsp;</span>데이터 불러오기</a></span></li><li><span><a href=\"#탐색적-데이터-분석\" data-toc-modified-id=\"탐색적-데이터-분석-2\"><span class=\"toc-item-num\">2&nbsp;&nbsp;</span>탐색적 데이터 분석</a></span><ul class=\"toc-item\"><li><span><a href=\"#datetime\" data-toc-modified-id=\"datetime-2.1\"><span class=\"toc-item-num\">2.1&nbsp;&nbsp;</span>datetime</a></span></li><li><span><a href=\"#count\" data-toc-modified-id=\"count-2.2\"><span class=\"toc-item-num\">2.2&nbsp;&nbsp;</span>count</a></span></li><li><span><a href=\"#season\" data-toc-modified-id=\"season-2.3\"><span class=\"toc-item-num\">2.3&nbsp;&nbsp;</span>season</a></span></li><li><span><a href=\"#holiday\" data-toc-modified-id=\"holiday-2.4\"><span class=\"toc-item-num\">2.4&nbsp;&nbsp;</span>holiday</a></span></li><li><span><a href=\"#workingday\" data-toc-modified-id=\"workingday-2.5\"><span class=\"toc-item-num\">2.5&nbsp;&nbsp;</span>workingday</a></span></li><li><span><a href=\"#weather\" data-toc-modified-id=\"weather-2.6\"><span class=\"toc-item-num\">2.6&nbsp;&nbsp;</span>weather</a></span></li><li><span><a href=\"#temp-&amp;-atemp\" data-toc-modified-id=\"temp-&amp;-atemp-2.7\"><span class=\"toc-item-num\">2.7&nbsp;&nbsp;</span>temp &amp; atemp</a></span></li><li><span><a href=\"#humidity\" data-toc-modified-id=\"humidity-2.8\"><span class=\"toc-item-num\">2.8&nbsp;&nbsp;</span>humidity</a></span></li><li><span><a href=\"#windspeed\" data-toc-modified-id=\"windspeed-2.9\"><span class=\"toc-item-num\">2.9&nbsp;&nbsp;</span>windspeed</a></span></li><li><span><a href=\"#casual-&amp;-registered\" data-toc-modified-id=\"casual-&amp;-registered-2.10\"><span class=\"toc-item-num\">2.10&nbsp;&nbsp;</span>casual &amp; registered</a></span></li></ul></li><li><span><a href=\"#데이터-전처리\" data-toc-modified-id=\"데이터-전처리-3\"><span class=\"toc-item-num\">3&nbsp;&nbsp;</span>데이터 전처리</a></span></li><li><span><a href=\"#피처-엔지니어링\" data-toc-modified-id=\"피처-엔지니어링-4\"><span class=\"toc-item-num\">4&nbsp;&nbsp;</span>피처 엔지니어링</a></span><ul class=\"toc-item\"><li><span><a href=\"#최종-피처-선택\" data-toc-modified-id=\"최종-피처-선택-4.1\"><span class=\"toc-item-num\">4.1&nbsp;&nbsp;</span>최종 피처 선택</a></span></li><li><span><a href=\"#원핫-인코딩\" data-toc-modified-id=\"원핫-인코딩-4.2\"><span class=\"toc-item-num\">4.2&nbsp;&nbsp;</span>원핫 인코딩</a></span></li><li><span><a href=\"#데이터셋-나누기\" data-toc-modified-id=\"데이터셋-나누기-4.3\"><span class=\"toc-item-num\">4.3&nbsp;&nbsp;</span>데이터셋 나누기</a></span></li></ul></li><li><span><a href=\"#모델링\" data-toc-modified-id=\"모델링-5\"><span class=\"toc-item-num\">5&nbsp;&nbsp;</span>모델링</a></span><ul class=\"toc-item\"><li><span><a href=\"#선형회귀\" data-toc-modified-id=\"선형회귀-5.1\"><span class=\"toc-item-num\">5.1&nbsp;&nbsp;</span>선형회귀</a></span></li><li><span><a href=\"#나이브베이즈\" data-toc-modified-id=\"나이브베이즈-5.2\"><span class=\"toc-item-num\">5.2&nbsp;&nbsp;</span>나이브베이즈</a></span></li><li><span><a href=\"#서포트-벡터-머신\" data-toc-modified-id=\"서포트-벡터-머신-5.3\"><span class=\"toc-item-num\">5.3&nbsp;&nbsp;</span>서포트 벡터 머신</a></span></li><li><span><a href=\"#의사결정나무\" data-toc-modified-id=\"의사결정나무-5.4\"><span class=\"toc-item-num\">5.4&nbsp;&nbsp;</span>의사결정나무</a></span></li><li><span><a href=\"#랜덤포레스트\" data-toc-modified-id=\"랜덤포레스트-5.5\"><span class=\"toc-item-num\">5.5&nbsp;&nbsp;</span>랜덤포레스트</a></span></li></ul></li><li><span><a href=\"#하이퍼파라미터-튜닝\" data-toc-modified-id=\"하이퍼파라미터-튜닝-6\"><span class=\"toc-item-num\">6&nbsp;&nbsp;</span>하이퍼파라미터 튜닝</a></span></li><li><span><a href=\"#성능-평가\" data-toc-modified-id=\"성능-평가-7\"><span class=\"toc-item-num\">7&nbsp;&nbsp;</span>성능 평가</a></span></li><li><span><a href=\"#참고자료\" data-toc-modified-id=\"참고자료-8\"><span class=\"toc-item-num\">8&nbsp;&nbsp;</span>참고자료</a></span></li></ul></div>"
   ]
  },
  {
   "cell_type": "markdown",
   "id": "4ad90a20",
   "metadata": {},
   "source": [
    "![](../img/pipeline.png)"
   ]
  },
  {
   "cell_type": "code",
   "execution_count": 1,
   "id": "185ad96a",
   "metadata": {
    "ExecuteTime": {
     "end_time": "2022-08-30T13:11:08.428163Z",
     "start_time": "2022-08-30T13:11:07.640883Z"
    }
   },
   "outputs": [],
   "source": [
    "import os\n",
    "import sys\n",
    "import warnings\n",
    "import numpy as np\n",
    "import pandas as pd\n",
    "import matplotlib as mpl\n",
    "import matplotlib.pyplot as plt\n",
    "import seaborn as sns"
   ]
  },
  {
   "cell_type": "code",
   "execution_count": 2,
   "id": "e4943043",
   "metadata": {
    "ExecuteTime": {
     "end_time": "2022-08-30T13:11:08.434526Z",
     "start_time": "2022-08-30T13:11:08.429881Z"
    }
   },
   "outputs": [
    {
     "data": {
      "text/plain": [
       "True"
      ]
     },
     "execution_count": 2,
     "metadata": {},
     "output_type": "execute_result"
    }
   ],
   "source": [
    "# 나눔고딕 폰트 적용\n",
    "plt.rcParams[\"font.family\"] = 'NanumGothic'\n",
    "\n",
    "# 유니코드 깨짐현상 해결\n",
    "mpl.rcParams['axes.unicode_minus']"
   ]
  },
  {
   "cell_type": "code",
   "execution_count": 3,
   "id": "426e43a9",
   "metadata": {
    "ExecuteTime": {
     "end_time": "2022-08-30T13:11:08.447672Z",
     "start_time": "2022-08-30T13:11:08.435859Z"
    }
   },
   "outputs": [],
   "source": [
    "warnings.filterwarnings(action='ignore')"
   ]
  },
  {
   "cell_type": "markdown",
   "id": "14d45fdb",
   "metadata": {},
   "source": [
    "## 데이터 불러오기\n",
    "<hr style=\"height:5px;border:none;color:#132e4f;background-color:#132e4f;\"/>\n",
    "\n",
    "![](https://storage.googleapis.com/kaggle-competitions/kaggle/3948/media/bikes.png)"
   ]
  },
  {
   "cell_type": "markdown",
   "id": "78470da5",
   "metadata": {},
   "source": [
    "해당 데이터셋에는 <b>2011년 1월부터 2012년 12월까지</b> 날짜/시간, 기온, 습도, 풍속 등의 정보를 기반으로 <b>1시간 간격 동안의 자전거 대여 횟수</b>가 기재되어 있습니다.  \n",
    "데이터 세트의 주요 변수는 다음과 같습니다. 이 중 타겟 변수는 마지막의 <font color='red'><b>count</b></font>로 <font color='red'><b>'대여 횟수'</b></font>를 의미합니다.  \n",
    "- <b>datetime</b>: hourly date + timestamp\n",
    "- <b>season</b>: 1=봄, 2=여름, 3=가을, 4=겨울\n",
    "- <b>holiday</b>: 1=주말을 제외한 국경일 등의 휴일, 0=휴일이 아닌 날\n",
    "- <b>workingday</b>: 1=주말 및 휴일이 아닌 주중, 0=주말 및 휴일\n",
    "- <b>weather</b>  \n",
    "1=맑음, 약간 구름 낀 흐림  \n",
    "2=안개, 안개 + 흐림  \n",
    "3=가벼운 눈, 가벼운 비 + 천둥  \n",
    "4=심한 눈/비, 천둥/번개  \n",
    "- <b>temp</b>: 온도(섭씨)\n",
    "- <b>atemp</b>: 체감온도(섭씨)\n",
    "- <b>humidity</b>: 상대습도\n",
    "- <b>windspeed</b>: 풍속\n",
    "- <b>casual</b>: 사전에 등록되지 않은 사용자가 대여한 횟수\n",
    "- <b>registered</b>: 사전에 등록된 사용자가 대여한 횟수\n",
    "- <b>count</b>: 대여 횟수"
   ]
  },
  {
   "cell_type": "code",
   "execution_count": 4,
   "id": "e008a813",
   "metadata": {
    "ExecuteTime": {
     "end_time": "2022-08-30T13:11:08.482192Z",
     "start_time": "2022-08-30T13:11:08.448984Z"
    }
   },
   "outputs": [],
   "source": [
    "train = pd.read_csv('./data/bike-sharing-demand/train.csv')\n",
    "test = pd.read_csv('./data/bike-sharing-demand/test.csv')"
   ]
  },
  {
   "cell_type": "code",
   "execution_count": 5,
   "id": "f1ccdb74",
   "metadata": {
    "ExecuteTime": {
     "end_time": "2022-08-30T13:11:08.495224Z",
     "start_time": "2022-08-30T13:11:08.483575Z"
    }
   },
   "outputs": [
    {
     "data": {
      "text/html": [
       "<div>\n",
       "<style scoped>\n",
       "    .dataframe tbody tr th:only-of-type {\n",
       "        vertical-align: middle;\n",
       "    }\n",
       "\n",
       "    .dataframe tbody tr th {\n",
       "        vertical-align: top;\n",
       "    }\n",
       "\n",
       "    .dataframe thead th {\n",
       "        text-align: right;\n",
       "    }\n",
       "</style>\n",
       "<table border=\"1\" class=\"dataframe\">\n",
       "  <thead>\n",
       "    <tr style=\"text-align: right;\">\n",
       "      <th></th>\n",
       "      <th>datetime</th>\n",
       "      <th>season</th>\n",
       "      <th>holiday</th>\n",
       "      <th>workingday</th>\n",
       "      <th>weather</th>\n",
       "      <th>temp</th>\n",
       "      <th>atemp</th>\n",
       "      <th>humidity</th>\n",
       "      <th>windspeed</th>\n",
       "      <th>casual</th>\n",
       "      <th>registered</th>\n",
       "      <th>count</th>\n",
       "    </tr>\n",
       "  </thead>\n",
       "  <tbody>\n",
       "    <tr>\n",
       "      <th>0</th>\n",
       "      <td>2011-01-01 00:00:00</td>\n",
       "      <td>1</td>\n",
       "      <td>0</td>\n",
       "      <td>0</td>\n",
       "      <td>1</td>\n",
       "      <td>9.84</td>\n",
       "      <td>14.395</td>\n",
       "      <td>81</td>\n",
       "      <td>0.0</td>\n",
       "      <td>3</td>\n",
       "      <td>13</td>\n",
       "      <td>16</td>\n",
       "    </tr>\n",
       "    <tr>\n",
       "      <th>1</th>\n",
       "      <td>2011-01-01 01:00:00</td>\n",
       "      <td>1</td>\n",
       "      <td>0</td>\n",
       "      <td>0</td>\n",
       "      <td>1</td>\n",
       "      <td>9.02</td>\n",
       "      <td>13.635</td>\n",
       "      <td>80</td>\n",
       "      <td>0.0</td>\n",
       "      <td>8</td>\n",
       "      <td>32</td>\n",
       "      <td>40</td>\n",
       "    </tr>\n",
       "    <tr>\n",
       "      <th>2</th>\n",
       "      <td>2011-01-01 02:00:00</td>\n",
       "      <td>1</td>\n",
       "      <td>0</td>\n",
       "      <td>0</td>\n",
       "      <td>1</td>\n",
       "      <td>9.02</td>\n",
       "      <td>13.635</td>\n",
       "      <td>80</td>\n",
       "      <td>0.0</td>\n",
       "      <td>5</td>\n",
       "      <td>27</td>\n",
       "      <td>32</td>\n",
       "    </tr>\n",
       "    <tr>\n",
       "      <th>3</th>\n",
       "      <td>2011-01-01 03:00:00</td>\n",
       "      <td>1</td>\n",
       "      <td>0</td>\n",
       "      <td>0</td>\n",
       "      <td>1</td>\n",
       "      <td>9.84</td>\n",
       "      <td>14.395</td>\n",
       "      <td>75</td>\n",
       "      <td>0.0</td>\n",
       "      <td>3</td>\n",
       "      <td>10</td>\n",
       "      <td>13</td>\n",
       "    </tr>\n",
       "    <tr>\n",
       "      <th>4</th>\n",
       "      <td>2011-01-01 04:00:00</td>\n",
       "      <td>1</td>\n",
       "      <td>0</td>\n",
       "      <td>0</td>\n",
       "      <td>1</td>\n",
       "      <td>9.84</td>\n",
       "      <td>14.395</td>\n",
       "      <td>75</td>\n",
       "      <td>0.0</td>\n",
       "      <td>0</td>\n",
       "      <td>1</td>\n",
       "      <td>1</td>\n",
       "    </tr>\n",
       "  </tbody>\n",
       "</table>\n",
       "</div>"
      ],
      "text/plain": [
       "              datetime  season  holiday  workingday  weather  temp   atemp  \\\n",
       "0  2011-01-01 00:00:00       1        0           0        1  9.84  14.395   \n",
       "1  2011-01-01 01:00:00       1        0           0        1  9.02  13.635   \n",
       "2  2011-01-01 02:00:00       1        0           0        1  9.02  13.635   \n",
       "3  2011-01-01 03:00:00       1        0           0        1  9.84  14.395   \n",
       "4  2011-01-01 04:00:00       1        0           0        1  9.84  14.395   \n",
       "\n",
       "   humidity  windspeed  casual  registered  count  \n",
       "0        81        0.0       3          13     16  \n",
       "1        80        0.0       8          32     40  \n",
       "2        80        0.0       5          27     32  \n",
       "3        75        0.0       3          10     13  \n",
       "4        75        0.0       0           1      1  "
      ]
     },
     "execution_count": 5,
     "metadata": {},
     "output_type": "execute_result"
    }
   ],
   "source": [
    "train.head()"
   ]
  },
  {
   "cell_type": "code",
   "execution_count": 6,
   "id": "c25267d7",
   "metadata": {
    "ExecuteTime": {
     "end_time": "2022-08-30T13:11:08.525875Z",
     "start_time": "2022-08-30T13:11:08.496393Z"
    }
   },
   "outputs": [
    {
     "data": {
      "text/html": [
       "<div>\n",
       "<style scoped>\n",
       "    .dataframe tbody tr th:only-of-type {\n",
       "        vertical-align: middle;\n",
       "    }\n",
       "\n",
       "    .dataframe tbody tr th {\n",
       "        vertical-align: top;\n",
       "    }\n",
       "\n",
       "    .dataframe thead th {\n",
       "        text-align: right;\n",
       "    }\n",
       "</style>\n",
       "<table border=\"1\" class=\"dataframe\">\n",
       "  <thead>\n",
       "    <tr style=\"text-align: right;\">\n",
       "      <th></th>\n",
       "      <th>datetime</th>\n",
       "      <th>season</th>\n",
       "      <th>holiday</th>\n",
       "      <th>workingday</th>\n",
       "      <th>weather</th>\n",
       "      <th>temp</th>\n",
       "      <th>atemp</th>\n",
       "      <th>humidity</th>\n",
       "      <th>windspeed</th>\n",
       "    </tr>\n",
       "  </thead>\n",
       "  <tbody>\n",
       "    <tr>\n",
       "      <th>0</th>\n",
       "      <td>2011-01-20 00:00:00</td>\n",
       "      <td>1</td>\n",
       "      <td>0</td>\n",
       "      <td>1</td>\n",
       "      <td>1</td>\n",
       "      <td>10.66</td>\n",
       "      <td>11.365</td>\n",
       "      <td>56</td>\n",
       "      <td>26.0027</td>\n",
       "    </tr>\n",
       "    <tr>\n",
       "      <th>1</th>\n",
       "      <td>2011-01-20 01:00:00</td>\n",
       "      <td>1</td>\n",
       "      <td>0</td>\n",
       "      <td>1</td>\n",
       "      <td>1</td>\n",
       "      <td>10.66</td>\n",
       "      <td>13.635</td>\n",
       "      <td>56</td>\n",
       "      <td>0.0000</td>\n",
       "    </tr>\n",
       "    <tr>\n",
       "      <th>2</th>\n",
       "      <td>2011-01-20 02:00:00</td>\n",
       "      <td>1</td>\n",
       "      <td>0</td>\n",
       "      <td>1</td>\n",
       "      <td>1</td>\n",
       "      <td>10.66</td>\n",
       "      <td>13.635</td>\n",
       "      <td>56</td>\n",
       "      <td>0.0000</td>\n",
       "    </tr>\n",
       "    <tr>\n",
       "      <th>3</th>\n",
       "      <td>2011-01-20 03:00:00</td>\n",
       "      <td>1</td>\n",
       "      <td>0</td>\n",
       "      <td>1</td>\n",
       "      <td>1</td>\n",
       "      <td>10.66</td>\n",
       "      <td>12.880</td>\n",
       "      <td>56</td>\n",
       "      <td>11.0014</td>\n",
       "    </tr>\n",
       "    <tr>\n",
       "      <th>4</th>\n",
       "      <td>2011-01-20 04:00:00</td>\n",
       "      <td>1</td>\n",
       "      <td>0</td>\n",
       "      <td>1</td>\n",
       "      <td>1</td>\n",
       "      <td>10.66</td>\n",
       "      <td>12.880</td>\n",
       "      <td>56</td>\n",
       "      <td>11.0014</td>\n",
       "    </tr>\n",
       "  </tbody>\n",
       "</table>\n",
       "</div>"
      ],
      "text/plain": [
       "              datetime  season  holiday  workingday  weather   temp   atemp  \\\n",
       "0  2011-01-20 00:00:00       1        0           1        1  10.66  11.365   \n",
       "1  2011-01-20 01:00:00       1        0           1        1  10.66  13.635   \n",
       "2  2011-01-20 02:00:00       1        0           1        1  10.66  13.635   \n",
       "3  2011-01-20 03:00:00       1        0           1        1  10.66  12.880   \n",
       "4  2011-01-20 04:00:00       1        0           1        1  10.66  12.880   \n",
       "\n",
       "   humidity  windspeed  \n",
       "0        56    26.0027  \n",
       "1        56     0.0000  \n",
       "2        56     0.0000  \n",
       "3        56    11.0014  \n",
       "4        56    11.0014  "
      ]
     },
     "execution_count": 6,
     "metadata": {},
     "output_type": "execute_result"
    }
   ],
   "source": [
    "test.head()"
   ]
  },
  {
   "cell_type": "markdown",
   "id": "77c07bb6",
   "metadata": {},
   "source": [
    "## 탐색적 데이터 분석\n",
    "<hr style=\"height:5px;border:none;color:#132e4f;background-color:#132e4f;\"/>"
   ]
  },
  {
   "cell_type": "code",
   "execution_count": 73,
   "id": "87a8c93b",
   "metadata": {
    "ExecuteTime": {
     "end_time": "2022-08-30T13:12:32.544739Z",
     "start_time": "2022-08-30T13:12:32.538268Z"
    }
   },
   "outputs": [
    {
     "data": {
      "text/plain": [
       "(10886, 16)"
      ]
     },
     "execution_count": 73,
     "metadata": {},
     "output_type": "execute_result"
    }
   ],
   "source": [
    "train.shape, test.shape"
   ]
  },
  {
   "cell_type": "code",
   "execution_count": 75,
   "id": "9a9f6a83",
   "metadata": {
    "ExecuteTime": {
     "end_time": "2022-08-30T13:12:45.820047Z",
     "start_time": "2022-08-30T13:12:45.798929Z"
    }
   },
   "outputs": [
    {
     "name": "stdout",
     "output_type": "stream",
     "text": [
      "<class 'pandas.core.frame.DataFrame'>\n",
      "RangeIndex: 10886 entries, 0 to 10885\n",
      "Data columns (total 16 columns):\n",
      " #   Column      Non-Null Count  Dtype  \n",
      "---  ------      --------------  -----  \n",
      " 0   datetime    10886 non-null  object \n",
      " 1   season      10886 non-null  int64  \n",
      " 2   holiday     10886 non-null  int64  \n",
      " 3   workingday  10886 non-null  int64  \n",
      " 4   weather     10886 non-null  int64  \n",
      " 5   temp        10886 non-null  float64\n",
      " 6   atemp       10886 non-null  float64\n",
      " 7   humidity    10886 non-null  int64  \n",
      " 8   windspeed   10886 non-null  float64\n",
      " 9   casual      10886 non-null  int64  \n",
      " 10  registered  10886 non-null  int64  \n",
      " 11  count       10886 non-null  int64  \n",
      " 12  year        10886 non-null  object \n",
      " 13  month       10886 non-null  object \n",
      " 14  day         10886 non-null  object \n",
      " 15  hour        10886 non-null  object \n",
      "dtypes: float64(3), int64(8), object(5)\n",
      "memory usage: 1.3+ MB\n"
     ]
    }
   ],
   "source": [
    "train.info()"
   ]
  },
  {
   "cell_type": "code",
   "execution_count": 76,
   "id": "f1120d26",
   "metadata": {
    "ExecuteTime": {
     "end_time": "2022-08-30T13:12:51.922506Z",
     "start_time": "2022-08-30T13:12:51.868708Z"
    }
   },
   "outputs": [
    {
     "data": {
      "text/html": [
       "<div>\n",
       "<style scoped>\n",
       "    .dataframe tbody tr th:only-of-type {\n",
       "        vertical-align: middle;\n",
       "    }\n",
       "\n",
       "    .dataframe tbody tr th {\n",
       "        vertical-align: top;\n",
       "    }\n",
       "\n",
       "    .dataframe thead th {\n",
       "        text-align: right;\n",
       "    }\n",
       "</style>\n",
       "<table border=\"1\" class=\"dataframe\">\n",
       "  <thead>\n",
       "    <tr style=\"text-align: right;\">\n",
       "      <th></th>\n",
       "      <th>season</th>\n",
       "      <th>holiday</th>\n",
       "      <th>workingday</th>\n",
       "      <th>weather</th>\n",
       "      <th>temp</th>\n",
       "      <th>atemp</th>\n",
       "      <th>humidity</th>\n",
       "      <th>windspeed</th>\n",
       "      <th>casual</th>\n",
       "      <th>registered</th>\n",
       "      <th>count</th>\n",
       "    </tr>\n",
       "  </thead>\n",
       "  <tbody>\n",
       "    <tr>\n",
       "      <th>count</th>\n",
       "      <td>10886.000000</td>\n",
       "      <td>10886.000000</td>\n",
       "      <td>10886.000000</td>\n",
       "      <td>10886.000000</td>\n",
       "      <td>10886.00000</td>\n",
       "      <td>10886.000000</td>\n",
       "      <td>10886.000000</td>\n",
       "      <td>10886.000000</td>\n",
       "      <td>10886.000000</td>\n",
       "      <td>10886.000000</td>\n",
       "      <td>10886.000000</td>\n",
       "    </tr>\n",
       "    <tr>\n",
       "      <th>mean</th>\n",
       "      <td>2.506614</td>\n",
       "      <td>0.028569</td>\n",
       "      <td>0.680875</td>\n",
       "      <td>1.418427</td>\n",
       "      <td>20.23086</td>\n",
       "      <td>23.655084</td>\n",
       "      <td>61.886460</td>\n",
       "      <td>12.799395</td>\n",
       "      <td>36.021955</td>\n",
       "      <td>155.552177</td>\n",
       "      <td>191.574132</td>\n",
       "    </tr>\n",
       "    <tr>\n",
       "      <th>std</th>\n",
       "      <td>1.116174</td>\n",
       "      <td>0.166599</td>\n",
       "      <td>0.466159</td>\n",
       "      <td>0.633839</td>\n",
       "      <td>7.79159</td>\n",
       "      <td>8.474601</td>\n",
       "      <td>19.245033</td>\n",
       "      <td>8.164537</td>\n",
       "      <td>49.960477</td>\n",
       "      <td>151.039033</td>\n",
       "      <td>181.144454</td>\n",
       "    </tr>\n",
       "    <tr>\n",
       "      <th>min</th>\n",
       "      <td>1.000000</td>\n",
       "      <td>0.000000</td>\n",
       "      <td>0.000000</td>\n",
       "      <td>1.000000</td>\n",
       "      <td>0.82000</td>\n",
       "      <td>0.760000</td>\n",
       "      <td>0.000000</td>\n",
       "      <td>0.000000</td>\n",
       "      <td>0.000000</td>\n",
       "      <td>0.000000</td>\n",
       "      <td>1.000000</td>\n",
       "    </tr>\n",
       "    <tr>\n",
       "      <th>25%</th>\n",
       "      <td>2.000000</td>\n",
       "      <td>0.000000</td>\n",
       "      <td>0.000000</td>\n",
       "      <td>1.000000</td>\n",
       "      <td>13.94000</td>\n",
       "      <td>16.665000</td>\n",
       "      <td>47.000000</td>\n",
       "      <td>7.001500</td>\n",
       "      <td>4.000000</td>\n",
       "      <td>36.000000</td>\n",
       "      <td>42.000000</td>\n",
       "    </tr>\n",
       "    <tr>\n",
       "      <th>50%</th>\n",
       "      <td>3.000000</td>\n",
       "      <td>0.000000</td>\n",
       "      <td>1.000000</td>\n",
       "      <td>1.000000</td>\n",
       "      <td>20.50000</td>\n",
       "      <td>24.240000</td>\n",
       "      <td>62.000000</td>\n",
       "      <td>12.998000</td>\n",
       "      <td>17.000000</td>\n",
       "      <td>118.000000</td>\n",
       "      <td>145.000000</td>\n",
       "    </tr>\n",
       "    <tr>\n",
       "      <th>75%</th>\n",
       "      <td>4.000000</td>\n",
       "      <td>0.000000</td>\n",
       "      <td>1.000000</td>\n",
       "      <td>2.000000</td>\n",
       "      <td>26.24000</td>\n",
       "      <td>31.060000</td>\n",
       "      <td>77.000000</td>\n",
       "      <td>16.997900</td>\n",
       "      <td>49.000000</td>\n",
       "      <td>222.000000</td>\n",
       "      <td>284.000000</td>\n",
       "    </tr>\n",
       "    <tr>\n",
       "      <th>max</th>\n",
       "      <td>4.000000</td>\n",
       "      <td>1.000000</td>\n",
       "      <td>1.000000</td>\n",
       "      <td>4.000000</td>\n",
       "      <td>41.00000</td>\n",
       "      <td>45.455000</td>\n",
       "      <td>100.000000</td>\n",
       "      <td>56.996900</td>\n",
       "      <td>367.000000</td>\n",
       "      <td>886.000000</td>\n",
       "      <td>977.000000</td>\n",
       "    </tr>\n",
       "  </tbody>\n",
       "</table>\n",
       "</div>"
      ],
      "text/plain": [
       "             season       holiday    workingday       weather         temp  \\\n",
       "count  10886.000000  10886.000000  10886.000000  10886.000000  10886.00000   \n",
       "mean       2.506614      0.028569      0.680875      1.418427     20.23086   \n",
       "std        1.116174      0.166599      0.466159      0.633839      7.79159   \n",
       "min        1.000000      0.000000      0.000000      1.000000      0.82000   \n",
       "25%        2.000000      0.000000      0.000000      1.000000     13.94000   \n",
       "50%        3.000000      0.000000      1.000000      1.000000     20.50000   \n",
       "75%        4.000000      0.000000      1.000000      2.000000     26.24000   \n",
       "max        4.000000      1.000000      1.000000      4.000000     41.00000   \n",
       "\n",
       "              atemp      humidity     windspeed        casual    registered  \\\n",
       "count  10886.000000  10886.000000  10886.000000  10886.000000  10886.000000   \n",
       "mean      23.655084     61.886460     12.799395     36.021955    155.552177   \n",
       "std        8.474601     19.245033      8.164537     49.960477    151.039033   \n",
       "min        0.760000      0.000000      0.000000      0.000000      0.000000   \n",
       "25%       16.665000     47.000000      7.001500      4.000000     36.000000   \n",
       "50%       24.240000     62.000000     12.998000     17.000000    118.000000   \n",
       "75%       31.060000     77.000000     16.997900     49.000000    222.000000   \n",
       "max       45.455000    100.000000     56.996900    367.000000    886.000000   \n",
       "\n",
       "              count  \n",
       "count  10886.000000  \n",
       "mean     191.574132  \n",
       "std      181.144454  \n",
       "min        1.000000  \n",
       "25%       42.000000  \n",
       "50%      145.000000  \n",
       "75%      284.000000  \n",
       "max      977.000000  "
      ]
     },
     "execution_count": 76,
     "metadata": {},
     "output_type": "execute_result"
    }
   ],
   "source": [
    "train.describe()"
   ]
  },
  {
   "cell_type": "markdown",
   "id": "94742708",
   "metadata": {},
   "source": [
    "### datetime"
   ]
  },
  {
   "cell_type": "code",
   "execution_count": 7,
   "id": "4783768d",
   "metadata": {
    "ExecuteTime": {
     "end_time": "2022-08-30T13:11:08.564119Z",
     "start_time": "2022-08-30T13:11:08.528564Z"
    }
   },
   "outputs": [],
   "source": [
    "# year\n",
    "train['year'] = train['datetime'].map(lambda x:x[:4])\n",
    "test['year'] = test['datetime'].map(lambda x:x[:4])"
   ]
  },
  {
   "cell_type": "code",
   "execution_count": 8,
   "id": "e3941e0b",
   "metadata": {
    "ExecuteTime": {
     "end_time": "2022-08-30T13:11:08.586031Z",
     "start_time": "2022-08-30T13:11:08.566440Z"
    }
   },
   "outputs": [],
   "source": [
    "# month\n",
    "train['month'] = train['datetime'].map(lambda x:x[5:7])\n",
    "test['month'] = test['datetime'].map(lambda x:x[5:7])"
   ]
  },
  {
   "cell_type": "code",
   "execution_count": 9,
   "id": "b075e718",
   "metadata": {
    "ExecuteTime": {
     "end_time": "2022-08-30T13:11:08.604988Z",
     "start_time": "2022-08-30T13:11:08.587943Z"
    }
   },
   "outputs": [],
   "source": [
    "# day\n",
    "train['day'] = train['datetime'].map(lambda x:x[8:10])\n",
    "test['day'] = test['datetime'].map(lambda x:x[8:10])"
   ]
  },
  {
   "cell_type": "code",
   "execution_count": 10,
   "id": "fdec159f",
   "metadata": {
    "ExecuteTime": {
     "end_time": "2022-08-30T13:11:08.627634Z",
     "start_time": "2022-08-30T13:11:08.606830Z"
    }
   },
   "outputs": [],
   "source": [
    "# hour\n",
    "train['hour'] = train['datetime'].map(lambda x:x[11:13])\n",
    "test['hour'] = test['datetime'].map(lambda x:x[11:13])"
   ]
  },
  {
   "cell_type": "code",
   "execution_count": 11,
   "id": "e34a3fd2",
   "metadata": {
    "ExecuteTime": {
     "end_time": "2022-08-30T13:11:08.644589Z",
     "start_time": "2022-08-30T13:11:08.629262Z"
    }
   },
   "outputs": [
    {
     "name": "stdout",
     "output_type": "stream",
     "text": [
      "TRAIN: ['01' '02' '03' '04' '05' '06' '07' '08' '09' '10' '11' '12' '13' '14'\n",
      " '15' '16' '17' '18' '19']\n",
      "TEST: ['20' '21' '22' '23' '24' '25' '26' '27' '28' '29' '30' '31']\n"
     ]
    }
   ],
   "source": [
    "# [주의] 매월 1일~19일은 train, 20일~31일은 test\n",
    "\n",
    "# ex) 2011.01.01~2011.01.19 : train\n",
    "#     2011.01.20~2011.01.31 : test\n",
    "\n",
    "# ex) 2011.12.01~2011.12.19 : train\n",
    "#     2011.12.20~2011.12.31 : test\n",
    "\n",
    "print('TRAIN:', train['day'].unique())\n",
    "print('TEST:', test['day'].unique())"
   ]
  },
  {
   "cell_type": "markdown",
   "id": "96d07806",
   "metadata": {},
   "source": [
    "### count"
   ]
  },
  {
   "cell_type": "code",
   "execution_count": 12,
   "id": "de4a960a",
   "metadata": {
    "ExecuteTime": {
     "end_time": "2022-08-30T13:11:08.661824Z",
     "start_time": "2022-08-30T13:11:08.646494Z"
    }
   },
   "outputs": [
    {
     "data": {
      "text/plain": [
       "count    10886.000000\n",
       "mean       191.574132\n",
       "std        181.144454\n",
       "min          1.000000\n",
       "25%         42.000000\n",
       "50%        145.000000\n",
       "75%        284.000000\n",
       "max        977.000000\n",
       "Name: count, dtype: float64"
      ]
     },
     "execution_count": 12,
     "metadata": {},
     "output_type": "execute_result"
    }
   ],
   "source": [
    "train['count'].describe()"
   ]
  },
  {
   "cell_type": "code",
   "execution_count": 13,
   "id": "665173ac",
   "metadata": {
    "ExecuteTime": {
     "end_time": "2022-08-30T13:11:08.875773Z",
     "start_time": "2022-08-30T13:11:08.663901Z"
    }
   },
   "outputs": [
    {
     "data": {
      "image/png": "[encoded data removed]",
      "text/plain": [
       "<Figure size 1152x432 with 1 Axes>"
      ]
     },
     "metadata": {
      "needs_background": "light"
     },
     "output_type": "display_data"
    }
   ],
   "source": [
    "# 연결이 안된 곳은 test이기 때문\n",
    "train.index = pd.to_datetime(train['datetime'])\n",
    "plt.figure(figsize=(16,6))\n",
    "plt.plot(train['count'], color='skyblue')\n",
    "plt.xlabel('날짜(datetime)')\n",
    "plt.ylabel('자전거대여수(count)')\n",
    "plt.show()"
   ]
  },
  {
   "cell_type": "markdown",
   "id": "99f41f7e",
   "metadata": {},
   "source": [
    "### season"
   ]
  },
  {
   "cell_type": "code",
   "execution_count": 14,
   "id": "7f8b8a66",
   "metadata": {
    "ExecuteTime": {
     "end_time": "2022-08-30T13:11:08.881258Z",
     "start_time": "2022-08-30T13:11:08.877087Z"
    }
   },
   "outputs": [
    {
     "data": {
      "text/plain": [
       "4    2734\n",
       "2    2733\n",
       "3    2733\n",
       "1    2686\n",
       "Name: season, dtype: int64"
      ]
     },
     "execution_count": 14,
     "metadata": {},
     "output_type": "execute_result"
    }
   ],
   "source": [
    "train['season'].value_counts()"
   ]
  },
  {
   "cell_type": "code",
   "execution_count": 15,
   "id": "e4c4db45",
   "metadata": {
    "ExecuteTime": {
     "end_time": "2022-08-30T13:11:09.085156Z",
     "start_time": "2022-08-30T13:11:08.882413Z"
    }
   },
   "outputs": [
    {
     "data": {
      "image/png": "[encoded data removed]",
      "text/plain": [
       "<Figure size 1152x432 with 1 Axes>"
      ]
     },
     "metadata": {
      "needs_background": "light"
     },
     "output_type": "display_data"
    }
   ],
   "source": [
    "plt.figure(figsize=(16,6))\n",
    "plt.plot(train[train['season']==1]['count'], color='pink') # 1월~3월\n",
    "plt.plot(train[train['season']==2]['count'], color='orange', alpha=0.5) # 4월~6월\n",
    "plt.plot(train[train['season']==3]['count'], color='lightgreen') # 7월~9월\n",
    "plt.plot(train[train['season']==4]['count'], color='skyblue') # 10월~12월\n",
    "plt.xlabel('날짜(datetime)')\n",
    "plt.ylabel('자전거대여수(count)')\n",
    "plt.show()"
   ]
  },
  {
   "cell_type": "code",
   "execution_count": 16,
   "id": "0c3a2ef9",
   "metadata": {
    "ExecuteTime": {
     "end_time": "2022-08-30T13:11:09.220203Z",
     "start_time": "2022-08-30T13:11:09.086495Z"
    }
   },
   "outputs": [
    {
     "data": {
      "image/png": "[encoded data removed]",
      "text/plain": [
       "<Figure size 576x288 with 1 Axes>"
      ]
     },
     "metadata": {
      "needs_background": "light"
     },
     "output_type": "display_data"
    }
   ],
   "source": [
    "plt.figure(figsize=(8,4))\n",
    "sns.boxplot(\n",
    "    data=train,\n",
    "    x='season',\n",
    "    y='count',\n",
    "    palette='Pastel1'\n",
    ")\n",
    "plt.xticks(range(4), ['1월~3월','4월~6월','7월~9월','10월~12월'])\n",
    "plt.xlabel('계절(season)')\n",
    "plt.ylabel('자전거대여수(count)')\n",
    "plt.show()"
   ]
  },
  {
   "cell_type": "markdown",
   "id": "10c01826",
   "metadata": {},
   "source": [
    "### holiday"
   ]
  },
  {
   "cell_type": "markdown",
   "id": "5f88c0e5",
   "metadata": {},
   "source": [
    "- 0: 휴일이 아닌 날\n",
    "- 1: 주말을 제외한 국경일 등의 휴일  "
   ]
  },
  {
   "cell_type": "code",
   "execution_count": 17,
   "id": "64940c12",
   "metadata": {
    "ExecuteTime": {
     "end_time": "2022-08-30T13:11:09.225787Z",
     "start_time": "2022-08-30T13:11:09.221522Z"
    }
   },
   "outputs": [
    {
     "data": {
      "text/plain": [
       "0    10575\n",
       "1      311\n",
       "Name: holiday, dtype: int64"
      ]
     },
     "execution_count": 17,
     "metadata": {},
     "output_type": "execute_result"
    }
   ],
   "source": [
    "train['holiday'].value_counts()"
   ]
  },
  {
   "cell_type": "code",
   "execution_count": 18,
   "id": "07c5363b",
   "metadata": {
    "ExecuteTime": {
     "end_time": "2022-08-30T13:11:09.244792Z",
     "start_time": "2022-08-30T13:11:09.227011Z"
    }
   },
   "outputs": [
    {
     "data": {
      "text/plain": [
       "count    10575.000000\n",
       "mean       191.741655\n",
       "std        181.513131\n",
       "min          1.000000\n",
       "25%         43.000000\n",
       "50%        145.000000\n",
       "75%        283.000000\n",
       "max        977.000000\n",
       "Name: count, dtype: float64"
      ]
     },
     "execution_count": 18,
     "metadata": {},
     "output_type": "execute_result"
    }
   ],
   "source": [
    "# 휴일이 아닌 날\n",
    "train[train['holiday']==0]['count'].describe()"
   ]
  },
  {
   "cell_type": "code",
   "execution_count": 19,
   "id": "1f6259ff",
   "metadata": {
    "ExecuteTime": {
     "end_time": "2022-08-30T13:11:09.257065Z",
     "start_time": "2022-08-30T13:11:09.246416Z"
    }
   },
   "outputs": [
    {
     "data": {
      "text/plain": [
       "count    311.000000\n",
       "mean     185.877814\n",
       "std      168.300531\n",
       "min        1.000000\n",
       "25%       38.500000\n",
       "50%      133.000000\n",
       "75%      308.000000\n",
       "max      712.000000\n",
       "Name: count, dtype: float64"
      ]
     },
     "execution_count": 19,
     "metadata": {},
     "output_type": "execute_result"
    }
   ],
   "source": [
    "# 휴일인 날\n",
    "train[train['holiday']==1]['count'].describe()"
   ]
  },
  {
   "cell_type": "code",
   "execution_count": 20,
   "id": "f415fba2",
   "metadata": {
    "ExecuteTime": {
     "end_time": "2022-08-30T13:11:09.372461Z",
     "start_time": "2022-08-30T13:11:09.258612Z"
    },
    "scrolled": false
   },
   "outputs": [
    {
     "data": {
      "image/png": "[encoded data removed]",
      "text/plain": [
       "<Figure size 432x432 with 1 Axes>"
      ]
     },
     "metadata": {
      "needs_background": "light"
     },
     "output_type": "display_data"
    }
   ],
   "source": [
    "# 휴일이 아닌 날에 이상치를 확인할 수 있음\n",
    "plt.figure(figsize=(6,6))\n",
    "sns.boxplot(\n",
    "    data=train,\n",
    "    x='holiday',\n",
    "    y='count',\n",
    "    palette='Pastel1'\n",
    ")\n",
    "plt.xticks(range(2), ['휴일이 아닌 날', '휴일인 날'])\n",
    "plt.xlabel('holiday')\n",
    "plt.ylabel('자전거대여수(count)')\n",
    "plt.show()"
   ]
  },
  {
   "cell_type": "markdown",
   "id": "08721f95",
   "metadata": {},
   "source": [
    "### workingday"
   ]
  },
  {
   "cell_type": "markdown",
   "id": "7b3c5b42",
   "metadata": {},
   "source": [
    "- 0: 주말 및 휴일\n",
    "- 1: 주말 및 휴일이 아닌 주중"
   ]
  },
  {
   "cell_type": "code",
   "execution_count": 21,
   "id": "d7d752f4",
   "metadata": {
    "ExecuteTime": {
     "end_time": "2022-08-30T13:11:09.377925Z",
     "start_time": "2022-08-30T13:11:09.373779Z"
    }
   },
   "outputs": [
    {
     "data": {
      "text/plain": [
       "1    7412\n",
       "0    3474\n",
       "Name: workingday, dtype: int64"
      ]
     },
     "execution_count": 21,
     "metadata": {},
     "output_type": "execute_result"
    }
   ],
   "source": [
    "train['workingday'].value_counts()"
   ]
  },
  {
   "cell_type": "code",
   "execution_count": 22,
   "id": "f606b3e3",
   "metadata": {
    "ExecuteTime": {
     "end_time": "2022-08-30T13:11:09.494346Z",
     "start_time": "2022-08-30T13:11:09.381645Z"
    }
   },
   "outputs": [
    {
     "data": {
      "image/png": "[encoded data removed]",
      "text/plain": [
       "<Figure size 432x432 with 1 Axes>"
      ]
     },
     "metadata": {
      "needs_background": "light"
     },
     "output_type": "display_data"
    }
   ],
   "source": [
    "plt.figure(figsize=(6,6))\n",
    "sns.boxplot(\n",
    "    data=train,\n",
    "    x='workingday',\n",
    "    y='count',\n",
    "    palette='Pastel1'\n",
    ")\n",
    "plt.xticks(range(2), ['주말 및 휴일', '주말 및 휴일이 아닌 주중'])\n",
    "plt.xlabel('workingday')\n",
    "plt.ylabel('자전거대여수(count)')\n",
    "plt.show()"
   ]
  },
  {
   "cell_type": "code",
   "execution_count": 23,
   "id": "5dedc178",
   "metadata": {
    "ExecuteTime": {
     "end_time": "2022-08-30T13:11:09.502759Z",
     "start_time": "2022-08-30T13:11:09.496602Z"
    }
   },
   "outputs": [
    {
     "data": {
      "text/plain": [
       "workingday  holiday\n",
       "1           0          7412\n",
       "0           0          3163\n",
       "            1           311\n",
       "dtype: int64"
      ]
     },
     "execution_count": 23,
     "metadata": {},
     "output_type": "execute_result"
    }
   ],
   "source": [
    "# (workingday, holiday)\n",
    "# (1,0): '주말 및 휴일이 아닌 주중' & '국경일과 같은 휴일이 아닌' 날 -> 월~금 이면서 국경일이 아닌 날\n",
    "# (0,0): '주말 및 휴일' & '국경일과 같은 휴일이 아닌' 날          -> 토~일 이면서 국경일이 아닌 날\n",
    "# (0,1): '주말 및 휴일' & '주말을 제외한 국경일 등의 휴일'인 날     -> 토~일 이면서 국경일인 날\n",
    "# (1,1): '주말 및 휴일이 아닌 주중' & '주말을 제외한 국경일 등의 휴일'은 존재할 수 없음\n",
    "train[['workingday', 'holiday']].value_counts()"
   ]
  },
  {
   "cell_type": "code",
   "execution_count": 24,
   "id": "e9c8a6dc",
   "metadata": {
    "ExecuteTime": {
     "end_time": "2022-08-30T13:11:09.519504Z",
     "start_time": "2022-08-30T13:11:09.503893Z"
    }
   },
   "outputs": [
    {
     "data": {
      "text/plain": [
       "(0, 16)"
      ]
     },
     "execution_count": 24,
     "metadata": {},
     "output_type": "execute_result"
    }
   ],
   "source": [
    "# (1,1): '주말 및 휴일이 아닌 주중' & '주말을 제외한 국경일 등의 휴일'\n",
    "train[(train['workingday']==1) & (train['holiday']==1)].shape"
   ]
  },
  {
   "cell_type": "markdown",
   "id": "8b465844",
   "metadata": {},
   "source": [
    "### weather"
   ]
  },
  {
   "cell_type": "markdown",
   "id": "3a604c89",
   "metadata": {},
   "source": [
    "- 1: 맑음, 약간 구름 낀 흐림\n",
    "- 2: 안개, 안개 + 흐림\n",
    "- 3: 가벼운 눈, 가벼운 비 + 천둥\n",
    "- 4: 심한 눈/비, 천둥/번개"
   ]
  },
  {
   "cell_type": "code",
   "execution_count": 25,
   "id": "732e24f0",
   "metadata": {
    "ExecuteTime": {
     "end_time": "2022-08-30T13:11:09.535874Z",
     "start_time": "2022-08-30T13:11:09.521308Z"
    }
   },
   "outputs": [
    {
     "data": {
      "text/plain": [
       "1    7192\n",
       "2    2834\n",
       "3     859\n",
       "4       1\n",
       "Name: weather, dtype: int64"
      ]
     },
     "execution_count": 25,
     "metadata": {},
     "output_type": "execute_result"
    }
   ],
   "source": [
    "train['weather'].value_counts()"
   ]
  },
  {
   "cell_type": "code",
   "execution_count": 26,
   "id": "1085d8ea",
   "metadata": {
    "ExecuteTime": {
     "end_time": "2022-08-30T13:11:09.733522Z",
     "start_time": "2022-08-30T13:11:09.537881Z"
    }
   },
   "outputs": [
    {
     "data": {
      "image/png": "[encoded data removed]",
      "text/plain": [
       "<Figure size 720x432 with 1 Axes>"
      ]
     },
     "metadata": {
      "needs_background": "light"
     },
     "output_type": "display_data"
    }
   ],
   "source": [
    "plt.figure(figsize=(10,6))\n",
    "sns.boxplot(\n",
    "    data=train,\n",
    "    x='weather',\n",
    "    y='count',\n",
    "    palette='Pastel1'\n",
    ")\n",
    "plt.xticks(range(4), ['맑음, 약간 구름 낀 흐림', \n",
    "                      '안개, 안개 + 흐림',\n",
    "                      '가벼운 눈, 가벼운 비 + 천둥',\n",
    "                      '심한 눈/비, 천둥/번개'])\n",
    "plt.xlabel('날씨(weather)')\n",
    "plt.ylabel('자전거대여수(count)')\n",
    "plt.show()"
   ]
  },
  {
   "cell_type": "markdown",
   "id": "a3aab8b8",
   "metadata": {},
   "source": [
    "### temp & atemp"
   ]
  },
  {
   "cell_type": "markdown",
   "id": "16654b58",
   "metadata": {},
   "source": [
    "- temp: 온도(섭씨)\n",
    "- atemp: 체감온도(섭씨)"
   ]
  },
  {
   "cell_type": "code",
   "execution_count": 27,
   "id": "a365c26a",
   "metadata": {
    "ExecuteTime": {
     "end_time": "2022-08-30T13:11:09.741224Z",
     "start_time": "2022-08-30T13:11:09.734908Z"
    }
   },
   "outputs": [
    {
     "data": {
      "text/plain": [
       "count    10886.00000\n",
       "mean        20.23086\n",
       "std          7.79159\n",
       "min          0.82000\n",
       "25%         13.94000\n",
       "50%         20.50000\n",
       "75%         26.24000\n",
       "max         41.00000\n",
       "Name: temp, dtype: float64"
      ]
     },
     "execution_count": 27,
     "metadata": {},
     "output_type": "execute_result"
    }
   ],
   "source": [
    "train['temp'].describe()"
   ]
  },
  {
   "cell_type": "code",
   "execution_count": 28,
   "id": "fd6b6862",
   "metadata": {
    "ExecuteTime": {
     "end_time": "2022-08-30T13:11:09.755898Z",
     "start_time": "2022-08-30T13:11:09.742324Z"
    }
   },
   "outputs": [
    {
     "data": {
      "text/plain": [
       "count    10886.000000\n",
       "mean        23.655084\n",
       "std          8.474601\n",
       "min          0.760000\n",
       "25%         16.665000\n",
       "50%         24.240000\n",
       "75%         31.060000\n",
       "max         45.455000\n",
       "Name: atemp, dtype: float64"
      ]
     },
     "execution_count": 28,
     "metadata": {},
     "output_type": "execute_result"
    }
   ],
   "source": [
    "train['atemp'].describe()"
   ]
  },
  {
   "cell_type": "code",
   "execution_count": 29,
   "id": "4c3bb1af",
   "metadata": {
    "ExecuteTime": {
     "end_time": "2022-08-30T13:11:12.373372Z",
     "start_time": "2022-08-30T13:11:09.757386Z"
    },
    "scrolled": false
   },
   "outputs": [
    {
     "data": {
      "image/png": "[encoded data removed]",
      "text/plain": [
       "<Figure size 864x432 with 1 Axes>"
      ]
     },
     "metadata": {
      "needs_background": "light"
     },
     "output_type": "display_data"
    }
   ],
   "source": [
    "plt.figure(figsize=(12,6))\n",
    "sns.lineplot(\n",
    "    data=train,\n",
    "    x='temp', # 온도(섭씨)\n",
    "    y='count',\n",
    "    label='온도(temp)',\n",
    "    color='blue',\n",
    "    alpha=0.2\n",
    ")\n",
    "sns.lineplot(\n",
    "    data=train,\n",
    "    x='atemp', # 체감온도(섭씨)\n",
    "    y='count',\n",
    "    label='체감온도(atemp)',\n",
    "    color='red',\n",
    "    alpha=0.2\n",
    ")\n",
    "plt.ylabel('자전거대여수(count)')\n",
    "plt.legend()\n",
    "plt.show()"
   ]
  },
  {
   "cell_type": "markdown",
   "id": "ebcd1b55",
   "metadata": {},
   "source": [
    "### humidity"
   ]
  },
  {
   "cell_type": "code",
   "execution_count": 30,
   "id": "7501837b",
   "metadata": {
    "ExecuteTime": {
     "end_time": "2022-08-30T13:11:12.380782Z",
     "start_time": "2022-08-30T13:11:12.374819Z"
    }
   },
   "outputs": [
    {
     "data": {
      "text/plain": [
       "count    10886.000000\n",
       "mean        61.886460\n",
       "std         19.245033\n",
       "min          0.000000\n",
       "25%         47.000000\n",
       "50%         62.000000\n",
       "75%         77.000000\n",
       "max        100.000000\n",
       "Name: humidity, dtype: float64"
      ]
     },
     "execution_count": 30,
     "metadata": {},
     "output_type": "execute_result"
    }
   ],
   "source": [
    "train['humidity'].describe()"
   ]
  },
  {
   "cell_type": "code",
   "execution_count": 31,
   "id": "4a435366",
   "metadata": {
    "ExecuteTime": {
     "end_time": "2022-08-30T13:11:14.342558Z",
     "start_time": "2022-08-30T13:11:12.382132Z"
    }
   },
   "outputs": [
    {
     "data": {
      "image/png": "[encoded data removed]",
      "text/plain": [
       "<Figure size 864x432 with 1 Axes>"
      ]
     },
     "metadata": {
      "needs_background": "light"
     },
     "output_type": "display_data"
    }
   ],
   "source": [
    "plt.figure(figsize=(12,6))\n",
    "sns.lineplot(\n",
    "    data=train,\n",
    "    x='humidity',\n",
    "    y='count',\n",
    "    color='blue',\n",
    "    alpha=0.2\n",
    ")\n",
    "plt.xlabel('습도(humidity)')\n",
    "plt.ylabel('자전거대여수(count)')\n",
    "plt.show()"
   ]
  },
  {
   "cell_type": "markdown",
   "id": "7398aac0",
   "metadata": {},
   "source": [
    "### windspeed"
   ]
  },
  {
   "cell_type": "code",
   "execution_count": 32,
   "id": "cde0a9b9",
   "metadata": {
    "ExecuteTime": {
     "end_time": "2022-08-30T13:11:14.349958Z",
     "start_time": "2022-08-30T13:11:14.343872Z"
    }
   },
   "outputs": [
    {
     "data": {
      "text/plain": [
       "count    10886.000000\n",
       "mean        12.799395\n",
       "std          8.164537\n",
       "min          0.000000\n",
       "25%          7.001500\n",
       "50%         12.998000\n",
       "75%         16.997900\n",
       "max         56.996900\n",
       "Name: windspeed, dtype: float64"
      ]
     },
     "execution_count": 32,
     "metadata": {},
     "output_type": "execute_result"
    }
   ],
   "source": [
    "train['windspeed'].describe()"
   ]
  },
  {
   "cell_type": "code",
   "execution_count": 33,
   "id": "3b8a1975",
   "metadata": {
    "ExecuteTime": {
     "end_time": "2022-08-30T13:11:15.125039Z",
     "start_time": "2022-08-30T13:11:14.351296Z"
    }
   },
   "outputs": [
    {
     "data": {
      "image/png": "[encoded data removed]",
      "text/plain": [
       "<Figure size 864x432 with 1 Axes>"
      ]
     },
     "metadata": {
      "needs_background": "light"
     },
     "output_type": "display_data"
    }
   ],
   "source": [
    "plt.figure(figsize=(12,6))\n",
    "sns.lineplot(\n",
    "    data=train,\n",
    "    x='windspeed',\n",
    "    y='count',\n",
    "    color='blue',\n",
    "    alpha=0.2\n",
    ")\n",
    "plt.xlabel('풍속(windspeed)')\n",
    "plt.ylabel('자전거대여수(count)')\n",
    "plt.show()"
   ]
  },
  {
   "cell_type": "markdown",
   "id": "14e8ad8f",
   "metadata": {},
   "source": [
    "### casual & registered"
   ]
  },
  {
   "cell_type": "markdown",
   "id": "e0d33b3a",
   "metadata": {},
   "source": [
    "<b><font color='red'>[주의]</font> count = casual + registered</b> $\\rightarrow$ 학습 시 제외\n",
    "- casual: 사전에 등록되지 않은 사용자가 대여한 횟수\n",
    "- registered: 사전에 등록된 사용자가 대여한 횟수"
   ]
  },
  {
   "cell_type": "code",
   "execution_count": 34,
   "id": "0c5b41e8",
   "metadata": {
    "ExecuteTime": {
     "end_time": "2022-08-30T13:11:15.131386Z",
     "start_time": "2022-08-30T13:11:15.126315Z"
    }
   },
   "outputs": [
    {
     "data": {
      "text/plain": [
       "10886"
      ]
     },
     "execution_count": 34,
     "metadata": {},
     "output_type": "execute_result"
    }
   ],
   "source": [
    "sum(train['count'] == train['casual'] + train['registered'])"
   ]
  },
  {
   "cell_type": "code",
   "execution_count": 35,
   "id": "c27b4847",
   "metadata": {
    "ExecuteTime": {
     "end_time": "2022-08-30T13:11:15.145915Z",
     "start_time": "2022-08-30T13:11:15.132654Z"
    }
   },
   "outputs": [
    {
     "data": {
      "text/plain": [
       "(10886, 16)"
      ]
     },
     "execution_count": 35,
     "metadata": {},
     "output_type": "execute_result"
    }
   ],
   "source": [
    "train.shape"
   ]
  },
  {
   "cell_type": "markdown",
   "id": "90fdb657",
   "metadata": {},
   "source": [
    "## 데이터 전처리\n",
    "<hr style=\"height:5px;border:none;color:#132e4f;background-color:#132e4f;\"/>"
   ]
  },
  {
   "cell_type": "code",
   "execution_count": 36,
   "id": "b5825efc",
   "metadata": {
    "ExecuteTime": {
     "end_time": "2022-08-30T13:11:15.160597Z",
     "start_time": "2022-08-30T13:11:15.147821Z"
    }
   },
   "outputs": [],
   "source": [
    "import missingno as msno"
   ]
  },
  {
   "cell_type": "code",
   "execution_count": 37,
   "id": "d26c4339",
   "metadata": {
    "ExecuteTime": {
     "end_time": "2022-08-30T13:11:15.506169Z",
     "start_time": "2022-08-30T13:11:15.162819Z"
    }
   },
   "outputs": [
    {
     "data": {
      "image/png": "[encoded data removed]",
      "text/plain": [
       "<Figure size 1800x720 with 2 Axes>"
      ]
     },
     "metadata": {
      "needs_background": "light"
     },
     "output_type": "display_data"
    }
   ],
   "source": [
    "msno.matrix(train)\n",
    "plt.show()"
   ]
  },
  {
   "cell_type": "code",
   "execution_count": 38,
   "id": "384c0728",
   "metadata": {
    "ExecuteTime": {
     "end_time": "2022-08-30T13:11:15.515064Z",
     "start_time": "2022-08-30T13:11:15.507657Z"
    }
   },
   "outputs": [
    {
     "data": {
      "text/plain": [
       "datetime      0\n",
       "season        0\n",
       "holiday       0\n",
       "workingday    0\n",
       "weather       0\n",
       "temp          0\n",
       "atemp         0\n",
       "humidity      0\n",
       "windspeed     0\n",
       "casual        0\n",
       "registered    0\n",
       "count         0\n",
       "year          0\n",
       "month         0\n",
       "day           0\n",
       "hour          0\n",
       "dtype: int64"
      ]
     },
     "execution_count": 38,
     "metadata": {},
     "output_type": "execute_result"
    }
   ],
   "source": [
    "train.isnull().sum()"
   ]
  },
  {
   "cell_type": "markdown",
   "id": "231b6c6c",
   "metadata": {},
   "source": [
    "## 피처 엔지니어링\n",
    "<hr style=\"height:5px;border:none;color:#132e4f;background-color:#132e4f;\"/>"
   ]
  },
  {
   "cell_type": "markdown",
   "id": "554c15d5",
   "metadata": {},
   "source": [
    "### 최종 피처 선택"
   ]
  },
  {
   "cell_type": "code",
   "execution_count": 39,
   "id": "a8a02583",
   "metadata": {
    "ExecuteTime": {
     "end_time": "2022-08-30T13:11:15.526395Z",
     "start_time": "2022-08-30T13:11:15.516402Z"
    }
   },
   "outputs": [],
   "source": [
    "train.reset_index(drop=True, inplace=True)"
   ]
  },
  {
   "cell_type": "code",
   "execution_count": 40,
   "id": "1d9d80b8",
   "metadata": {
    "ExecuteTime": {
     "end_time": "2022-08-30T13:11:15.543661Z",
     "start_time": "2022-08-30T13:11:15.528184Z"
    }
   },
   "outputs": [
    {
     "name": "stdout",
     "output_type": "stream",
     "text": [
      "'datetime',\n",
      "'season',\n",
      "'holiday',\n",
      "'workingday',\n",
      "'weather',\n",
      "'temp',\n",
      "'atemp',\n",
      "'humidity',\n",
      "'windspeed',\n",
      "'casual',\n",
      "'registered',\n",
      "'count',\n",
      "'year',\n",
      "'month',\n",
      "'day',\n",
      "'hour',\n"
     ]
    }
   ],
   "source": [
    "for i in train.columns:\n",
    "    print(f\"'{i}',\")"
   ]
  },
  {
   "cell_type": "code",
   "execution_count": 41,
   "id": "f2a0c948",
   "metadata": {
    "ExecuteTime": {
     "end_time": "2022-08-30T13:11:15.562479Z",
     "start_time": "2022-08-30T13:11:15.545677Z"
    }
   },
   "outputs": [],
   "source": [
    "X = train[train.columns.drop(['datetime', 'casual', 'registered', 'count'])]\n",
    "y = train['count']"
   ]
  },
  {
   "cell_type": "code",
   "execution_count": 42,
   "id": "a79c35a1",
   "metadata": {
    "ExecuteTime": {
     "end_time": "2022-08-30T13:11:15.579068Z",
     "start_time": "2022-08-30T13:11:15.564924Z"
    },
    "scrolled": true
   },
   "outputs": [
    {
     "data": {
      "text/plain": [
       "((10886, 12), (10886,))"
      ]
     },
     "execution_count": 42,
     "metadata": {},
     "output_type": "execute_result"
    }
   ],
   "source": [
    "X.shape, y.shape"
   ]
  },
  {
   "cell_type": "markdown",
   "id": "6338448e",
   "metadata": {},
   "source": [
    "### 원핫 인코딩"
   ]
  },
  {
   "cell_type": "code",
   "execution_count": 43,
   "id": "a43ebc0d",
   "metadata": {
    "ExecuteTime": {
     "end_time": "2022-08-30T13:11:15.771464Z",
     "start_time": "2022-08-30T13:11:15.581173Z"
    }
   },
   "outputs": [],
   "source": [
    "from sklearn.preprocessing import LabelEncoder"
   ]
  },
  {
   "cell_type": "code",
   "execution_count": 44,
   "id": "5efc8668",
   "metadata": {
    "ExecuteTime": {
     "end_time": "2022-08-30T13:11:15.783807Z",
     "start_time": "2022-08-30T13:11:15.773016Z"
    }
   },
   "outputs": [
    {
     "data": {
      "text/html": [
       "<div>\n",
       "<style scoped>\n",
       "    .dataframe tbody tr th:only-of-type {\n",
       "        vertical-align: middle;\n",
       "    }\n",
       "\n",
       "    .dataframe tbody tr th {\n",
       "        vertical-align: top;\n",
       "    }\n",
       "\n",
       "    .dataframe thead th {\n",
       "        text-align: right;\n",
       "    }\n",
       "</style>\n",
       "<table border=\"1\" class=\"dataframe\">\n",
       "  <thead>\n",
       "    <tr style=\"text-align: right;\">\n",
       "      <th></th>\n",
       "      <th>season</th>\n",
       "      <th>holiday</th>\n",
       "      <th>workingday</th>\n",
       "      <th>weather</th>\n",
       "      <th>temp</th>\n",
       "      <th>atemp</th>\n",
       "      <th>humidity</th>\n",
       "      <th>windspeed</th>\n",
       "      <th>year</th>\n",
       "      <th>month</th>\n",
       "      <th>day</th>\n",
       "      <th>hour</th>\n",
       "    </tr>\n",
       "  </thead>\n",
       "  <tbody>\n",
       "    <tr>\n",
       "      <th>0</th>\n",
       "      <td>1</td>\n",
       "      <td>0</td>\n",
       "      <td>0</td>\n",
       "      <td>1</td>\n",
       "      <td>9.84</td>\n",
       "      <td>14.395</td>\n",
       "      <td>81</td>\n",
       "      <td>0.0</td>\n",
       "      <td>2011</td>\n",
       "      <td>01</td>\n",
       "      <td>01</td>\n",
       "      <td>00</td>\n",
       "    </tr>\n",
       "    <tr>\n",
       "      <th>1</th>\n",
       "      <td>1</td>\n",
       "      <td>0</td>\n",
       "      <td>0</td>\n",
       "      <td>1</td>\n",
       "      <td>9.02</td>\n",
       "      <td>13.635</td>\n",
       "      <td>80</td>\n",
       "      <td>0.0</td>\n",
       "      <td>2011</td>\n",
       "      <td>01</td>\n",
       "      <td>01</td>\n",
       "      <td>01</td>\n",
       "    </tr>\n",
       "    <tr>\n",
       "      <th>2</th>\n",
       "      <td>1</td>\n",
       "      <td>0</td>\n",
       "      <td>0</td>\n",
       "      <td>1</td>\n",
       "      <td>9.02</td>\n",
       "      <td>13.635</td>\n",
       "      <td>80</td>\n",
       "      <td>0.0</td>\n",
       "      <td>2011</td>\n",
       "      <td>01</td>\n",
       "      <td>01</td>\n",
       "      <td>02</td>\n",
       "    </tr>\n",
       "    <tr>\n",
       "      <th>3</th>\n",
       "      <td>1</td>\n",
       "      <td>0</td>\n",
       "      <td>0</td>\n",
       "      <td>1</td>\n",
       "      <td>9.84</td>\n",
       "      <td>14.395</td>\n",
       "      <td>75</td>\n",
       "      <td>0.0</td>\n",
       "      <td>2011</td>\n",
       "      <td>01</td>\n",
       "      <td>01</td>\n",
       "      <td>03</td>\n",
       "    </tr>\n",
       "    <tr>\n",
       "      <th>4</th>\n",
       "      <td>1</td>\n",
       "      <td>0</td>\n",
       "      <td>0</td>\n",
       "      <td>1</td>\n",
       "      <td>9.84</td>\n",
       "      <td>14.395</td>\n",
       "      <td>75</td>\n",
       "      <td>0.0</td>\n",
       "      <td>2011</td>\n",
       "      <td>01</td>\n",
       "      <td>01</td>\n",
       "      <td>04</td>\n",
       "    </tr>\n",
       "  </tbody>\n",
       "</table>\n",
       "</div>"
      ],
      "text/plain": [
       "   season  holiday  workingday  weather  temp   atemp  humidity  windspeed  \\\n",
       "0       1        0           0        1  9.84  14.395        81        0.0   \n",
       "1       1        0           0        1  9.02  13.635        80        0.0   \n",
       "2       1        0           0        1  9.02  13.635        80        0.0   \n",
       "3       1        0           0        1  9.84  14.395        75        0.0   \n",
       "4       1        0           0        1  9.84  14.395        75        0.0   \n",
       "\n",
       "   year month day hour  \n",
       "0  2011    01  01   00  \n",
       "1  2011    01  01   01  \n",
       "2  2011    01  01   02  \n",
       "3  2011    01  01   03  \n",
       "4  2011    01  01   04  "
      ]
     },
     "execution_count": 44,
     "metadata": {},
     "output_type": "execute_result"
    }
   ],
   "source": [
    "X.head()"
   ]
  },
  {
   "cell_type": "code",
   "execution_count": 45,
   "id": "49bc7945",
   "metadata": {
    "ExecuteTime": {
     "end_time": "2022-08-30T13:11:15.797993Z",
     "start_time": "2022-08-30T13:11:15.784940Z"
    }
   },
   "outputs": [],
   "source": [
    "def onehot(df, feature):\n",
    "    le_season_type = LabelEncoder()\n",
    "    le_season_type.fit(df[feature])\n",
    "    df[feature] = le_season_type.transform(df[feature])\n",
    "    df = pd.concat([df, pd.get_dummies(df[feature], prefix=feature)], axis=1)\n",
    "    df.drop([feature], axis=1, inplace=True)\n",
    "    display(df)\n",
    "    return df"
   ]
  },
  {
   "cell_type": "code",
   "execution_count": 46,
   "id": "ed6eeffd",
   "metadata": {
    "ExecuteTime": {
     "end_time": "2022-08-30T13:11:15.833688Z",
     "start_time": "2022-08-30T13:11:15.799843Z"
    }
   },
   "outputs": [
    {
     "data": {
      "text/html": [
       "<div>\n",
       "<style scoped>\n",
       "    .dataframe tbody tr th:only-of-type {\n",
       "        vertical-align: middle;\n",
       "    }\n",
       "\n",
       "    .dataframe tbody tr th {\n",
       "        vertical-align: top;\n",
       "    }\n",
       "\n",
       "    .dataframe thead th {\n",
       "        text-align: right;\n",
       "    }\n",
       "</style>\n",
       "<table border=\"1\" class=\"dataframe\">\n",
       "  <thead>\n",
       "    <tr style=\"text-align: right;\">\n",
       "      <th></th>\n",
       "      <th>holiday</th>\n",
       "      <th>workingday</th>\n",
       "      <th>weather</th>\n",
       "      <th>temp</th>\n",
       "      <th>atemp</th>\n",
       "      <th>humidity</th>\n",
       "      <th>windspeed</th>\n",
       "      <th>year</th>\n",
       "      <th>month</th>\n",
       "      <th>day</th>\n",
       "      <th>hour</th>\n",
       "      <th>season_0</th>\n",
       "      <th>season_1</th>\n",
       "      <th>season_2</th>\n",
       "      <th>season_3</th>\n",
       "    </tr>\n",
       "  </thead>\n",
       "  <tbody>\n",
       "    <tr>\n",
       "      <th>0</th>\n",
       "      <td>0</td>\n",
       "      <td>0</td>\n",
       "      <td>1</td>\n",
       "      <td>9.84</td>\n",
       "      <td>14.395</td>\n",
       "      <td>81</td>\n",
       "      <td>0.0000</td>\n",
       "      <td>2011</td>\n",
       "      <td>01</td>\n",
       "      <td>01</td>\n",
       "      <td>00</td>\n",
       "      <td>1</td>\n",
       "      <td>0</td>\n",
       "      <td>0</td>\n",
       "      <td>0</td>\n",
       "    </tr>\n",
       "    <tr>\n",
       "      <th>1</th>\n",
       "      <td>0</td>\n",
       "      <td>0</td>\n",
       "      <td>1</td>\n",
       "      <td>9.02</td>\n",
       "      <td>13.635</td>\n",
       "      <td>80</td>\n",
       "      <td>0.0000</td>\n",
       "      <td>2011</td>\n",
       "      <td>01</td>\n",
       "      <td>01</td>\n",
       "      <td>01</td>\n",
       "      <td>1</td>\n",
       "      <td>0</td>\n",
       "      <td>0</td>\n",
       "      <td>0</td>\n",
       "    </tr>\n",
       "    <tr>\n",
       "      <th>2</th>\n",
       "      <td>0</td>\n",
       "      <td>0</td>\n",
       "      <td>1</td>\n",
       "      <td>9.02</td>\n",
       "      <td>13.635</td>\n",
       "      <td>80</td>\n",
       "      <td>0.0000</td>\n",
       "      <td>2011</td>\n",
       "      <td>01</td>\n",
       "      <td>01</td>\n",
       "      <td>02</td>\n",
       "      <td>1</td>\n",
       "      <td>0</td>\n",
       "      <td>0</td>\n",
       "      <td>0</td>\n",
       "    </tr>\n",
       "    <tr>\n",
       "      <th>3</th>\n",
       "      <td>0</td>\n",
       "      <td>0</td>\n",
       "      <td>1</td>\n",
       "      <td>9.84</td>\n",
       "      <td>14.395</td>\n",
       "      <td>75</td>\n",
       "      <td>0.0000</td>\n",
       "      <td>2011</td>\n",
       "      <td>01</td>\n",
       "      <td>01</td>\n",
       "      <td>03</td>\n",
       "      <td>1</td>\n",
       "      <td>0</td>\n",
       "      <td>0</td>\n",
       "      <td>0</td>\n",
       "    </tr>\n",
       "    <tr>\n",
       "      <th>4</th>\n",
       "      <td>0</td>\n",
       "      <td>0</td>\n",
       "      <td>1</td>\n",
       "      <td>9.84</td>\n",
       "      <td>14.395</td>\n",
       "      <td>75</td>\n",
       "      <td>0.0000</td>\n",
       "      <td>2011</td>\n",
       "      <td>01</td>\n",
       "      <td>01</td>\n",
       "      <td>04</td>\n",
       "      <td>1</td>\n",
       "      <td>0</td>\n",
       "      <td>0</td>\n",
       "      <td>0</td>\n",
       "    </tr>\n",
       "    <tr>\n",
       "      <th>...</th>\n",
       "      <td>...</td>\n",
       "      <td>...</td>\n",
       "      <td>...</td>\n",
       "      <td>...</td>\n",
       "      <td>...</td>\n",
       "      <td>...</td>\n",
       "      <td>...</td>\n",
       "      <td>...</td>\n",
       "      <td>...</td>\n",
       "      <td>...</td>\n",
       "      <td>...</td>\n",
       "      <td>...</td>\n",
       "      <td>...</td>\n",
       "      <td>...</td>\n",
       "      <td>...</td>\n",
       "    </tr>\n",
       "    <tr>\n",
       "      <th>10881</th>\n",
       "      <td>0</td>\n",
       "      <td>1</td>\n",
       "      <td>1</td>\n",
       "      <td>15.58</td>\n",
       "      <td>19.695</td>\n",
       "      <td>50</td>\n",
       "      <td>26.0027</td>\n",
       "      <td>2012</td>\n",
       "      <td>12</td>\n",
       "      <td>19</td>\n",
       "      <td>19</td>\n",
       "      <td>0</td>\n",
       "      <td>0</td>\n",
       "      <td>0</td>\n",
       "      <td>1</td>\n",
       "    </tr>\n",
       "    <tr>\n",
       "      <th>10882</th>\n",
       "      <td>0</td>\n",
       "      <td>1</td>\n",
       "      <td>1</td>\n",
       "      <td>14.76</td>\n",
       "      <td>17.425</td>\n",
       "      <td>57</td>\n",
       "      <td>15.0013</td>\n",
       "      <td>2012</td>\n",
       "      <td>12</td>\n",
       "      <td>19</td>\n",
       "      <td>20</td>\n",
       "      <td>0</td>\n",
       "      <td>0</td>\n",
       "      <td>0</td>\n",
       "      <td>1</td>\n",
       "    </tr>\n",
       "    <tr>\n",
       "      <th>10883</th>\n",
       "      <td>0</td>\n",
       "      <td>1</td>\n",
       "      <td>1</td>\n",
       "      <td>13.94</td>\n",
       "      <td>15.910</td>\n",
       "      <td>61</td>\n",
       "      <td>15.0013</td>\n",
       "      <td>2012</td>\n",
       "      <td>12</td>\n",
       "      <td>19</td>\n",
       "      <td>21</td>\n",
       "      <td>0</td>\n",
       "      <td>0</td>\n",
       "      <td>0</td>\n",
       "      <td>1</td>\n",
       "    </tr>\n",
       "    <tr>\n",
       "      <th>10884</th>\n",
       "      <td>0</td>\n",
       "      <td>1</td>\n",
       "      <td>1</td>\n",
       "      <td>13.94</td>\n",
       "      <td>17.425</td>\n",
       "      <td>61</td>\n",
       "      <td>6.0032</td>\n",
       "      <td>2012</td>\n",
       "      <td>12</td>\n",
       "      <td>19</td>\n",
       "      <td>22</td>\n",
       "      <td>0</td>\n",
       "      <td>0</td>\n",
       "      <td>0</td>\n",
       "      <td>1</td>\n",
       "    </tr>\n",
       "    <tr>\n",
       "      <th>10885</th>\n",
       "      <td>0</td>\n",
       "      <td>1</td>\n",
       "      <td>1</td>\n",
       "      <td>13.12</td>\n",
       "      <td>16.665</td>\n",
       "      <td>66</td>\n",
       "      <td>8.9981</td>\n",
       "      <td>2012</td>\n",
       "      <td>12</td>\n",
       "      <td>19</td>\n",
       "      <td>23</td>\n",
       "      <td>0</td>\n",
       "      <td>0</td>\n",
       "      <td>0</td>\n",
       "      <td>1</td>\n",
       "    </tr>\n",
       "  </tbody>\n",
       "</table>\n",
       "<p>10886 rows × 15 columns</p>\n",
       "</div>"
      ],
      "text/plain": [
       "       holiday  workingday  weather   temp   atemp  humidity  windspeed  year  \\\n",
       "0            0           0        1   9.84  14.395        81     0.0000  2011   \n",
       "1            0           0        1   9.02  13.635        80     0.0000  2011   \n",
       "2            0           0        1   9.02  13.635        80     0.0000  2011   \n",
       "3            0           0        1   9.84  14.395        75     0.0000  2011   \n",
       "4            0           0        1   9.84  14.395        75     0.0000  2011   \n",
       "...        ...         ...      ...    ...     ...       ...        ...   ...   \n",
       "10881        0           1        1  15.58  19.695        50    26.0027  2012   \n",
       "10882        0           1        1  14.76  17.425        57    15.0013  2012   \n",
       "10883        0           1        1  13.94  15.910        61    15.0013  2012   \n",
       "10884        0           1        1  13.94  17.425        61     6.0032  2012   \n",
       "10885        0           1        1  13.12  16.665        66     8.9981  2012   \n",
       "\n",
       "      month day hour  season_0  season_1  season_2  season_3  \n",
       "0        01  01   00         1         0         0         0  \n",
       "1        01  01   01         1         0         0         0  \n",
       "2        01  01   02         1         0         0         0  \n",
       "3        01  01   03         1         0         0         0  \n",
       "4        01  01   04         1         0         0         0  \n",
       "...     ...  ..  ...       ...       ...       ...       ...  \n",
       "10881    12  19   19         0         0         0         1  \n",
       "10882    12  19   20         0         0         0         1  \n",
       "10883    12  19   21         0         0         0         1  \n",
       "10884    12  19   22         0         0         0         1  \n",
       "10885    12  19   23         0         0         0         1  \n",
       "\n",
       "[10886 rows x 15 columns]"
      ]
     },
     "metadata": {},
     "output_type": "display_data"
    }
   ],
   "source": [
    "X = onehot(X, 'season')"
   ]
  },
  {
   "cell_type": "code",
   "execution_count": 47,
   "id": "bf111f9c",
   "metadata": {
    "ExecuteTime": {
     "end_time": "2022-08-30T13:11:15.853795Z",
     "start_time": "2022-08-30T13:11:15.834816Z"
    }
   },
   "outputs": [
    {
     "data": {
      "text/html": [
       "<div>\n",
       "<style scoped>\n",
       "    .dataframe tbody tr th:only-of-type {\n",
       "        vertical-align: middle;\n",
       "    }\n",
       "\n",
       "    .dataframe tbody tr th {\n",
       "        vertical-align: top;\n",
       "    }\n",
       "\n",
       "    .dataframe thead th {\n",
       "        text-align: right;\n",
       "    }\n",
       "</style>\n",
       "<table border=\"1\" class=\"dataframe\">\n",
       "  <thead>\n",
       "    <tr style=\"text-align: right;\">\n",
       "      <th></th>\n",
       "      <th>workingday</th>\n",
       "      <th>weather</th>\n",
       "      <th>temp</th>\n",
       "      <th>atemp</th>\n",
       "      <th>humidity</th>\n",
       "      <th>windspeed</th>\n",
       "      <th>year</th>\n",
       "      <th>month</th>\n",
       "      <th>day</th>\n",
       "      <th>hour</th>\n",
       "      <th>season_0</th>\n",
       "      <th>season_1</th>\n",
       "      <th>season_2</th>\n",
       "      <th>season_3</th>\n",
       "      <th>holiday_0</th>\n",
       "      <th>holiday_1</th>\n",
       "    </tr>\n",
       "  </thead>\n",
       "  <tbody>\n",
       "    <tr>\n",
       "      <th>0</th>\n",
       "      <td>0</td>\n",
       "      <td>1</td>\n",
       "      <td>9.84</td>\n",
       "      <td>14.395</td>\n",
       "      <td>81</td>\n",
       "      <td>0.0000</td>\n",
       "      <td>2011</td>\n",
       "      <td>01</td>\n",
       "      <td>01</td>\n",
       "      <td>00</td>\n",
       "      <td>1</td>\n",
       "      <td>0</td>\n",
       "      <td>0</td>\n",
       "      <td>0</td>\n",
       "      <td>1</td>\n",
       "      <td>0</td>\n",
       "    </tr>\n",
       "    <tr>\n",
       "      <th>1</th>\n",
       "      <td>0</td>\n",
       "      <td>1</td>\n",
       "      <td>9.02</td>\n",
       "      <td>13.635</td>\n",
       "      <td>80</td>\n",
       "      <td>0.0000</td>\n",
       "      <td>2011</td>\n",
       "      <td>01</td>\n",
       "      <td>01</td>\n",
       "      <td>01</td>\n",
       "      <td>1</td>\n",
       "      <td>0</td>\n",
       "      <td>0</td>\n",
       "      <td>0</td>\n",
       "      <td>1</td>\n",
       "      <td>0</td>\n",
       "    </tr>\n",
       "    <tr>\n",
       "      <th>2</th>\n",
       "      <td>0</td>\n",
       "      <td>1</td>\n",
       "      <td>9.02</td>\n",
       "      <td>13.635</td>\n",
       "      <td>80</td>\n",
       "      <td>0.0000</td>\n",
       "      <td>2011</td>\n",
       "      <td>01</td>\n",
       "      <td>01</td>\n",
       "      <td>02</td>\n",
       "      <td>1</td>\n",
       "      <td>0</td>\n",
       "      <td>0</td>\n",
       "      <td>0</td>\n",
       "      <td>1</td>\n",
       "      <td>0</td>\n",
       "    </tr>\n",
       "    <tr>\n",
       "      <th>3</th>\n",
       "      <td>0</td>\n",
       "      <td>1</td>\n",
       "      <td>9.84</td>\n",
       "      <td>14.395</td>\n",
       "      <td>75</td>\n",
       "      <td>0.0000</td>\n",
       "      <td>2011</td>\n",
       "      <td>01</td>\n",
       "      <td>01</td>\n",
       "      <td>03</td>\n",
       "      <td>1</td>\n",
       "      <td>0</td>\n",
       "      <td>0</td>\n",
       "      <td>0</td>\n",
       "      <td>1</td>\n",
       "      <td>0</td>\n",
       "    </tr>\n",
       "    <tr>\n",
       "      <th>4</th>\n",
       "      <td>0</td>\n",
       "      <td>1</td>\n",
       "      <td>9.84</td>\n",
       "      <td>14.395</td>\n",
       "      <td>75</td>\n",
       "      <td>0.0000</td>\n",
       "      <td>2011</td>\n",
       "      <td>01</td>\n",
       "      <td>01</td>\n",
       "      <td>04</td>\n",
       "      <td>1</td>\n",
       "      <td>0</td>\n",
       "      <td>0</td>\n",
       "      <td>0</td>\n",
       "      <td>1</td>\n",
       "      <td>0</td>\n",
       "    </tr>\n",
       "    <tr>\n",
       "      <th>...</th>\n",
       "      <td>...</td>\n",
       "      <td>...</td>\n",
       "      <td>...</td>\n",
       "      <td>...</td>\n",
       "      <td>...</td>\n",
       "      <td>...</td>\n",
       "      <td>...</td>\n",
       "      <td>...</td>\n",
       "      <td>...</td>\n",
       "      <td>...</td>\n",
       "      <td>...</td>\n",
       "      <td>...</td>\n",
       "      <td>...</td>\n",
       "      <td>...</td>\n",
       "      <td>...</td>\n",
       "      <td>...</td>\n",
       "    </tr>\n",
       "    <tr>\n",
       "      <th>10881</th>\n",
       "      <td>1</td>\n",
       "      <td>1</td>\n",
       "      <td>15.58</td>\n",
       "      <td>19.695</td>\n",
       "      <td>50</td>\n",
       "      <td>26.0027</td>\n",
       "      <td>2012</td>\n",
       "      <td>12</td>\n",
       "      <td>19</td>\n",
       "      <td>19</td>\n",
       "      <td>0</td>\n",
       "      <td>0</td>\n",
       "      <td>0</td>\n",
       "      <td>1</td>\n",
       "      <td>1</td>\n",
       "      <td>0</td>\n",
       "    </tr>\n",
       "    <tr>\n",
       "      <th>10882</th>\n",
       "      <td>1</td>\n",
       "      <td>1</td>\n",
       "      <td>14.76</td>\n",
       "      <td>17.425</td>\n",
       "      <td>57</td>\n",
       "      <td>15.0013</td>\n",
       "      <td>2012</td>\n",
       "      <td>12</td>\n",
       "      <td>19</td>\n",
       "      <td>20</td>\n",
       "      <td>0</td>\n",
       "      <td>0</td>\n",
       "      <td>0</td>\n",
       "      <td>1</td>\n",
       "      <td>1</td>\n",
       "      <td>0</td>\n",
       "    </tr>\n",
       "    <tr>\n",
       "      <th>10883</th>\n",
       "      <td>1</td>\n",
       "      <td>1</td>\n",
       "      <td>13.94</td>\n",
       "      <td>15.910</td>\n",
       "      <td>61</td>\n",
       "      <td>15.0013</td>\n",
       "      <td>2012</td>\n",
       "      <td>12</td>\n",
       "      <td>19</td>\n",
       "      <td>21</td>\n",
       "      <td>0</td>\n",
       "      <td>0</td>\n",
       "      <td>0</td>\n",
       "      <td>1</td>\n",
       "      <td>1</td>\n",
       "      <td>0</td>\n",
       "    </tr>\n",
       "    <tr>\n",
       "      <th>10884</th>\n",
       "      <td>1</td>\n",
       "      <td>1</td>\n",
       "      <td>13.94</td>\n",
       "      <td>17.425</td>\n",
       "      <td>61</td>\n",
       "      <td>6.0032</td>\n",
       "      <td>2012</td>\n",
       "      <td>12</td>\n",
       "      <td>19</td>\n",
       "      <td>22</td>\n",
       "      <td>0</td>\n",
       "      <td>0</td>\n",
       "      <td>0</td>\n",
       "      <td>1</td>\n",
       "      <td>1</td>\n",
       "      <td>0</td>\n",
       "    </tr>\n",
       "    <tr>\n",
       "      <th>10885</th>\n",
       "      <td>1</td>\n",
       "      <td>1</td>\n",
       "      <td>13.12</td>\n",
       "      <td>16.665</td>\n",
       "      <td>66</td>\n",
       "      <td>8.9981</td>\n",
       "      <td>2012</td>\n",
       "      <td>12</td>\n",
       "      <td>19</td>\n",
       "      <td>23</td>\n",
       "      <td>0</td>\n",
       "      <td>0</td>\n",
       "      <td>0</td>\n",
       "      <td>1</td>\n",
       "      <td>1</td>\n",
       "      <td>0</td>\n",
       "    </tr>\n",
       "  </tbody>\n",
       "</table>\n",
       "<p>10886 rows × 16 columns</p>\n",
       "</div>"
      ],
      "text/plain": [
       "       workingday  weather   temp   atemp  humidity  windspeed  year month  \\\n",
       "0               0        1   9.84  14.395        81     0.0000  2011    01   \n",
       "1               0        1   9.02  13.635        80     0.0000  2011    01   \n",
       "2               0        1   9.02  13.635        80     0.0000  2011    01   \n",
       "3               0        1   9.84  14.395        75     0.0000  2011    01   \n",
       "4               0        1   9.84  14.395        75     0.0000  2011    01   \n",
       "...           ...      ...    ...     ...       ...        ...   ...   ...   \n",
       "10881           1        1  15.58  19.695        50    26.0027  2012    12   \n",
       "10882           1        1  14.76  17.425        57    15.0013  2012    12   \n",
       "10883           1        1  13.94  15.910        61    15.0013  2012    12   \n",
       "10884           1        1  13.94  17.425        61     6.0032  2012    12   \n",
       "10885           1        1  13.12  16.665        66     8.9981  2012    12   \n",
       "\n",
       "      day hour  season_0  season_1  season_2  season_3  holiday_0  holiday_1  \n",
       "0      01   00         1         0         0         0          1          0  \n",
       "1      01   01         1         0         0         0          1          0  \n",
       "2      01   02         1         0         0         0          1          0  \n",
       "3      01   03         1         0         0         0          1          0  \n",
       "4      01   04         1         0         0         0          1          0  \n",
       "...    ..  ...       ...       ...       ...       ...        ...        ...  \n",
       "10881  19   19         0         0         0         1          1          0  \n",
       "10882  19   20         0         0         0         1          1          0  \n",
       "10883  19   21         0         0         0         1          1          0  \n",
       "10884  19   22         0         0         0         1          1          0  \n",
       "10885  19   23         0         0         0         1          1          0  \n",
       "\n",
       "[10886 rows x 16 columns]"
      ]
     },
     "metadata": {},
     "output_type": "display_data"
    }
   ],
   "source": [
    "X = onehot(X, 'holiday')"
   ]
  },
  {
   "cell_type": "code",
   "execution_count": 48,
   "id": "3cb9b2bf",
   "metadata": {
    "ExecuteTime": {
     "end_time": "2022-08-30T13:11:15.875017Z",
     "start_time": "2022-08-30T13:11:15.855083Z"
    }
   },
   "outputs": [
    {
     "data": {
      "text/html": [
       "<div>\n",
       "<style scoped>\n",
       "    .dataframe tbody tr th:only-of-type {\n",
       "        vertical-align: middle;\n",
       "    }\n",
       "\n",
       "    .dataframe tbody tr th {\n",
       "        vertical-align: top;\n",
       "    }\n",
       "\n",
       "    .dataframe thead th {\n",
       "        text-align: right;\n",
       "    }\n",
       "</style>\n",
       "<table border=\"1\" class=\"dataframe\">\n",
       "  <thead>\n",
       "    <tr style=\"text-align: right;\">\n",
       "      <th></th>\n",
       "      <th>weather</th>\n",
       "      <th>temp</th>\n",
       "      <th>atemp</th>\n",
       "      <th>humidity</th>\n",
       "      <th>windspeed</th>\n",
       "      <th>year</th>\n",
       "      <th>month</th>\n",
       "      <th>day</th>\n",
       "      <th>hour</th>\n",
       "      <th>season_0</th>\n",
       "      <th>season_1</th>\n",
       "      <th>season_2</th>\n",
       "      <th>season_3</th>\n",
       "      <th>holiday_0</th>\n",
       "      <th>holiday_1</th>\n",
       "      <th>workingday_0</th>\n",
       "      <th>workingday_1</th>\n",
       "    </tr>\n",
       "  </thead>\n",
       "  <tbody>\n",
       "    <tr>\n",
       "      <th>0</th>\n",
       "      <td>1</td>\n",
       "      <td>9.84</td>\n",
       "      <td>14.395</td>\n",
       "      <td>81</td>\n",
       "      <td>0.0000</td>\n",
       "      <td>2011</td>\n",
       "      <td>01</td>\n",
       "      <td>01</td>\n",
       "      <td>00</td>\n",
       "      <td>1</td>\n",
       "      <td>0</td>\n",
       "      <td>0</td>\n",
       "      <td>0</td>\n",
       "      <td>1</td>\n",
       "      <td>0</td>\n",
       "      <td>1</td>\n",
       "      <td>0</td>\n",
       "    </tr>\n",
       "    <tr>\n",
       "      <th>1</th>\n",
       "      <td>1</td>\n",
       "      <td>9.02</td>\n",
       "      <td>13.635</td>\n",
       "      <td>80</td>\n",
       "      <td>0.0000</td>\n",
       "      <td>2011</td>\n",
       "      <td>01</td>\n",
       "      <td>01</td>\n",
       "      <td>01</td>\n",
       "      <td>1</td>\n",
       "      <td>0</td>\n",
       "      <td>0</td>\n",
       "      <td>0</td>\n",
       "      <td>1</td>\n",
       "      <td>0</td>\n",
       "      <td>1</td>\n",
       "      <td>0</td>\n",
       "    </tr>\n",
       "    <tr>\n",
       "      <th>2</th>\n",
       "      <td>1</td>\n",
       "      <td>9.02</td>\n",
       "      <td>13.635</td>\n",
       "      <td>80</td>\n",
       "      <td>0.0000</td>\n",
       "      <td>2011</td>\n",
       "      <td>01</td>\n",
       "      <td>01</td>\n",
       "      <td>02</td>\n",
       "      <td>1</td>\n",
       "      <td>0</td>\n",
       "      <td>0</td>\n",
       "      <td>0</td>\n",
       "      <td>1</td>\n",
       "      <td>0</td>\n",
       "      <td>1</td>\n",
       "      <td>0</td>\n",
       "    </tr>\n",
       "    <tr>\n",
       "      <th>3</th>\n",
       "      <td>1</td>\n",
       "      <td>9.84</td>\n",
       "      <td>14.395</td>\n",
       "      <td>75</td>\n",
       "      <td>0.0000</td>\n",
       "      <td>2011</td>\n",
       "      <td>01</td>\n",
       "      <td>01</td>\n",
       "      <td>03</td>\n",
       "      <td>1</td>\n",
       "      <td>0</td>\n",
       "      <td>0</td>\n",
       "      <td>0</td>\n",
       "      <td>1</td>\n",
       "      <td>0</td>\n",
       "      <td>1</td>\n",
       "      <td>0</td>\n",
       "    </tr>\n",
       "    <tr>\n",
       "      <th>4</th>\n",
       "      <td>1</td>\n",
       "      <td>9.84</td>\n",
       "      <td>14.395</td>\n",
       "      <td>75</td>\n",
       "      <td>0.0000</td>\n",
       "      <td>2011</td>\n",
       "      <td>01</td>\n",
       "      <td>01</td>\n",
       "      <td>04</td>\n",
       "      <td>1</td>\n",
       "      <td>0</td>\n",
       "      <td>0</td>\n",
       "      <td>0</td>\n",
       "      <td>1</td>\n",
       "      <td>0</td>\n",
       "      <td>1</td>\n",
       "      <td>0</td>\n",
       "    </tr>\n",
       "    <tr>\n",
       "      <th>...</th>\n",
       "      <td>...</td>\n",
       "      <td>...</td>\n",
       "      <td>...</td>\n",
       "      <td>...</td>\n",
       "      <td>...</td>\n",
       "      <td>...</td>\n",
       "      <td>...</td>\n",
       "      <td>...</td>\n",
       "      <td>...</td>\n",
       "      <td>...</td>\n",
       "      <td>...</td>\n",
       "      <td>...</td>\n",
       "      <td>...</td>\n",
       "      <td>...</td>\n",
       "      <td>...</td>\n",
       "      <td>...</td>\n",
       "      <td>...</td>\n",
       "    </tr>\n",
       "    <tr>\n",
       "      <th>10881</th>\n",
       "      <td>1</td>\n",
       "      <td>15.58</td>\n",
       "      <td>19.695</td>\n",
       "      <td>50</td>\n",
       "      <td>26.0027</td>\n",
       "      <td>2012</td>\n",
       "      <td>12</td>\n",
       "      <td>19</td>\n",
       "      <td>19</td>\n",
       "      <td>0</td>\n",
       "      <td>0</td>\n",
       "      <td>0</td>\n",
       "      <td>1</td>\n",
       "      <td>1</td>\n",
       "      <td>0</td>\n",
       "      <td>0</td>\n",
       "      <td>1</td>\n",
       "    </tr>\n",
       "    <tr>\n",
       "      <th>10882</th>\n",
       "      <td>1</td>\n",
       "      <td>14.76</td>\n",
       "      <td>17.425</td>\n",
       "      <td>57</td>\n",
       "      <td>15.0013</td>\n",
       "      <td>2012</td>\n",
       "      <td>12</td>\n",
       "      <td>19</td>\n",
       "      <td>20</td>\n",
       "      <td>0</td>\n",
       "      <td>0</td>\n",
       "      <td>0</td>\n",
       "      <td>1</td>\n",
       "      <td>1</td>\n",
       "      <td>0</td>\n",
       "      <td>0</td>\n",
       "      <td>1</td>\n",
       "    </tr>\n",
       "    <tr>\n",
       "      <th>10883</th>\n",
       "      <td>1</td>\n",
       "      <td>13.94</td>\n",
       "      <td>15.910</td>\n",
       "      <td>61</td>\n",
       "      <td>15.0013</td>\n",
       "      <td>2012</td>\n",
       "      <td>12</td>\n",
       "      <td>19</td>\n",
       "      <td>21</td>\n",
       "      <td>0</td>\n",
       "      <td>0</td>\n",
       "      <td>0</td>\n",
       "      <td>1</td>\n",
       "      <td>1</td>\n",
       "      <td>0</td>\n",
       "      <td>0</td>\n",
       "      <td>1</td>\n",
       "    </tr>\n",
       "    <tr>\n",
       "      <th>10884</th>\n",
       "      <td>1</td>\n",
       "      <td>13.94</td>\n",
       "      <td>17.425</td>\n",
       "      <td>61</td>\n",
       "      <td>6.0032</td>\n",
       "      <td>2012</td>\n",
       "      <td>12</td>\n",
       "      <td>19</td>\n",
       "      <td>22</td>\n",
       "      <td>0</td>\n",
       "      <td>0</td>\n",
       "      <td>0</td>\n",
       "      <td>1</td>\n",
       "      <td>1</td>\n",
       "      <td>0</td>\n",
       "      <td>0</td>\n",
       "      <td>1</td>\n",
       "    </tr>\n",
       "    <tr>\n",
       "      <th>10885</th>\n",
       "      <td>1</td>\n",
       "      <td>13.12</td>\n",
       "      <td>16.665</td>\n",
       "      <td>66</td>\n",
       "      <td>8.9981</td>\n",
       "      <td>2012</td>\n",
       "      <td>12</td>\n",
       "      <td>19</td>\n",
       "      <td>23</td>\n",
       "      <td>0</td>\n",
       "      <td>0</td>\n",
       "      <td>0</td>\n",
       "      <td>1</td>\n",
       "      <td>1</td>\n",
       "      <td>0</td>\n",
       "      <td>0</td>\n",
       "      <td>1</td>\n",
       "    </tr>\n",
       "  </tbody>\n",
       "</table>\n",
       "<p>10886 rows × 17 columns</p>\n",
       "</div>"
      ],
      "text/plain": [
       "       weather   temp   atemp  humidity  windspeed  year month day hour  \\\n",
       "0            1   9.84  14.395        81     0.0000  2011    01  01   00   \n",
       "1            1   9.02  13.635        80     0.0000  2011    01  01   01   \n",
       "2            1   9.02  13.635        80     0.0000  2011    01  01   02   \n",
       "3            1   9.84  14.395        75     0.0000  2011    01  01   03   \n",
       "4            1   9.84  14.395        75     0.0000  2011    01  01   04   \n",
       "...        ...    ...     ...       ...        ...   ...   ...  ..  ...   \n",
       "10881        1  15.58  19.695        50    26.0027  2012    12  19   19   \n",
       "10882        1  14.76  17.425        57    15.0013  2012    12  19   20   \n",
       "10883        1  13.94  15.910        61    15.0013  2012    12  19   21   \n",
       "10884        1  13.94  17.425        61     6.0032  2012    12  19   22   \n",
       "10885        1  13.12  16.665        66     8.9981  2012    12  19   23   \n",
       "\n",
       "       season_0  season_1  season_2  season_3  holiday_0  holiday_1  \\\n",
       "0             1         0         0         0          1          0   \n",
       "1             1         0         0         0          1          0   \n",
       "2             1         0         0         0          1          0   \n",
       "3             1         0         0         0          1          0   \n",
       "4             1         0         0         0          1          0   \n",
       "...         ...       ...       ...       ...        ...        ...   \n",
       "10881         0         0         0         1          1          0   \n",
       "10882         0         0         0         1          1          0   \n",
       "10883         0         0         0         1          1          0   \n",
       "10884         0         0         0         1          1          0   \n",
       "10885         0         0         0         1          1          0   \n",
       "\n",
       "       workingday_0  workingday_1  \n",
       "0                 1             0  \n",
       "1                 1             0  \n",
       "2                 1             0  \n",
       "3                 1             0  \n",
       "4                 1             0  \n",
       "...             ...           ...  \n",
       "10881             0             1  \n",
       "10882             0             1  \n",
       "10883             0             1  \n",
       "10884             0             1  \n",
       "10885             0             1  \n",
       "\n",
       "[10886 rows x 17 columns]"
      ]
     },
     "metadata": {},
     "output_type": "display_data"
    }
   ],
   "source": [
    "X = onehot(X, 'workingday')"
   ]
  },
  {
   "cell_type": "code",
   "execution_count": 49,
   "id": "16a08eb3",
   "metadata": {
    "ExecuteTime": {
     "end_time": "2022-08-30T13:11:15.896277Z",
     "start_time": "2022-08-30T13:11:15.876137Z"
    }
   },
   "outputs": [
    {
     "data": {
      "text/html": [
       "<div>\n",
       "<style scoped>\n",
       "    .dataframe tbody tr th:only-of-type {\n",
       "        vertical-align: middle;\n",
       "    }\n",
       "\n",
       "    .dataframe tbody tr th {\n",
       "        vertical-align: top;\n",
       "    }\n",
       "\n",
       "    .dataframe thead th {\n",
       "        text-align: right;\n",
       "    }\n",
       "</style>\n",
       "<table border=\"1\" class=\"dataframe\">\n",
       "  <thead>\n",
       "    <tr style=\"text-align: right;\">\n",
       "      <th></th>\n",
       "      <th>temp</th>\n",
       "      <th>atemp</th>\n",
       "      <th>humidity</th>\n",
       "      <th>windspeed</th>\n",
       "      <th>year</th>\n",
       "      <th>month</th>\n",
       "      <th>day</th>\n",
       "      <th>hour</th>\n",
       "      <th>season_0</th>\n",
       "      <th>season_1</th>\n",
       "      <th>season_2</th>\n",
       "      <th>season_3</th>\n",
       "      <th>holiday_0</th>\n",
       "      <th>holiday_1</th>\n",
       "      <th>workingday_0</th>\n",
       "      <th>workingday_1</th>\n",
       "      <th>weather_0</th>\n",
       "      <th>weather_1</th>\n",
       "      <th>weather_2</th>\n",
       "      <th>weather_3</th>\n",
       "    </tr>\n",
       "  </thead>\n",
       "  <tbody>\n",
       "    <tr>\n",
       "      <th>0</th>\n",
       "      <td>9.84</td>\n",
       "      <td>14.395</td>\n",
       "      <td>81</td>\n",
       "      <td>0.0000</td>\n",
       "      <td>2011</td>\n",
       "      <td>01</td>\n",
       "      <td>01</td>\n",
       "      <td>00</td>\n",
       "      <td>1</td>\n",
       "      <td>0</td>\n",
       "      <td>0</td>\n",
       "      <td>0</td>\n",
       "      <td>1</td>\n",
       "      <td>0</td>\n",
       "      <td>1</td>\n",
       "      <td>0</td>\n",
       "      <td>1</td>\n",
       "      <td>0</td>\n",
       "      <td>0</td>\n",
       "      <td>0</td>\n",
       "    </tr>\n",
       "    <tr>\n",
       "      <th>1</th>\n",
       "      <td>9.02</td>\n",
       "      <td>13.635</td>\n",
       "      <td>80</td>\n",
       "      <td>0.0000</td>\n",
       "      <td>2011</td>\n",
       "      <td>01</td>\n",
       "      <td>01</td>\n",
       "      <td>01</td>\n",
       "      <td>1</td>\n",
       "      <td>0</td>\n",
       "      <td>0</td>\n",
       "      <td>0</td>\n",
       "      <td>1</td>\n",
       "      <td>0</td>\n",
       "      <td>1</td>\n",
       "      <td>0</td>\n",
       "      <td>1</td>\n",
       "      <td>0</td>\n",
       "      <td>0</td>\n",
       "      <td>0</td>\n",
       "    </tr>\n",
       "    <tr>\n",
       "      <th>2</th>\n",
       "      <td>9.02</td>\n",
       "      <td>13.635</td>\n",
       "      <td>80</td>\n",
       "      <td>0.0000</td>\n",
       "      <td>2011</td>\n",
       "      <td>01</td>\n",
       "      <td>01</td>\n",
       "      <td>02</td>\n",
       "      <td>1</td>\n",
       "      <td>0</td>\n",
       "      <td>0</td>\n",
       "      <td>0</td>\n",
       "      <td>1</td>\n",
       "      <td>0</td>\n",
       "      <td>1</td>\n",
       "      <td>0</td>\n",
       "      <td>1</td>\n",
       "      <td>0</td>\n",
       "      <td>0</td>\n",
       "      <td>0</td>\n",
       "    </tr>\n",
       "    <tr>\n",
       "      <th>3</th>\n",
       "      <td>9.84</td>\n",
       "      <td>14.395</td>\n",
       "      <td>75</td>\n",
       "      <td>0.0000</td>\n",
       "      <td>2011</td>\n",
       "      <td>01</td>\n",
       "      <td>01</td>\n",
       "      <td>03</td>\n",
       "      <td>1</td>\n",
       "      <td>0</td>\n",
       "      <td>0</td>\n",
       "      <td>0</td>\n",
       "      <td>1</td>\n",
       "      <td>0</td>\n",
       "      <td>1</td>\n",
       "      <td>0</td>\n",
       "      <td>1</td>\n",
       "      <td>0</td>\n",
       "      <td>0</td>\n",
       "      <td>0</td>\n",
       "    </tr>\n",
       "    <tr>\n",
       "      <th>4</th>\n",
       "      <td>9.84</td>\n",
       "      <td>14.395</td>\n",
       "      <td>75</td>\n",
       "      <td>0.0000</td>\n",
       "      <td>2011</td>\n",
       "      <td>01</td>\n",
       "      <td>01</td>\n",
       "      <td>04</td>\n",
       "      <td>1</td>\n",
       "      <td>0</td>\n",
       "      <td>0</td>\n",
       "      <td>0</td>\n",
       "      <td>1</td>\n",
       "      <td>0</td>\n",
       "      <td>1</td>\n",
       "      <td>0</td>\n",
       "      <td>1</td>\n",
       "      <td>0</td>\n",
       "      <td>0</td>\n",
       "      <td>0</td>\n",
       "    </tr>\n",
       "    <tr>\n",
       "      <th>...</th>\n",
       "      <td>...</td>\n",
       "      <td>...</td>\n",
       "      <td>...</td>\n",
       "      <td>...</td>\n",
       "      <td>...</td>\n",
       "      <td>...</td>\n",
       "      <td>...</td>\n",
       "      <td>...</td>\n",
       "      <td>...</td>\n",
       "      <td>...</td>\n",
       "      <td>...</td>\n",
       "      <td>...</td>\n",
       "      <td>...</td>\n",
       "      <td>...</td>\n",
       "      <td>...</td>\n",
       "      <td>...</td>\n",
       "      <td>...</td>\n",
       "      <td>...</td>\n",
       "      <td>...</td>\n",
       "      <td>...</td>\n",
       "    </tr>\n",
       "    <tr>\n",
       "      <th>10881</th>\n",
       "      <td>15.58</td>\n",
       "      <td>19.695</td>\n",
       "      <td>50</td>\n",
       "      <td>26.0027</td>\n",
       "      <td>2012</td>\n",
       "      <td>12</td>\n",
       "      <td>19</td>\n",
       "      <td>19</td>\n",
       "      <td>0</td>\n",
       "      <td>0</td>\n",
       "      <td>0</td>\n",
       "      <td>1</td>\n",
       "      <td>1</td>\n",
       "      <td>0</td>\n",
       "      <td>0</td>\n",
       "      <td>1</td>\n",
       "      <td>1</td>\n",
       "      <td>0</td>\n",
       "      <td>0</td>\n",
       "      <td>0</td>\n",
       "    </tr>\n",
       "    <tr>\n",
       "      <th>10882</th>\n",
       "      <td>14.76</td>\n",
       "      <td>17.425</td>\n",
       "      <td>57</td>\n",
       "      <td>15.0013</td>\n",
       "      <td>2012</td>\n",
       "      <td>12</td>\n",
       "      <td>19</td>\n",
       "      <td>20</td>\n",
       "      <td>0</td>\n",
       "      <td>0</td>\n",
       "      <td>0</td>\n",
       "      <td>1</td>\n",
       "      <td>1</td>\n",
       "      <td>0</td>\n",
       "      <td>0</td>\n",
       "      <td>1</td>\n",
       "      <td>1</td>\n",
       "      <td>0</td>\n",
       "      <td>0</td>\n",
       "      <td>0</td>\n",
       "    </tr>\n",
       "    <tr>\n",
       "      <th>10883</th>\n",
       "      <td>13.94</td>\n",
       "      <td>15.910</td>\n",
       "      <td>61</td>\n",
       "      <td>15.0013</td>\n",
       "      <td>2012</td>\n",
       "      <td>12</td>\n",
       "      <td>19</td>\n",
       "      <td>21</td>\n",
       "      <td>0</td>\n",
       "      <td>0</td>\n",
       "      <td>0</td>\n",
       "      <td>1</td>\n",
       "      <td>1</td>\n",
       "      <td>0</td>\n",
       "      <td>0</td>\n",
       "      <td>1</td>\n",
       "      <td>1</td>\n",
       "      <td>0</td>\n",
       "      <td>0</td>\n",
       "      <td>0</td>\n",
       "    </tr>\n",
       "    <tr>\n",
       "      <th>10884</th>\n",
       "      <td>13.94</td>\n",
       "      <td>17.425</td>\n",
       "      <td>61</td>\n",
       "      <td>6.0032</td>\n",
       "      <td>2012</td>\n",
       "      <td>12</td>\n",
       "      <td>19</td>\n",
       "      <td>22</td>\n",
       "      <td>0</td>\n",
       "      <td>0</td>\n",
       "      <td>0</td>\n",
       "      <td>1</td>\n",
       "      <td>1</td>\n",
       "      <td>0</td>\n",
       "      <td>0</td>\n",
       "      <td>1</td>\n",
       "      <td>1</td>\n",
       "      <td>0</td>\n",
       "      <td>0</td>\n",
       "      <td>0</td>\n",
       "    </tr>\n",
       "    <tr>\n",
       "      <th>10885</th>\n",
       "      <td>13.12</td>\n",
       "      <td>16.665</td>\n",
       "      <td>66</td>\n",
       "      <td>8.9981</td>\n",
       "      <td>2012</td>\n",
       "      <td>12</td>\n",
       "      <td>19</td>\n",
       "      <td>23</td>\n",
       "      <td>0</td>\n",
       "      <td>0</td>\n",
       "      <td>0</td>\n",
       "      <td>1</td>\n",
       "      <td>1</td>\n",
       "      <td>0</td>\n",
       "      <td>0</td>\n",
       "      <td>1</td>\n",
       "      <td>1</td>\n",
       "      <td>0</td>\n",
       "      <td>0</td>\n",
       "      <td>0</td>\n",
       "    </tr>\n",
       "  </tbody>\n",
       "</table>\n",
       "<p>10886 rows × 20 columns</p>\n",
       "</div>"
      ],
      "text/plain": [
       "        temp   atemp  humidity  windspeed  year month day hour  season_0  \\\n",
       "0       9.84  14.395        81     0.0000  2011    01  01   00         1   \n",
       "1       9.02  13.635        80     0.0000  2011    01  01   01         1   \n",
       "2       9.02  13.635        80     0.0000  2011    01  01   02         1   \n",
       "3       9.84  14.395        75     0.0000  2011    01  01   03         1   \n",
       "4       9.84  14.395        75     0.0000  2011    01  01   04         1   \n",
       "...      ...     ...       ...        ...   ...   ...  ..  ...       ...   \n",
       "10881  15.58  19.695        50    26.0027  2012    12  19   19         0   \n",
       "10882  14.76  17.425        57    15.0013  2012    12  19   20         0   \n",
       "10883  13.94  15.910        61    15.0013  2012    12  19   21         0   \n",
       "10884  13.94  17.425        61     6.0032  2012    12  19   22         0   \n",
       "10885  13.12  16.665        66     8.9981  2012    12  19   23         0   \n",
       "\n",
       "       season_1  season_2  season_3  holiday_0  holiday_1  workingday_0  \\\n",
       "0             0         0         0          1          0             1   \n",
       "1             0         0         0          1          0             1   \n",
       "2             0         0         0          1          0             1   \n",
       "3             0         0         0          1          0             1   \n",
       "4             0         0         0          1          0             1   \n",
       "...         ...       ...       ...        ...        ...           ...   \n",
       "10881         0         0         1          1          0             0   \n",
       "10882         0         0         1          1          0             0   \n",
       "10883         0         0         1          1          0             0   \n",
       "10884         0         0         1          1          0             0   \n",
       "10885         0         0         1          1          0             0   \n",
       "\n",
       "       workingday_1  weather_0  weather_1  weather_2  weather_3  \n",
       "0                 0          1          0          0          0  \n",
       "1                 0          1          0          0          0  \n",
       "2                 0          1          0          0          0  \n",
       "3                 0          1          0          0          0  \n",
       "4                 0          1          0          0          0  \n",
       "...             ...        ...        ...        ...        ...  \n",
       "10881             1          1          0          0          0  \n",
       "10882             1          1          0          0          0  \n",
       "10883             1          1          0          0          0  \n",
       "10884             1          1          0          0          0  \n",
       "10885             1          1          0          0          0  \n",
       "\n",
       "[10886 rows x 20 columns]"
      ]
     },
     "metadata": {},
     "output_type": "display_data"
    }
   ],
   "source": [
    "X = onehot(X, 'weather')"
   ]
  },
  {
   "cell_type": "markdown",
   "id": "38c97308",
   "metadata": {},
   "source": [
    "### 데이터셋 나누기"
   ]
  },
  {
   "cell_type": "code",
   "execution_count": 50,
   "id": "55c99dd3",
   "metadata": {
    "ExecuteTime": {
     "end_time": "2022-08-30T13:11:15.910876Z",
     "start_time": "2022-08-30T13:11:15.897385Z"
    }
   },
   "outputs": [],
   "source": [
    "from sklearn.model_selection import train_test_split"
   ]
  },
  {
   "cell_type": "code",
   "execution_count": 51,
   "id": "ba5b300c",
   "metadata": {
    "ExecuteTime": {
     "end_time": "2022-08-30T13:11:15.919222Z",
     "start_time": "2022-08-30T13:11:15.912052Z"
    }
   },
   "outputs": [],
   "source": [
    "X_train, X_valid, y_train, y_valid = train_test_split(X, y, test_size=0.2, random_state=42, shuffle=True)"
   ]
  },
  {
   "cell_type": "code",
   "execution_count": 52,
   "id": "c2c31c5e",
   "metadata": {
    "ExecuteTime": {
     "end_time": "2022-08-30T13:11:15.932312Z",
     "start_time": "2022-08-30T13:11:15.920525Z"
    }
   },
   "outputs": [
    {
     "data": {
      "text/plain": [
       "((8708, 20), (2178, 20))"
      ]
     },
     "execution_count": 52,
     "metadata": {},
     "output_type": "execute_result"
    }
   ],
   "source": [
    "X_train.shape, X_valid.shape"
   ]
  },
  {
   "cell_type": "code",
   "execution_count": 53,
   "id": "08d6befc",
   "metadata": {
    "ExecuteTime": {
     "end_time": "2022-08-30T13:11:15.948598Z",
     "start_time": "2022-08-30T13:11:15.934156Z"
    }
   },
   "outputs": [
    {
     "data": {
      "text/plain": [
       "((8708,), (2178,))"
      ]
     },
     "execution_count": 53,
     "metadata": {},
     "output_type": "execute_result"
    }
   ],
   "source": [
    "y_train.shape, y_valid.shape"
   ]
  },
  {
   "cell_type": "markdown",
   "id": "aa20e1ec",
   "metadata": {},
   "source": [
    "## 모델링\n",
    "<hr style=\"height:5px;border:none;color:#132e4f;background-color:#132e4f;\"/>"
   ]
  },
  {
   "cell_type": "markdown",
   "id": "8894343e",
   "metadata": {},
   "source": [
    "### 선형회귀"
   ]
  },
  {
   "cell_type": "code",
   "execution_count": 54,
   "id": "853ac00e",
   "metadata": {
    "ExecuteTime": {
     "end_time": "2022-08-30T13:11:15.981635Z",
     "start_time": "2022-08-30T13:11:15.950821Z"
    }
   },
   "outputs": [],
   "source": [
    "from sklearn.linear_model import LinearRegression"
   ]
  },
  {
   "cell_type": "code",
   "execution_count": 55,
   "id": "2598c16d",
   "metadata": {
    "ExecuteTime": {
     "end_time": "2022-08-30T13:11:16.005580Z",
     "start_time": "2022-08-30T13:11:15.983366Z"
    }
   },
   "outputs": [
    {
     "name": "stdout",
     "output_type": "stream",
     "text": [
      "선형회귀: 0.4006018845246878\n"
     ]
    }
   ],
   "source": [
    "model_lr = LinearRegression()\n",
    "model_lr.fit(X_train, y_train)\n",
    "score_lr = model_lr.score(X_valid, y_valid)\n",
    "print(f'선형회귀: {score_lr}')"
   ]
  },
  {
   "cell_type": "markdown",
   "id": "9514268b",
   "metadata": {},
   "source": [
    "### 나이브베이즈"
   ]
  },
  {
   "cell_type": "code",
   "execution_count": 56,
   "id": "4f665f2e",
   "metadata": {
    "ExecuteTime": {
     "end_time": "2022-08-30T13:11:16.010976Z",
     "start_time": "2022-08-30T13:11:16.007390Z"
    }
   },
   "outputs": [],
   "source": [
    "from sklearn.naive_bayes import GaussianNB"
   ]
  },
  {
   "cell_type": "code",
   "execution_count": 57,
   "id": "c068615b",
   "metadata": {
    "ExecuteTime": {
     "end_time": "2022-08-30T13:11:16.379551Z",
     "start_time": "2022-08-30T13:11:16.012636Z"
    }
   },
   "outputs": [
    {
     "name": "stdout",
     "output_type": "stream",
     "text": [
      "나이브베이즈: 0.0004591368227731864\n"
     ]
    }
   ],
   "source": [
    "model_nb = GaussianNB()\n",
    "model_nb.fit(X_train, y_train)\n",
    "score_nb = model_nb.score(X_valid, y_valid)\n",
    "print(f'나이브베이즈: {score_nb}')"
   ]
  },
  {
   "cell_type": "markdown",
   "id": "cc0217e7",
   "metadata": {},
   "source": [
    "### 서포트 벡터 머신"
   ]
  },
  {
   "cell_type": "code",
   "execution_count": 58,
   "id": "05ab7b7f",
   "metadata": {
    "ExecuteTime": {
     "end_time": "2022-08-30T13:11:16.383353Z",
     "start_time": "2022-08-30T13:11:16.380932Z"
    }
   },
   "outputs": [],
   "source": [
    "from sklearn.svm import SVC"
   ]
  },
  {
   "cell_type": "code",
   "execution_count": 59,
   "id": "5656085e",
   "metadata": {
    "ExecuteTime": {
     "end_time": "2022-08-30T13:11:59.450714Z",
     "start_time": "2022-08-30T13:11:16.384737Z"
    }
   },
   "outputs": [
    {
     "name": "stdout",
     "output_type": "stream",
     "text": [
      "서포트 벡터 머신: 0.014692378328741965\n"
     ]
    }
   ],
   "source": [
    "model_svc = SVC()\n",
    "model_svc.fit(X_train, y_train)\n",
    "score_svc = model_svc.score(X_valid, y_valid)\n",
    "print(f'서포트 벡터 머신: {score_svc}')"
   ]
  },
  {
   "cell_type": "markdown",
   "id": "451ce3cf",
   "metadata": {},
   "source": [
    "### 의사결정나무"
   ]
  },
  {
   "cell_type": "code",
   "execution_count": 60,
   "id": "81ea057e",
   "metadata": {
    "ExecuteTime": {
     "end_time": "2022-08-30T13:11:59.468781Z",
     "start_time": "2022-08-30T13:11:59.452174Z"
    }
   },
   "outputs": [],
   "source": [
    "from sklearn.tree import DecisionTreeRegressor"
   ]
  },
  {
   "cell_type": "code",
   "execution_count": 61,
   "id": "4d7966e2",
   "metadata": {
    "ExecuteTime": {
     "end_time": "2022-08-30T13:11:59.527402Z",
     "start_time": "2022-08-30T13:11:59.469896Z"
    }
   },
   "outputs": [
    {
     "name": "stdout",
     "output_type": "stream",
     "text": [
      "의사결정나무: 0.8933401819393396\n"
     ]
    }
   ],
   "source": [
    "model_dt = DecisionTreeRegressor()\n",
    "model_dt.fit(X_train, y_train)\n",
    "score_dt = model_dt.score(X_valid, y_valid)\n",
    "print(f'의사결정나무: {score_dt}')"
   ]
  },
  {
   "cell_type": "markdown",
   "id": "93dd0910",
   "metadata": {},
   "source": [
    "### 랜덤포레스트"
   ]
  },
  {
   "cell_type": "code",
   "execution_count": 62,
   "id": "148914de",
   "metadata": {
    "ExecuteTime": {
     "end_time": "2022-08-30T13:11:59.536743Z",
     "start_time": "2022-08-30T13:11:59.528679Z"
    }
   },
   "outputs": [],
   "source": [
    "from sklearn.ensemble import RandomForestRegressor"
   ]
  },
  {
   "cell_type": "code",
   "execution_count": 63,
   "id": "69c2360e",
   "metadata": {
    "ExecuteTime": {
     "end_time": "2022-08-30T13:12:02.313511Z",
     "start_time": "2022-08-30T13:11:59.538080Z"
    },
    "scrolled": true
   },
   "outputs": [
    {
     "name": "stdout",
     "output_type": "stream",
     "text": [
      "랜덤포레스트: 0.9458800647930765\n"
     ]
    }
   ],
   "source": [
    "model_rf = RandomForestRegressor()\n",
    "model_rf.fit(X_train, y_train)\n",
    "score_rf = model_rf.score(X_valid, y_valid)\n",
    "print(f'랜덤포레스트: {score_rf}')"
   ]
  },
  {
   "cell_type": "markdown",
   "id": "718edb80",
   "metadata": {},
   "source": [
    "## 하이퍼파라미터 튜닝\n",
    "<hr style=\"height:5px;border:none;color:#132e4f;background-color:#132e4f;\"/>"
   ]
  },
  {
   "cell_type": "code",
   "execution_count": 64,
   "id": "e253410a",
   "metadata": {
    "ExecuteTime": {
     "end_time": "2022-08-30T13:12:02.317082Z",
     "start_time": "2022-08-30T13:12:02.314915Z"
    }
   },
   "outputs": [],
   "source": [
    "from sklearn.model_selection import GridSearchCV"
   ]
  },
  {
   "cell_type": "code",
   "execution_count": 65,
   "id": "444aaf65",
   "metadata": {
    "ExecuteTime": {
     "end_time": "2022-08-30T13:12:02.331247Z",
     "start_time": "2022-08-30T13:12:02.318381Z"
    }
   },
   "outputs": [],
   "source": [
    "param_grid = {\n",
    "    'n_estimators' : [100, 200],\n",
    "    'min_samples_split': [2, 4, 6]\n",
    "}"
   ]
  },
  {
   "cell_type": "code",
   "execution_count": 66,
   "id": "6087f587",
   "metadata": {
    "ExecuteTime": {
     "end_time": "2022-08-30T13:12:02.345158Z",
     "start_time": "2022-08-30T13:12:02.332691Z"
    }
   },
   "outputs": [],
   "source": [
    "from sklearn.model_selection import KFold\n",
    "\n",
    "kf = KFold(\n",
    "    random_state=42,\n",
    "    n_splits=5,\n",
    "    shuffle=True,\n",
    ")"
   ]
  },
  {
   "cell_type": "code",
   "execution_count": 67,
   "id": "a1912540",
   "metadata": {
    "ExecuteTime": {
     "end_time": "2022-08-30T13:12:02.367983Z",
     "start_time": "2022-08-30T13:12:02.349205Z"
    }
   },
   "outputs": [],
   "source": [
    "grid_search = GridSearchCV(\n",
    "    estimator=RandomForestRegressor(),\n",
    "    param_grid=param_grid,\n",
    "    cv=kf,\n",
    "    n_jobs=-1,\n",
    "    verbose=2\n",
    ")"
   ]
  },
  {
   "cell_type": "code",
   "execution_count": 68,
   "id": "6ade85e5",
   "metadata": {
    "ExecuteTime": {
     "end_time": "2022-08-30T13:12:18.287528Z",
     "start_time": "2022-08-30T13:12:02.369494Z"
    }
   },
   "outputs": [
    {
     "name": "stdout",
     "output_type": "stream",
     "text": [
      "Fitting 5 folds for each of 6 candidates, totalling 30 fits\n"
     ]
    },
    {
     "data": {
      "text/plain": [
       "GridSearchCV(cv=KFold(n_splits=5, random_state=42, shuffle=True),\n",
       "             estimator=RandomForestRegressor(), n_jobs=-1,\n",
       "             param_grid={'min_samples_split': [2, 4, 6],\n",
       "                         'n_estimators': [100, 200]},\n",
       "             verbose=2)"
      ]
     },
     "execution_count": 68,
     "metadata": {},
     "output_type": "execute_result"
    }
   ],
   "source": [
    "grid_search.fit(X_train, y_train)"
   ]
  },
  {
   "cell_type": "code",
   "execution_count": 69,
   "id": "9ca65a4f",
   "metadata": {
    "ExecuteTime": {
     "end_time": "2022-08-30T13:12:18.292916Z",
     "start_time": "2022-08-30T13:12:18.289203Z"
    }
   },
   "outputs": [
    {
     "data": {
      "text/plain": [
       "{'min_samples_split': 2, 'n_estimators': 200}"
      ]
     },
     "execution_count": 69,
     "metadata": {},
     "output_type": "execute_result"
    }
   ],
   "source": [
    "grid_search.best_params_"
   ]
  },
  {
   "cell_type": "code",
   "execution_count": 70,
   "id": "1ee731e6",
   "metadata": {
    "ExecuteTime": {
     "end_time": "2022-08-30T13:12:18.312252Z",
     "start_time": "2022-08-30T13:12:18.294281Z"
    }
   },
   "outputs": [
    {
     "data": {
      "text/plain": [
       "{'mean_fit_time': array([3.79751301, 7.10293889, 3.31908441, 6.5093327 , 2.91776614,\n",
       "        4.88235846]),\n",
       " 'std_fit_time': array([0.05395238, 0.10286228, 0.15679747, 0.12319529, 0.02298882,\n",
       "        0.06233221]),\n",
       " 'mean_score_time': array([0.06618032, 0.09478664, 0.05666189, 0.08923554, 0.0488596 ,\n",
       "        0.06821613]),\n",
       " 'std_score_time': array([0.0006074 , 0.00122573, 0.0005334 , 0.01351628, 0.00623761,\n",
       "        0.00030024]),\n",
       " 'param_min_samples_split': masked_array(data=[2, 2, 4, 4, 6, 6],\n",
       "              mask=[False, False, False, False, False, False],\n",
       "        fill_value='?',\n",
       "             dtype=object),\n",
       " 'param_n_estimators': masked_array(data=[100, 200, 100, 200, 100, 200],\n",
       "              mask=[False, False, False, False, False, False],\n",
       "        fill_value='?',\n",
       "             dtype=object),\n",
       " 'params': [{'min_samples_split': 2, 'n_estimators': 100},\n",
       "  {'min_samples_split': 2, 'n_estimators': 200},\n",
       "  {'min_samples_split': 4, 'n_estimators': 100},\n",
       "  {'min_samples_split': 4, 'n_estimators': 200},\n",
       "  {'min_samples_split': 6, 'n_estimators': 100},\n",
       "  {'min_samples_split': 6, 'n_estimators': 200}],\n",
       " 'split0_test_score': array([0.94008271, 0.93979533, 0.93942008, 0.94012821, 0.93936124,\n",
       "        0.93954911]),\n",
       " 'split1_test_score': array([0.93869503, 0.9407498 , 0.93996488, 0.93989104, 0.94167331,\n",
       "        0.94080363]),\n",
       " 'split2_test_score': array([0.9369482 , 0.93691426, 0.93770519, 0.9368457 , 0.93503742,\n",
       "        0.93534211]),\n",
       " 'split3_test_score': array([0.93844296, 0.93906623, 0.93869799, 0.93847471, 0.93818937,\n",
       "        0.9387979 ]),\n",
       " 'split4_test_score': array([0.9389394 , 0.93994331, 0.93896681, 0.93978458, 0.93969374,\n",
       "        0.93878077]),\n",
       " 'mean_test_score': array([0.93862166, 0.93929379, 0.93895099, 0.93902485, 0.93879102,\n",
       "        0.9386547 ]),\n",
       " 'std_test_score': array([0.00100731, 0.0013044 , 0.00075687, 0.00123258, 0.00218628,\n",
       "        0.0018126 ]),\n",
       " 'rank_test_score': array([6, 1, 3, 2, 4, 5], dtype=int32)}"
      ]
     },
     "execution_count": 70,
     "metadata": {},
     "output_type": "execute_result"
    }
   ],
   "source": [
    "grid_search.cv_results_"
   ]
  },
  {
   "cell_type": "code",
   "execution_count": 71,
   "id": "f7cd9463",
   "metadata": {
    "ExecuteTime": {
     "end_time": "2022-08-30T13:12:18.343637Z",
     "start_time": "2022-08-30T13:12:18.313609Z"
    }
   },
   "outputs": [
    {
     "data": {
      "text/html": [
       "<div>\n",
       "<style scoped>\n",
       "    .dataframe tbody tr th:only-of-type {\n",
       "        vertical-align: middle;\n",
       "    }\n",
       "\n",
       "    .dataframe tbody tr th {\n",
       "        vertical-align: top;\n",
       "    }\n",
       "\n",
       "    .dataframe thead th {\n",
       "        text-align: right;\n",
       "    }\n",
       "</style>\n",
       "<table border=\"1\" class=\"dataframe\">\n",
       "  <thead>\n",
       "    <tr style=\"text-align: right;\">\n",
       "      <th></th>\n",
       "      <th>mean_fit_time</th>\n",
       "      <th>std_fit_time</th>\n",
       "      <th>mean_score_time</th>\n",
       "      <th>std_score_time</th>\n",
       "      <th>param_min_samples_split</th>\n",
       "      <th>param_n_estimators</th>\n",
       "      <th>params</th>\n",
       "      <th>split0_test_score</th>\n",
       "      <th>split1_test_score</th>\n",
       "      <th>split2_test_score</th>\n",
       "      <th>split3_test_score</th>\n",
       "      <th>split4_test_score</th>\n",
       "      <th>mean_test_score</th>\n",
       "      <th>std_test_score</th>\n",
       "      <th>rank_test_score</th>\n",
       "    </tr>\n",
       "  </thead>\n",
       "  <tbody>\n",
       "    <tr>\n",
       "      <th>0</th>\n",
       "      <td>3.797513</td>\n",
       "      <td>0.053952</td>\n",
       "      <td>0.066180</td>\n",
       "      <td>0.000607</td>\n",
       "      <td>2</td>\n",
       "      <td>100</td>\n",
       "      <td>{'min_samples_split': 2, 'n_estimators': 100}</td>\n",
       "      <td>0.940083</td>\n",
       "      <td>0.938695</td>\n",
       "      <td>0.936948</td>\n",
       "      <td>0.938443</td>\n",
       "      <td>0.938939</td>\n",
       "      <td>0.938622</td>\n",
       "      <td>0.001007</td>\n",
       "      <td>6</td>\n",
       "    </tr>\n",
       "    <tr>\n",
       "      <th>1</th>\n",
       "      <td>7.102939</td>\n",
       "      <td>0.102862</td>\n",
       "      <td>0.094787</td>\n",
       "      <td>0.001226</td>\n",
       "      <td>2</td>\n",
       "      <td>200</td>\n",
       "      <td>{'min_samples_split': 2, 'n_estimators': 200}</td>\n",
       "      <td>0.939795</td>\n",
       "      <td>0.940750</td>\n",
       "      <td>0.936914</td>\n",
       "      <td>0.939066</td>\n",
       "      <td>0.939943</td>\n",
       "      <td>0.939294</td>\n",
       "      <td>0.001304</td>\n",
       "      <td>1</td>\n",
       "    </tr>\n",
       "    <tr>\n",
       "      <th>2</th>\n",
       "      <td>3.319084</td>\n",
       "      <td>0.156797</td>\n",
       "      <td>0.056662</td>\n",
       "      <td>0.000533</td>\n",
       "      <td>4</td>\n",
       "      <td>100</td>\n",
       "      <td>{'min_samples_split': 4, 'n_estimators': 100}</td>\n",
       "      <td>0.939420</td>\n",
       "      <td>0.939965</td>\n",
       "      <td>0.937705</td>\n",
       "      <td>0.938698</td>\n",
       "      <td>0.938967</td>\n",
       "      <td>0.938951</td>\n",
       "      <td>0.000757</td>\n",
       "      <td>3</td>\n",
       "    </tr>\n",
       "    <tr>\n",
       "      <th>3</th>\n",
       "      <td>6.509333</td>\n",
       "      <td>0.123195</td>\n",
       "      <td>0.089236</td>\n",
       "      <td>0.013516</td>\n",
       "      <td>4</td>\n",
       "      <td>200</td>\n",
       "      <td>{'min_samples_split': 4, 'n_estimators': 200}</td>\n",
       "      <td>0.940128</td>\n",
       "      <td>0.939891</td>\n",
       "      <td>0.936846</td>\n",
       "      <td>0.938475</td>\n",
       "      <td>0.939785</td>\n",
       "      <td>0.939025</td>\n",
       "      <td>0.001233</td>\n",
       "      <td>2</td>\n",
       "    </tr>\n",
       "    <tr>\n",
       "      <th>4</th>\n",
       "      <td>2.917766</td>\n",
       "      <td>0.022989</td>\n",
       "      <td>0.048860</td>\n",
       "      <td>0.006238</td>\n",
       "      <td>6</td>\n",
       "      <td>100</td>\n",
       "      <td>{'min_samples_split': 6, 'n_estimators': 100}</td>\n",
       "      <td>0.939361</td>\n",
       "      <td>0.941673</td>\n",
       "      <td>0.935037</td>\n",
       "      <td>0.938189</td>\n",
       "      <td>0.939694</td>\n",
       "      <td>0.938791</td>\n",
       "      <td>0.002186</td>\n",
       "      <td>4</td>\n",
       "    </tr>\n",
       "    <tr>\n",
       "      <th>5</th>\n",
       "      <td>4.882358</td>\n",
       "      <td>0.062332</td>\n",
       "      <td>0.068216</td>\n",
       "      <td>0.000300</td>\n",
       "      <td>6</td>\n",
       "      <td>200</td>\n",
       "      <td>{'min_samples_split': 6, 'n_estimators': 200}</td>\n",
       "      <td>0.939549</td>\n",
       "      <td>0.940804</td>\n",
       "      <td>0.935342</td>\n",
       "      <td>0.938798</td>\n",
       "      <td>0.938781</td>\n",
       "      <td>0.938655</td>\n",
       "      <td>0.001813</td>\n",
       "      <td>5</td>\n",
       "    </tr>\n",
       "  </tbody>\n",
       "</table>\n",
       "</div>"
      ],
      "text/plain": [
       "   mean_fit_time  std_fit_time  mean_score_time  std_score_time  \\\n",
       "0       3.797513      0.053952         0.066180        0.000607   \n",
       "1       7.102939      0.102862         0.094787        0.001226   \n",
       "2       3.319084      0.156797         0.056662        0.000533   \n",
       "3       6.509333      0.123195         0.089236        0.013516   \n",
       "4       2.917766      0.022989         0.048860        0.006238   \n",
       "5       4.882358      0.062332         0.068216        0.000300   \n",
       "\n",
       "  param_min_samples_split param_n_estimators  \\\n",
       "0                       2                100   \n",
       "1                       2                200   \n",
       "2                       4                100   \n",
       "3                       4                200   \n",
       "4                       6                100   \n",
       "5                       6                200   \n",
       "\n",
       "                                          params  split0_test_score  \\\n",
       "0  {'min_samples_split': 2, 'n_estimators': 100}           0.940083   \n",
       "1  {'min_samples_split': 2, 'n_estimators': 200}           0.939795   \n",
       "2  {'min_samples_split': 4, 'n_estimators': 100}           0.939420   \n",
       "3  {'min_samples_split': 4, 'n_estimators': 200}           0.940128   \n",
       "4  {'min_samples_split': 6, 'n_estimators': 100}           0.939361   \n",
       "5  {'min_samples_split': 6, 'n_estimators': 200}           0.939549   \n",
       "\n",
       "   split1_test_score  split2_test_score  split3_test_score  split4_test_score  \\\n",
       "0           0.938695           0.936948           0.938443           0.938939   \n",
       "1           0.940750           0.936914           0.939066           0.939943   \n",
       "2           0.939965           0.937705           0.938698           0.938967   \n",
       "3           0.939891           0.936846           0.938475           0.939785   \n",
       "4           0.941673           0.935037           0.938189           0.939694   \n",
       "5           0.940804           0.935342           0.938798           0.938781   \n",
       "\n",
       "   mean_test_score  std_test_score  rank_test_score  \n",
       "0         0.938622        0.001007                6  \n",
       "1         0.939294        0.001304                1  \n",
       "2         0.938951        0.000757                3  \n",
       "3         0.939025        0.001233                2  \n",
       "4         0.938791        0.002186                4  \n",
       "5         0.938655        0.001813                5  "
      ]
     },
     "execution_count": 71,
     "metadata": {},
     "output_type": "execute_result"
    }
   ],
   "source": [
    "pd.DataFrame(grid_search.cv_results_)"
   ]
  },
  {
   "cell_type": "markdown",
   "id": "8fa9e065",
   "metadata": {},
   "source": [
    "## 성능 평가\n",
    "<hr style=\"height:5px;border:none;color:#132e4f;background-color:#132e4f;\"/>"
   ]
  },
  {
   "cell_type": "code",
   "execution_count": 72,
   "id": "55f6bc7c",
   "metadata": {
    "ExecuteTime": {
     "end_time": "2022-08-30T13:12:18.518400Z",
     "start_time": "2022-08-30T13:12:18.344737Z"
    }
   },
   "outputs": [
    {
     "data": {
      "image/png": "[encoded data removed]",
      "text/plain": [
       "<Figure size 576x432 with 1 Axes>"
      ]
     },
     "metadata": {
      "needs_background": "light"
     },
     "output_type": "display_data"
    }
   ],
   "source": [
    "model_scores = [score_lr,\n",
    "                score_nb,\n",
    "                score_svc,\n",
    "                score_dt,\n",
    "                score_rf]\n",
    "color_list = ['lightgray']*4; color_list.append('pink')\n",
    "\n",
    "plt.figure(figsize=(8,6))\n",
    "plt.bar(range(5),\n",
    "        model_scores,\n",
    "        color=color_list)\n",
    "plt.xticks(range(5),\n",
    "           ['선형회귀',\n",
    "            '나이브베이즈',\n",
    "            '서포트벡터머신',\n",
    "            '의사결정나무',\n",
    "            '랜덤포레스트'])\n",
    "plt.ylabel('R2-Score')\n",
    "plt.xlabel('모델')\n",
    "plt.grid(True, alpha=0.3, axis='y')\n",
    "# plt.ylim(0,0.001)\n",
    "plt.show()"
   ]
  },
  {
   "cell_type": "markdown",
   "id": "2407fea7",
   "metadata": {},
   "source": [
    "## 참고자료\n",
    "<hr style=\"height:5px;border:none;color:#132e4f;background-color:#132e4f;\"/>"
   ]
  },
  {
   "cell_type": "markdown",
   "id": "2d46f50d",
   "metadata": {},
   "source": [
    "- "
   ]
  },
  {
   "cell_type": "markdown",
   "id": "00ab68b8",
   "metadata": {},
   "source": [
    "<br>\n",
    "\n",
    "<span style=\"color:rgb(120, 120, 120)\">본 학습 자료를 포함한 모든 자료의 저작권은 성민석에 있으며 제작자의 동의없이 외부로의 무단 복제, 배포 및 전송을 절대로 불허합니다.\n",
    "\n",
    "<b>Copyright ⓒ 2022. Minsuk Sung. All rights reserved.</b>\n",
    "</span>\n",
    "\n",
    "<br>"
   ]
  }
 ],
 "metadata": {
  "kernelspec": {
   "display_name": "Python 3",
   "language": "python",
   "name": "python3"
  },
  "language_info": {
   "codemirror_mode": {
    "name": "ipython",
    "version": 3
   },
   "file_extension": ".py",
   "mimetype": "text/x-python",
   "name": "python",
   "nbconvert_exporter": "python",
   "pygments_lexer": "ipython3",
   "version": "3.7.10"
  },
  "toc": {
   "base_numbering": 1,
   "nav_menu": {},
   "number_sections": true,
   "sideBar": true,
   "skip_h1_title": true,
   "title_cell": "목차",
   "title_sidebar": "내용",
   "toc_cell": true,
   "toc_position": {
    "height": "calc(100% - 180px)",
    "left": "10px",
    "top": "150px",
    "width": "165px"
   },
   "toc_section_display": true,
   "toc_window_display": true
  }
 },
 "nbformat": 4,
 "nbformat_minor": 5
}
