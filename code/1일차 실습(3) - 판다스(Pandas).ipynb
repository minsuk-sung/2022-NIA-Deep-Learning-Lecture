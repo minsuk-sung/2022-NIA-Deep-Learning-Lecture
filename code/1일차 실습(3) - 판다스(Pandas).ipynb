{
 "cells": [
  {
   "cell_type": "markdown",
   "id": "133631a0",
   "metadata": {},
   "source": [
    "![](../img/banner_day1.png)\n",
    "\n",
    "<br>\n",
    "\n",
    "# 1일차 실습(3) - 판다스(Pandas)\n",
    "\n",
    "<br>\n",
    "<br>\n",
    "<div align='right'>강사 성민석</div>\n",
    "<div align='right'>고려대학교 인공지능학과 박사과정</div>\n",
    "<div align='right'>(minsuksung@korea.ac.kr)</div>"
   ]
  },
  {
   "cell_type": "markdown",
   "id": "50ded8c6",
   "metadata": {},
   "source": [
    "> <font color='red'><b>WARNING</b></font>: 본 컨텐츠는 **[저작권법 제25조 제2항](https://glaw.scourt.go.kr/wsjo/lawod/sjo192.do?contId=2135829&jomunNo=25)** 에 의해 강의 목적으로 이용한 저작물이 포함되어 있습니다.  \n",
    "> 해당 자료를 제작자의 동의없이 <font color='red'><b>외부에 임의로 공개 및 수정하는 것을 금지</b></font>하며 이를 위반하는 경우 저작권 침해로서 관련법에 따라 처벌될 수 있으니 주의해주시기 바랍니다."
   ]
  },
  {
   "cell_type": "markdown",
   "id": "5f24954f",
   "metadata": {
    "toc": true
   },
   "source": [
    "<h1>목차<span class=\"tocSkip\"></span></h1>\n",
    "<div class=\"toc\"><ul class=\"toc-item\"><li><span><a href=\"#Pandas-불러오기\" data-toc-modified-id=\"Pandas-불러오기-1\"><span class=\"toc-item-num\">1&nbsp;&nbsp;</span>Pandas 불러오기</a></span></li><li><span><a href=\"#Series-&amp;-DataFrame\" data-toc-modified-id=\"Series-&amp;-DataFrame-2\"><span class=\"toc-item-num\">2&nbsp;&nbsp;</span>Series &amp; DataFrame</a></span></li><li><span><a href=\"#DataFrame의-기본-함수들-다루기\" data-toc-modified-id=\"DataFrame의-기본-함수들-다루기-3\"><span class=\"toc-item-num\">3&nbsp;&nbsp;</span>DataFrame의 기본 함수들 다루기</a></span></li><li><span><a href=\"#평균과-분산-구하기\" data-toc-modified-id=\"평균과-분산-구하기-4\"><span class=\"toc-item-num\">4&nbsp;&nbsp;</span>평균과 분산 구하기</a></span></li><li><span><a href=\"#데이터프레임에서의-슬라이싱\" data-toc-modified-id=\"데이터프레임에서의-슬라이싱-5\"><span class=\"toc-item-num\">5&nbsp;&nbsp;</span>데이터프레임에서의 슬라이싱</a></span></li><li><span><a href=\"#데이터프레임에서-조건에-맞는-값-가져오기\" data-toc-modified-id=\"데이터프레임에서-조건에-맞는-값-가져오기-6\"><span class=\"toc-item-num\">6&nbsp;&nbsp;</span>데이터프레임에서 조건에 맞는 값 가져오기</a></span></li><li><span><a href=\"#참고자료\" data-toc-modified-id=\"참고자료-7\"><span class=\"toc-item-num\">7&nbsp;&nbsp;</span>참고자료</a></span></li></ul></div>"
   ]
  },
  {
   "cell_type": "markdown",
   "id": "6cb072aa",
   "metadata": {},
   "source": [
    "## Pandas 불러오기\n",
    "<hr style=\"height:5px;border:none;color:#132e4f;background-color:#132e4f;\"/>"
   ]
  },
  {
   "cell_type": "code",
   "execution_count": 2,
   "id": "24d1dbde",
   "metadata": {
    "ExecuteTime": {
     "end_time": "2022-08-29T07:00:34.561538Z",
     "start_time": "2022-08-29T07:00:34.299958Z"
    }
   },
   "outputs": [],
   "source": [
    "import numpy as np\n",
    "import pandas as pd"
   ]
  },
  {
   "cell_type": "code",
   "execution_count": 3,
   "id": "d899f76f",
   "metadata": {
    "ExecuteTime": {
     "end_time": "2022-08-29T07:00:34.573099Z",
     "start_time": "2022-08-29T07:00:34.563085Z"
    }
   },
   "outputs": [
    {
     "data": {
      "text/plain": [
       "['BooleanDtype',\n",
       " 'Categorical',\n",
       " 'CategoricalDtype',\n",
       " 'CategoricalIndex',\n",
       " 'DataFrame',\n",
       " 'DateOffset',\n",
       " 'DatetimeIndex',\n",
       " 'DatetimeTZDtype',\n",
       " 'ExcelFile',\n",
       " 'ExcelWriter',\n",
       " 'Flags',\n",
       " 'Float32Dtype',\n",
       " 'Float64Dtype',\n",
       " 'Float64Index',\n",
       " 'Grouper',\n",
       " 'HDFStore',\n",
       " 'Index',\n",
       " 'IndexSlice',\n",
       " 'Int16Dtype',\n",
       " 'Int32Dtype',\n",
       " 'Int64Dtype',\n",
       " 'Int64Index',\n",
       " 'Int8Dtype',\n",
       " 'Interval',\n",
       " 'IntervalDtype',\n",
       " 'IntervalIndex',\n",
       " 'MultiIndex',\n",
       " 'NA',\n",
       " 'NaT',\n",
       " 'NamedAgg',\n",
       " 'Period',\n",
       " 'PeriodDtype',\n",
       " 'PeriodIndex',\n",
       " 'RangeIndex',\n",
       " 'Series',\n",
       " 'SparseDtype',\n",
       " 'StringDtype',\n",
       " 'Timedelta',\n",
       " 'TimedeltaIndex',\n",
       " 'Timestamp',\n",
       " 'UInt16Dtype',\n",
       " 'UInt32Dtype',\n",
       " 'UInt64Dtype',\n",
       " 'UInt64Index',\n",
       " 'UInt8Dtype',\n",
       " '__builtins__',\n",
       " '__cached__',\n",
       " '__doc__',\n",
       " '__docformat__',\n",
       " '__file__',\n",
       " '__getattr__',\n",
       " '__git_version__',\n",
       " '__loader__',\n",
       " '__name__',\n",
       " '__package__',\n",
       " '__path__',\n",
       " '__spec__',\n",
       " '__version__',\n",
       " '_config',\n",
       " '_hashtable',\n",
       " '_is_numpy_dev',\n",
       " '_lib',\n",
       " '_libs',\n",
       " '_np_version_under1p17',\n",
       " '_np_version_under1p18',\n",
       " '_testing',\n",
       " '_tslib',\n",
       " '_typing',\n",
       " '_version',\n",
       " 'api',\n",
       " 'array',\n",
       " 'arrays',\n",
       " 'bdate_range',\n",
       " 'compat',\n",
       " 'concat',\n",
       " 'core',\n",
       " 'crosstab',\n",
       " 'cut',\n",
       " 'date_range',\n",
       " 'describe_option',\n",
       " 'errors',\n",
       " 'eval',\n",
       " 'factorize',\n",
       " 'get_dummies',\n",
       " 'get_option',\n",
       " 'infer_freq',\n",
       " 'interval_range',\n",
       " 'io',\n",
       " 'isna',\n",
       " 'isnull',\n",
       " 'json_normalize',\n",
       " 'lreshape',\n",
       " 'melt',\n",
       " 'merge',\n",
       " 'merge_asof',\n",
       " 'merge_ordered',\n",
       " 'notna',\n",
       " 'notnull',\n",
       " 'offsets',\n",
       " 'option_context',\n",
       " 'options',\n",
       " 'pandas',\n",
       " 'period_range',\n",
       " 'pivot',\n",
       " 'pivot_table',\n",
       " 'plotting',\n",
       " 'qcut',\n",
       " 'read_clipboard',\n",
       " 'read_csv',\n",
       " 'read_excel',\n",
       " 'read_feather',\n",
       " 'read_fwf',\n",
       " 'read_gbq',\n",
       " 'read_hdf',\n",
       " 'read_html',\n",
       " 'read_json',\n",
       " 'read_orc',\n",
       " 'read_parquet',\n",
       " 'read_pickle',\n",
       " 'read_sas',\n",
       " 'read_spss',\n",
       " 'read_sql',\n",
       " 'read_sql_query',\n",
       " 'read_sql_table',\n",
       " 'read_stata',\n",
       " 'read_table',\n",
       " 'reset_option',\n",
       " 'set_eng_float_format',\n",
       " 'set_option',\n",
       " 'show_versions',\n",
       " 'test',\n",
       " 'testing',\n",
       " 'timedelta_range',\n",
       " 'to_datetime',\n",
       " 'to_numeric',\n",
       " 'to_pickle',\n",
       " 'to_timedelta',\n",
       " 'tseries',\n",
       " 'unique',\n",
       " 'util',\n",
       " 'value_counts',\n",
       " 'wide_to_long']"
      ]
     },
     "execution_count": 3,
     "metadata": {},
     "output_type": "execute_result"
    }
   ],
   "source": [
    "dir(pd)"
   ]
  },
  {
   "cell_type": "markdown",
   "id": "2e59af19",
   "metadata": {},
   "source": [
    "## Series & DataFrame"
   ]
  },
  {
   "cell_type": "code",
   "execution_count": 20,
   "id": "ab31c485",
   "metadata": {
    "ExecuteTime": {
     "end_time": "2022-08-29T07:02:16.918911Z",
     "start_time": "2022-08-29T07:02:16.897588Z"
    }
   },
   "outputs": [
    {
     "data": {
      "text/html": [
       "<div>\n",
       "<style scoped>\n",
       "    .dataframe tbody tr th:only-of-type {\n",
       "        vertical-align: middle;\n",
       "    }\n",
       "\n",
       "    .dataframe tbody tr th {\n",
       "        vertical-align: top;\n",
       "    }\n",
       "\n",
       "    .dataframe thead th {\n",
       "        text-align: right;\n",
       "    }\n",
       "</style>\n",
       "<table border=\"1\" class=\"dataframe\">\n",
       "  <thead>\n",
       "    <tr style=\"text-align: right;\">\n",
       "      <th></th>\n",
       "      <th>a</th>\n",
       "      <th>b</th>\n",
       "      <th>c</th>\n",
       "      <th>d</th>\n",
       "    </tr>\n",
       "  </thead>\n",
       "  <tbody>\n",
       "    <tr>\n",
       "      <th>0</th>\n",
       "      <td>-0.361312</td>\n",
       "      <td>-0.161539</td>\n",
       "      <td>0.351098</td>\n",
       "      <td>6</td>\n",
       "    </tr>\n",
       "    <tr>\n",
       "      <th>1</th>\n",
       "      <td>0.288500</td>\n",
       "      <td>-0.292623</td>\n",
       "      <td>0.669895</td>\n",
       "      <td>1</td>\n",
       "    </tr>\n",
       "    <tr>\n",
       "      <th>2</th>\n",
       "      <td>0.869809</td>\n",
       "      <td>-0.176344</td>\n",
       "      <td>-0.138502</td>\n",
       "      <td>4</td>\n",
       "    </tr>\n",
       "    <tr>\n",
       "      <th>3</th>\n",
       "      <td>-1.583795</td>\n",
       "      <td>-2.600143</td>\n",
       "      <td>1.374986</td>\n",
       "      <td>1</td>\n",
       "    </tr>\n",
       "    <tr>\n",
       "      <th>4</th>\n",
       "      <td>-1.969009</td>\n",
       "      <td>-1.252417</td>\n",
       "      <td>-0.015441</td>\n",
       "      <td>4</td>\n",
       "    </tr>\n",
       "    <tr>\n",
       "      <th>...</th>\n",
       "      <td>...</td>\n",
       "      <td>...</td>\n",
       "      <td>...</td>\n",
       "      <td>...</td>\n",
       "    </tr>\n",
       "    <tr>\n",
       "      <th>995</th>\n",
       "      <td>0.354329</td>\n",
       "      <td>-1.251685</td>\n",
       "      <td>0.658151</td>\n",
       "      <td>3</td>\n",
       "    </tr>\n",
       "    <tr>\n",
       "      <th>996</th>\n",
       "      <td>0.539712</td>\n",
       "      <td>0.286760</td>\n",
       "      <td>0.547171</td>\n",
       "      <td>6</td>\n",
       "    </tr>\n",
       "    <tr>\n",
       "      <th>997</th>\n",
       "      <td>-0.899332</td>\n",
       "      <td>-0.405353</td>\n",
       "      <td>0.267945</td>\n",
       "      <td>6</td>\n",
       "    </tr>\n",
       "    <tr>\n",
       "      <th>998</th>\n",
       "      <td>1.349925</td>\n",
       "      <td>0.011695</td>\n",
       "      <td>0.936137</td>\n",
       "      <td>4</td>\n",
       "    </tr>\n",
       "    <tr>\n",
       "      <th>999</th>\n",
       "      <td>0.733247</td>\n",
       "      <td>0.834500</td>\n",
       "      <td>-0.052826</td>\n",
       "      <td>4</td>\n",
       "    </tr>\n",
       "  </tbody>\n",
       "</table>\n",
       "<p>1000 rows × 4 columns</p>\n",
       "</div>"
      ],
      "text/plain": [
       "            a         b         c  d\n",
       "0   -0.361312 -0.161539  0.351098  6\n",
       "1    0.288500 -0.292623  0.669895  1\n",
       "2    0.869809 -0.176344 -0.138502  4\n",
       "3   -1.583795 -2.600143  1.374986  1\n",
       "4   -1.969009 -1.252417 -0.015441  4\n",
       "..        ...       ...       ... ..\n",
       "995  0.354329 -1.251685  0.658151  3\n",
       "996  0.539712  0.286760  0.547171  6\n",
       "997 -0.899332 -0.405353  0.267945  6\n",
       "998  1.349925  0.011695  0.936137  4\n",
       "999  0.733247  0.834500 -0.052826  4\n",
       "\n",
       "[1000 rows x 4 columns]"
      ]
     },
     "execution_count": 20,
     "metadata": {},
     "output_type": "execute_result"
    }
   ],
   "source": [
    "df = pd.DataFrame(\n",
    "    data=np.random.randn(1000,3),\n",
    "    columns=['a','b','c']\n",
    ")\n",
    "df['d'] = np.random.randint(0, 10, size=len(df))\n",
    "df"
   ]
  },
  {
   "cell_type": "code",
   "execution_count": 21,
   "id": "89e815ab",
   "metadata": {
    "ExecuteTime": {
     "end_time": "2022-08-29T07:02:17.836331Z",
     "start_time": "2022-08-29T07:02:17.829515Z"
    }
   },
   "outputs": [
    {
     "data": {
      "text/plain": [
       "0     -0.361312\n",
       "1      0.288500\n",
       "2      0.869809\n",
       "3     -1.583795\n",
       "4     -1.969009\n",
       "         ...   \n",
       "995    0.354329\n",
       "996    0.539712\n",
       "997   -0.899332\n",
       "998    1.349925\n",
       "999    0.733247\n",
       "Name: a, Length: 1000, dtype: float64"
      ]
     },
     "execution_count": 21,
     "metadata": {},
     "output_type": "execute_result"
    }
   ],
   "source": [
    "df['a']"
   ]
  },
  {
   "cell_type": "markdown",
   "id": "c9bc0068",
   "metadata": {},
   "source": [
    "## DataFrame의 기본 함수들 다루기\n",
    "<hr style=\"height:5px;border:none;color:#132e4f;background-color:#132e4f;\"/>"
   ]
  },
  {
   "cell_type": "code",
   "execution_count": 22,
   "id": "01880178",
   "metadata": {
    "ExecuteTime": {
     "end_time": "2022-08-29T07:02:18.549234Z",
     "start_time": "2022-08-29T07:02:18.535869Z"
    }
   },
   "outputs": [
    {
     "data": {
      "text/html": [
       "<div>\n",
       "<style scoped>\n",
       "    .dataframe tbody tr th:only-of-type {\n",
       "        vertical-align: middle;\n",
       "    }\n",
       "\n",
       "    .dataframe tbody tr th {\n",
       "        vertical-align: top;\n",
       "    }\n",
       "\n",
       "    .dataframe thead th {\n",
       "        text-align: right;\n",
       "    }\n",
       "</style>\n",
       "<table border=\"1\" class=\"dataframe\">\n",
       "  <thead>\n",
       "    <tr style=\"text-align: right;\">\n",
       "      <th></th>\n",
       "      <th>a</th>\n",
       "      <th>b</th>\n",
       "      <th>c</th>\n",
       "      <th>d</th>\n",
       "    </tr>\n",
       "  </thead>\n",
       "  <tbody>\n",
       "    <tr>\n",
       "      <th>0</th>\n",
       "      <td>-0.361312</td>\n",
       "      <td>-0.161539</td>\n",
       "      <td>0.351098</td>\n",
       "      <td>6</td>\n",
       "    </tr>\n",
       "    <tr>\n",
       "      <th>1</th>\n",
       "      <td>0.288500</td>\n",
       "      <td>-0.292623</td>\n",
       "      <td>0.669895</td>\n",
       "      <td>1</td>\n",
       "    </tr>\n",
       "    <tr>\n",
       "      <th>2</th>\n",
       "      <td>0.869809</td>\n",
       "      <td>-0.176344</td>\n",
       "      <td>-0.138502</td>\n",
       "      <td>4</td>\n",
       "    </tr>\n",
       "    <tr>\n",
       "      <th>3</th>\n",
       "      <td>-1.583795</td>\n",
       "      <td>-2.600143</td>\n",
       "      <td>1.374986</td>\n",
       "      <td>1</td>\n",
       "    </tr>\n",
       "    <tr>\n",
       "      <th>4</th>\n",
       "      <td>-1.969009</td>\n",
       "      <td>-1.252417</td>\n",
       "      <td>-0.015441</td>\n",
       "      <td>4</td>\n",
       "    </tr>\n",
       "  </tbody>\n",
       "</table>\n",
       "</div>"
      ],
      "text/plain": [
       "          a         b         c  d\n",
       "0 -0.361312 -0.161539  0.351098  6\n",
       "1  0.288500 -0.292623  0.669895  1\n",
       "2  0.869809 -0.176344 -0.138502  4\n",
       "3 -1.583795 -2.600143  1.374986  1\n",
       "4 -1.969009 -1.252417 -0.015441  4"
      ]
     },
     "execution_count": 22,
     "metadata": {},
     "output_type": "execute_result"
    }
   ],
   "source": [
    "df.head()"
   ]
  },
  {
   "cell_type": "code",
   "execution_count": 23,
   "id": "91975475",
   "metadata": {
    "ExecuteTime": {
     "end_time": "2022-08-29T07:02:19.170913Z",
     "start_time": "2022-08-29T07:02:19.159455Z"
    }
   },
   "outputs": [
    {
     "data": {
      "text/html": [
       "<div>\n",
       "<style scoped>\n",
       "    .dataframe tbody tr th:only-of-type {\n",
       "        vertical-align: middle;\n",
       "    }\n",
       "\n",
       "    .dataframe tbody tr th {\n",
       "        vertical-align: top;\n",
       "    }\n",
       "\n",
       "    .dataframe thead th {\n",
       "        text-align: right;\n",
       "    }\n",
       "</style>\n",
       "<table border=\"1\" class=\"dataframe\">\n",
       "  <thead>\n",
       "    <tr style=\"text-align: right;\">\n",
       "      <th></th>\n",
       "      <th>a</th>\n",
       "      <th>b</th>\n",
       "      <th>c</th>\n",
       "      <th>d</th>\n",
       "    </tr>\n",
       "  </thead>\n",
       "  <tbody>\n",
       "    <tr>\n",
       "      <th>995</th>\n",
       "      <td>0.354329</td>\n",
       "      <td>-1.251685</td>\n",
       "      <td>0.658151</td>\n",
       "      <td>3</td>\n",
       "    </tr>\n",
       "    <tr>\n",
       "      <th>996</th>\n",
       "      <td>0.539712</td>\n",
       "      <td>0.286760</td>\n",
       "      <td>0.547171</td>\n",
       "      <td>6</td>\n",
       "    </tr>\n",
       "    <tr>\n",
       "      <th>997</th>\n",
       "      <td>-0.899332</td>\n",
       "      <td>-0.405353</td>\n",
       "      <td>0.267945</td>\n",
       "      <td>6</td>\n",
       "    </tr>\n",
       "    <tr>\n",
       "      <th>998</th>\n",
       "      <td>1.349925</td>\n",
       "      <td>0.011695</td>\n",
       "      <td>0.936137</td>\n",
       "      <td>4</td>\n",
       "    </tr>\n",
       "    <tr>\n",
       "      <th>999</th>\n",
       "      <td>0.733247</td>\n",
       "      <td>0.834500</td>\n",
       "      <td>-0.052826</td>\n",
       "      <td>4</td>\n",
       "    </tr>\n",
       "  </tbody>\n",
       "</table>\n",
       "</div>"
      ],
      "text/plain": [
       "            a         b         c  d\n",
       "995  0.354329 -1.251685  0.658151  3\n",
       "996  0.539712  0.286760  0.547171  6\n",
       "997 -0.899332 -0.405353  0.267945  6\n",
       "998  1.349925  0.011695  0.936137  4\n",
       "999  0.733247  0.834500 -0.052826  4"
      ]
     },
     "execution_count": 23,
     "metadata": {},
     "output_type": "execute_result"
    }
   ],
   "source": [
    "df.tail()"
   ]
  },
  {
   "cell_type": "code",
   "execution_count": 24,
   "id": "1f370f55",
   "metadata": {
    "ExecuteTime": {
     "end_time": "2022-08-29T07:02:19.678791Z",
     "start_time": "2022-08-29T07:02:19.663691Z"
    }
   },
   "outputs": [
    {
     "name": "stdout",
     "output_type": "stream",
     "text": [
      "<class 'pandas.core.frame.DataFrame'>\n",
      "RangeIndex: 1000 entries, 0 to 999\n",
      "Data columns (total 4 columns):\n",
      " #   Column  Non-Null Count  Dtype  \n",
      "---  ------  --------------  -----  \n",
      " 0   a       1000 non-null   float64\n",
      " 1   b       1000 non-null   float64\n",
      " 2   c       1000 non-null   float64\n",
      " 3   d       1000 non-null   int64  \n",
      "dtypes: float64(3), int64(1)\n",
      "memory usage: 31.4 KB\n"
     ]
    }
   ],
   "source": [
    "df.info()"
   ]
  },
  {
   "cell_type": "code",
   "execution_count": 25,
   "id": "37ed3c0f",
   "metadata": {
    "ExecuteTime": {
     "end_time": "2022-08-29T07:02:21.446249Z",
     "start_time": "2022-08-29T07:02:21.416871Z"
    }
   },
   "outputs": [
    {
     "data": {
      "text/html": [
       "<div>\n",
       "<style scoped>\n",
       "    .dataframe tbody tr th:only-of-type {\n",
       "        vertical-align: middle;\n",
       "    }\n",
       "\n",
       "    .dataframe tbody tr th {\n",
       "        vertical-align: top;\n",
       "    }\n",
       "\n",
       "    .dataframe thead th {\n",
       "        text-align: right;\n",
       "    }\n",
       "</style>\n",
       "<table border=\"1\" class=\"dataframe\">\n",
       "  <thead>\n",
       "    <tr style=\"text-align: right;\">\n",
       "      <th></th>\n",
       "      <th>a</th>\n",
       "      <th>b</th>\n",
       "      <th>c</th>\n",
       "      <th>d</th>\n",
       "    </tr>\n",
       "  </thead>\n",
       "  <tbody>\n",
       "    <tr>\n",
       "      <th>count</th>\n",
       "      <td>1000.000000</td>\n",
       "      <td>1000.000000</td>\n",
       "      <td>1000.000000</td>\n",
       "      <td>1000.000000</td>\n",
       "    </tr>\n",
       "    <tr>\n",
       "      <th>mean</th>\n",
       "      <td>0.023729</td>\n",
       "      <td>-0.035226</td>\n",
       "      <td>0.016106</td>\n",
       "      <td>4.525000</td>\n",
       "    </tr>\n",
       "    <tr>\n",
       "      <th>std</th>\n",
       "      <td>1.005282</td>\n",
       "      <td>1.008567</td>\n",
       "      <td>0.978361</td>\n",
       "      <td>2.851229</td>\n",
       "    </tr>\n",
       "    <tr>\n",
       "      <th>min</th>\n",
       "      <td>-2.718534</td>\n",
       "      <td>-2.939301</td>\n",
       "      <td>-3.923628</td>\n",
       "      <td>0.000000</td>\n",
       "    </tr>\n",
       "    <tr>\n",
       "      <th>25%</th>\n",
       "      <td>-0.666667</td>\n",
       "      <td>-0.743682</td>\n",
       "      <td>-0.625394</td>\n",
       "      <td>2.000000</td>\n",
       "    </tr>\n",
       "    <tr>\n",
       "      <th>50%</th>\n",
       "      <td>0.008903</td>\n",
       "      <td>-0.049305</td>\n",
       "      <td>0.053289</td>\n",
       "      <td>4.000000</td>\n",
       "    </tr>\n",
       "    <tr>\n",
       "      <th>75%</th>\n",
       "      <td>0.690118</td>\n",
       "      <td>0.631981</td>\n",
       "      <td>0.673513</td>\n",
       "      <td>7.000000</td>\n",
       "    </tr>\n",
       "    <tr>\n",
       "      <th>max</th>\n",
       "      <td>3.161967</td>\n",
       "      <td>3.000261</td>\n",
       "      <td>3.045830</td>\n",
       "      <td>9.000000</td>\n",
       "    </tr>\n",
       "  </tbody>\n",
       "</table>\n",
       "</div>"
      ],
      "text/plain": [
       "                 a            b            c            d\n",
       "count  1000.000000  1000.000000  1000.000000  1000.000000\n",
       "mean      0.023729    -0.035226     0.016106     4.525000\n",
       "std       1.005282     1.008567     0.978361     2.851229\n",
       "min      -2.718534    -2.939301    -3.923628     0.000000\n",
       "25%      -0.666667    -0.743682    -0.625394     2.000000\n",
       "50%       0.008903    -0.049305     0.053289     4.000000\n",
       "75%       0.690118     0.631981     0.673513     7.000000\n",
       "max       3.161967     3.000261     3.045830     9.000000"
      ]
     },
     "execution_count": 25,
     "metadata": {},
     "output_type": "execute_result"
    }
   ],
   "source": [
    "df.describe()"
   ]
  },
  {
   "cell_type": "code",
   "execution_count": 31,
   "id": "2bad6d4d",
   "metadata": {
    "ExecuteTime": {
     "end_time": "2022-08-29T07:02:46.730705Z",
     "start_time": "2022-08-29T07:02:46.723597Z"
    }
   },
   "outputs": [
    {
     "data": {
      "text/plain": [
       "4    116\n",
       "9    110\n",
       "1    109\n",
       "5    102\n",
       "6    102\n",
       "3     99\n",
       "7     97\n",
       "0     91\n",
       "2     88\n",
       "8     86\n",
       "Name: d, dtype: int64"
      ]
     },
     "execution_count": 31,
     "metadata": {},
     "output_type": "execute_result"
    }
   ],
   "source": [
    "df['d'].value_counts()"
   ]
  },
  {
   "cell_type": "code",
   "execution_count": 33,
   "id": "19d584ae",
   "metadata": {
    "ExecuteTime": {
     "end_time": "2022-08-29T07:03:02.797616Z",
     "start_time": "2022-08-29T07:03:02.787089Z"
    }
   },
   "outputs": [
    {
     "data": {
      "text/plain": [
       "0     91\n",
       "1    109\n",
       "2     88\n",
       "3     99\n",
       "4    116\n",
       "5    102\n",
       "6    102\n",
       "7     97\n",
       "8     86\n",
       "9    110\n",
       "Name: d, dtype: int64"
      ]
     },
     "execution_count": 33,
     "metadata": {},
     "output_type": "execute_result"
    }
   ],
   "source": [
    "df['d'].value_counts().sort_index(ascending=True)"
   ]
  },
  {
   "cell_type": "markdown",
   "id": "987a2f71",
   "metadata": {},
   "source": [
    "## 평균과 분산 구하기\n",
    "<hr style=\"height:5px;border:none;color:#132e4f;background-color:#132e4f;\"/>"
   ]
  },
  {
   "cell_type": "code",
   "execution_count": 26,
   "id": "e1b356d8",
   "metadata": {
    "ExecuteTime": {
     "end_time": "2022-08-29T07:02:23.760596Z",
     "start_time": "2022-08-29T07:02:23.752969Z"
    }
   },
   "outputs": [
    {
     "data": {
      "text/plain": [
       "a    0.023729\n",
       "b   -0.035226\n",
       "c    0.016106\n",
       "d    4.525000\n",
       "dtype: float64"
      ]
     },
     "execution_count": 26,
     "metadata": {},
     "output_type": "execute_result"
    }
   ],
   "source": [
    "df.mean()  # 기본적으로 모두 column 방향"
   ]
  },
  {
   "cell_type": "code",
   "execution_count": 27,
   "id": "c3ca5f0b",
   "metadata": {
    "ExecuteTime": {
     "end_time": "2022-08-29T07:02:25.874502Z",
     "start_time": "2022-08-29T07:02:25.864821Z"
    }
   },
   "outputs": [
    {
     "data": {
      "text/plain": [
       "a    1.010591\n",
       "b    1.017206\n",
       "c    0.957191\n",
       "d    8.129505\n",
       "dtype: float64"
      ]
     },
     "execution_count": 27,
     "metadata": {},
     "output_type": "execute_result"
    }
   ],
   "source": [
    "df.var()"
   ]
  },
  {
   "cell_type": "code",
   "execution_count": 28,
   "id": "a3478c5f",
   "metadata": {
    "ExecuteTime": {
     "end_time": "2022-08-29T07:02:26.058680Z",
     "start_time": "2022-08-29T07:02:26.049099Z"
    }
   },
   "outputs": [
    {
     "data": {
      "text/plain": [
       "a    1.005282\n",
       "b    1.008567\n",
       "c    0.978361\n",
       "d    2.851229\n",
       "dtype: float64"
      ]
     },
     "execution_count": 28,
     "metadata": {},
     "output_type": "execute_result"
    }
   ],
   "source": [
    "df.std()"
   ]
  },
  {
   "cell_type": "code",
   "execution_count": 29,
   "id": "13caf9fd",
   "metadata": {
    "ExecuteTime": {
     "end_time": "2022-08-29T07:02:26.241156Z",
     "start_time": "2022-08-29T07:02:26.231522Z"
    }
   },
   "outputs": [
    {
     "data": {
      "text/plain": [
       "0      1.457062\n",
       "1      0.416443\n",
       "2      1.138741\n",
       "3     -0.452238\n",
       "4      0.190783\n",
       "         ...   \n",
       "995    0.690199\n",
       "996    1.843411\n",
       "997    1.240815\n",
       "998    1.574439\n",
       "999    1.378730\n",
       "Length: 1000, dtype: float64"
      ]
     },
     "execution_count": 29,
     "metadata": {},
     "output_type": "execute_result"
    }
   ],
   "source": [
    "df.mean(axis=1)  # row 방향으로"
   ]
  },
  {
   "cell_type": "markdown",
   "id": "437c820e",
   "metadata": {},
   "source": [
    "## 데이터프레임에서의 슬라이싱\n",
    "<hr style=\"height:5px;border:none;color:#132e4f;background-color:#132e4f;\"/>"
   ]
  },
  {
   "cell_type": "code",
   "execution_count": 37,
   "id": "5d1527a4",
   "metadata": {
    "ExecuteTime": {
     "end_time": "2022-08-29T07:04:20.241504Z",
     "start_time": "2022-08-29T07:04:20.231403Z"
    }
   },
   "outputs": [
    {
     "data": {
      "text/plain": [
       "0     -0.361312\n",
       "1      0.288500\n",
       "2      0.869809\n",
       "3     -1.583795\n",
       "4     -1.969009\n",
       "         ...   \n",
       "995    0.354329\n",
       "996    0.539712\n",
       "997   -0.899332\n",
       "998    1.349925\n",
       "999    0.733247\n",
       "Name: a, Length: 1000, dtype: float64"
      ]
     },
     "execution_count": 37,
     "metadata": {},
     "output_type": "execute_result"
    }
   ],
   "source": [
    "df.loc[:,'a']"
   ]
  },
  {
   "cell_type": "code",
   "execution_count": 38,
   "id": "81df8108",
   "metadata": {
    "ExecuteTime": {
     "end_time": "2022-08-29T07:04:20.424348Z",
     "start_time": "2022-08-29T07:04:20.414459Z"
    }
   },
   "outputs": [
    {
     "data": {
      "text/plain": [
       "0     -0.361312\n",
       "1      0.288500\n",
       "2      0.869809\n",
       "3     -1.583795\n",
       "4     -1.969009\n",
       "         ...   \n",
       "995    0.354329\n",
       "996    0.539712\n",
       "997   -0.899332\n",
       "998    1.349925\n",
       "999    0.733247\n",
       "Name: a, Length: 1000, dtype: float64"
      ]
     },
     "execution_count": 38,
     "metadata": {},
     "output_type": "execute_result"
    }
   ],
   "source": [
    "df.iloc[:,0]"
   ]
  },
  {
   "cell_type": "code",
   "execution_count": 42,
   "id": "a8bd42e9",
   "metadata": {
    "ExecuteTime": {
     "end_time": "2022-08-29T07:04:49.364144Z",
     "start_time": "2022-08-29T07:04:49.346046Z"
    }
   },
   "outputs": [
    {
     "data": {
      "text/html": [
       "<div>\n",
       "<style scoped>\n",
       "    .dataframe tbody tr th:only-of-type {\n",
       "        vertical-align: middle;\n",
       "    }\n",
       "\n",
       "    .dataframe tbody tr th {\n",
       "        vertical-align: top;\n",
       "    }\n",
       "\n",
       "    .dataframe thead th {\n",
       "        text-align: right;\n",
       "    }\n",
       "</style>\n",
       "<table border=\"1\" class=\"dataframe\">\n",
       "  <thead>\n",
       "    <tr style=\"text-align: right;\">\n",
       "      <th></th>\n",
       "      <th>a</th>\n",
       "      <th>b</th>\n",
       "    </tr>\n",
       "  </thead>\n",
       "  <tbody>\n",
       "    <tr>\n",
       "      <th>100</th>\n",
       "      <td>-0.543223</td>\n",
       "      <td>0.108216</td>\n",
       "    </tr>\n",
       "    <tr>\n",
       "      <th>101</th>\n",
       "      <td>-0.284888</td>\n",
       "      <td>0.191679</td>\n",
       "    </tr>\n",
       "    <tr>\n",
       "      <th>102</th>\n",
       "      <td>0.327109</td>\n",
       "      <td>0.128130</td>\n",
       "    </tr>\n",
       "    <tr>\n",
       "      <th>103</th>\n",
       "      <td>1.429260</td>\n",
       "      <td>0.838672</td>\n",
       "    </tr>\n",
       "    <tr>\n",
       "      <th>104</th>\n",
       "      <td>-2.558255</td>\n",
       "      <td>-0.581190</td>\n",
       "    </tr>\n",
       "    <tr>\n",
       "      <th>...</th>\n",
       "      <td>...</td>\n",
       "      <td>...</td>\n",
       "    </tr>\n",
       "    <tr>\n",
       "      <th>196</th>\n",
       "      <td>-0.730982</td>\n",
       "      <td>0.579575</td>\n",
       "    </tr>\n",
       "    <tr>\n",
       "      <th>197</th>\n",
       "      <td>1.295539</td>\n",
       "      <td>-1.358901</td>\n",
       "    </tr>\n",
       "    <tr>\n",
       "      <th>198</th>\n",
       "      <td>1.402939</td>\n",
       "      <td>-0.792786</td>\n",
       "    </tr>\n",
       "    <tr>\n",
       "      <th>199</th>\n",
       "      <td>0.009880</td>\n",
       "      <td>-1.421151</td>\n",
       "    </tr>\n",
       "    <tr>\n",
       "      <th>200</th>\n",
       "      <td>0.195096</td>\n",
       "      <td>0.120103</td>\n",
       "    </tr>\n",
       "  </tbody>\n",
       "</table>\n",
       "<p>101 rows × 2 columns</p>\n",
       "</div>"
      ],
      "text/plain": [
       "            a         b\n",
       "100 -0.543223  0.108216\n",
       "101 -0.284888  0.191679\n",
       "102  0.327109  0.128130\n",
       "103  1.429260  0.838672\n",
       "104 -2.558255 -0.581190\n",
       "..        ...       ...\n",
       "196 -0.730982  0.579575\n",
       "197  1.295539 -1.358901\n",
       "198  1.402939 -0.792786\n",
       "199  0.009880 -1.421151\n",
       "200  0.195096  0.120103\n",
       "\n",
       "[101 rows x 2 columns]"
      ]
     },
     "execution_count": 42,
     "metadata": {},
     "output_type": "execute_result"
    }
   ],
   "source": [
    "df.loc[100:200,['a','b']]"
   ]
  },
  {
   "cell_type": "markdown",
   "id": "95ee72d0",
   "metadata": {},
   "source": [
    "## 데이터프레임에서 조건에 맞는 값 가져오기\n",
    "<hr style=\"height:5px;border:none;color:#132e4f;background-color:#132e4f;\"/>"
   ]
  },
  {
   "cell_type": "code",
   "execution_count": 43,
   "id": "292c9627",
   "metadata": {
    "ExecuteTime": {
     "end_time": "2022-08-29T07:05:26.680347Z",
     "start_time": "2022-08-29T07:05:26.659779Z"
    }
   },
   "outputs": [
    {
     "data": {
      "text/html": [
       "<div>\n",
       "<style scoped>\n",
       "    .dataframe tbody tr th:only-of-type {\n",
       "        vertical-align: middle;\n",
       "    }\n",
       "\n",
       "    .dataframe tbody tr th {\n",
       "        vertical-align: top;\n",
       "    }\n",
       "\n",
       "    .dataframe thead th {\n",
       "        text-align: right;\n",
       "    }\n",
       "</style>\n",
       "<table border=\"1\" class=\"dataframe\">\n",
       "  <thead>\n",
       "    <tr style=\"text-align: right;\">\n",
       "      <th></th>\n",
       "      <th>a</th>\n",
       "      <th>b</th>\n",
       "      <th>c</th>\n",
       "      <th>d</th>\n",
       "    </tr>\n",
       "  </thead>\n",
       "  <tbody>\n",
       "    <tr>\n",
       "      <th>17</th>\n",
       "      <td>-0.338649</td>\n",
       "      <td>-0.481860</td>\n",
       "      <td>-2.126044</td>\n",
       "      <td>0</td>\n",
       "    </tr>\n",
       "    <tr>\n",
       "      <th>21</th>\n",
       "      <td>0.773095</td>\n",
       "      <td>-1.036505</td>\n",
       "      <td>-0.955359</td>\n",
       "      <td>0</td>\n",
       "    </tr>\n",
       "    <tr>\n",
       "      <th>22</th>\n",
       "      <td>0.414102</td>\n",
       "      <td>-1.002109</td>\n",
       "      <td>0.479195</td>\n",
       "      <td>0</td>\n",
       "    </tr>\n",
       "    <tr>\n",
       "      <th>31</th>\n",
       "      <td>-0.426368</td>\n",
       "      <td>-1.191395</td>\n",
       "      <td>0.236144</td>\n",
       "      <td>0</td>\n",
       "    </tr>\n",
       "    <tr>\n",
       "      <th>56</th>\n",
       "      <td>0.645434</td>\n",
       "      <td>1.430031</td>\n",
       "      <td>0.060958</td>\n",
       "      <td>0</td>\n",
       "    </tr>\n",
       "    <tr>\n",
       "      <th>...</th>\n",
       "      <td>...</td>\n",
       "      <td>...</td>\n",
       "      <td>...</td>\n",
       "      <td>...</td>\n",
       "    </tr>\n",
       "    <tr>\n",
       "      <th>946</th>\n",
       "      <td>1.126948</td>\n",
       "      <td>2.729026</td>\n",
       "      <td>1.049207</td>\n",
       "      <td>0</td>\n",
       "    </tr>\n",
       "    <tr>\n",
       "      <th>974</th>\n",
       "      <td>0.834002</td>\n",
       "      <td>0.713839</td>\n",
       "      <td>0.359467</td>\n",
       "      <td>0</td>\n",
       "    </tr>\n",
       "    <tr>\n",
       "      <th>976</th>\n",
       "      <td>1.652369</td>\n",
       "      <td>-0.265554</td>\n",
       "      <td>-0.179872</td>\n",
       "      <td>0</td>\n",
       "    </tr>\n",
       "    <tr>\n",
       "      <th>981</th>\n",
       "      <td>-0.514316</td>\n",
       "      <td>0.604342</td>\n",
       "      <td>0.155196</td>\n",
       "      <td>0</td>\n",
       "    </tr>\n",
       "    <tr>\n",
       "      <th>983</th>\n",
       "      <td>1.122709</td>\n",
       "      <td>-1.501097</td>\n",
       "      <td>-0.520160</td>\n",
       "      <td>0</td>\n",
       "    </tr>\n",
       "  </tbody>\n",
       "</table>\n",
       "<p>91 rows × 4 columns</p>\n",
       "</div>"
      ],
      "text/plain": [
       "            a         b         c  d\n",
       "17  -0.338649 -0.481860 -2.126044  0\n",
       "21   0.773095 -1.036505 -0.955359  0\n",
       "22   0.414102 -1.002109  0.479195  0\n",
       "31  -0.426368 -1.191395  0.236144  0\n",
       "56   0.645434  1.430031  0.060958  0\n",
       "..        ...       ...       ... ..\n",
       "946  1.126948  2.729026  1.049207  0\n",
       "974  0.834002  0.713839  0.359467  0\n",
       "976  1.652369 -0.265554 -0.179872  0\n",
       "981 -0.514316  0.604342  0.155196  0\n",
       "983  1.122709 -1.501097 -0.520160  0\n",
       "\n",
       "[91 rows x 4 columns]"
      ]
     },
     "execution_count": 43,
     "metadata": {},
     "output_type": "execute_result"
    }
   ],
   "source": [
    "df[df['d'] == 0]"
   ]
  },
  {
   "cell_type": "code",
   "execution_count": 45,
   "id": "5e55948e",
   "metadata": {
    "ExecuteTime": {
     "end_time": "2022-08-29T07:05:57.135718Z",
     "start_time": "2022-08-29T07:05:57.111578Z"
    }
   },
   "outputs": [
    {
     "data": {
      "text/html": [
       "<div>\n",
       "<style scoped>\n",
       "    .dataframe tbody tr th:only-of-type {\n",
       "        vertical-align: middle;\n",
       "    }\n",
       "\n",
       "    .dataframe tbody tr th {\n",
       "        vertical-align: top;\n",
       "    }\n",
       "\n",
       "    .dataframe thead th {\n",
       "        text-align: right;\n",
       "    }\n",
       "</style>\n",
       "<table border=\"1\" class=\"dataframe\">\n",
       "  <thead>\n",
       "    <tr style=\"text-align: right;\">\n",
       "      <th></th>\n",
       "      <th>a</th>\n",
       "      <th>b</th>\n",
       "      <th>c</th>\n",
       "      <th>d</th>\n",
       "    </tr>\n",
       "  </thead>\n",
       "  <tbody>\n",
       "    <tr>\n",
       "      <th>21</th>\n",
       "      <td>0.773095</td>\n",
       "      <td>-1.036505</td>\n",
       "      <td>-0.955359</td>\n",
       "      <td>0</td>\n",
       "    </tr>\n",
       "    <tr>\n",
       "      <th>22</th>\n",
       "      <td>0.414102</td>\n",
       "      <td>-1.002109</td>\n",
       "      <td>0.479195</td>\n",
       "      <td>0</td>\n",
       "    </tr>\n",
       "    <tr>\n",
       "      <th>56</th>\n",
       "      <td>0.645434</td>\n",
       "      <td>1.430031</td>\n",
       "      <td>0.060958</td>\n",
       "      <td>0</td>\n",
       "    </tr>\n",
       "    <tr>\n",
       "      <th>92</th>\n",
       "      <td>0.332590</td>\n",
       "      <td>-0.629383</td>\n",
       "      <td>-0.747801</td>\n",
       "      <td>0</td>\n",
       "    </tr>\n",
       "    <tr>\n",
       "      <th>120</th>\n",
       "      <td>1.900952</td>\n",
       "      <td>-0.682407</td>\n",
       "      <td>-1.195893</td>\n",
       "      <td>0</td>\n",
       "    </tr>\n",
       "    <tr>\n",
       "      <th>121</th>\n",
       "      <td>0.877090</td>\n",
       "      <td>-0.245780</td>\n",
       "      <td>0.600367</td>\n",
       "      <td>0</td>\n",
       "    </tr>\n",
       "    <tr>\n",
       "      <th>167</th>\n",
       "      <td>0.403494</td>\n",
       "      <td>-1.320771</td>\n",
       "      <td>-0.881206</td>\n",
       "      <td>0</td>\n",
       "    </tr>\n",
       "    <tr>\n",
       "      <th>170</th>\n",
       "      <td>1.478854</td>\n",
       "      <td>0.176259</td>\n",
       "      <td>-1.075208</td>\n",
       "      <td>0</td>\n",
       "    </tr>\n",
       "    <tr>\n",
       "      <th>212</th>\n",
       "      <td>0.738898</td>\n",
       "      <td>-0.186162</td>\n",
       "      <td>0.074379</td>\n",
       "      <td>0</td>\n",
       "    </tr>\n",
       "    <tr>\n",
       "      <th>228</th>\n",
       "      <td>0.661286</td>\n",
       "      <td>0.115505</td>\n",
       "      <td>0.594959</td>\n",
       "      <td>0</td>\n",
       "    </tr>\n",
       "    <tr>\n",
       "      <th>234</th>\n",
       "      <td>2.192265</td>\n",
       "      <td>-0.161628</td>\n",
       "      <td>0.911832</td>\n",
       "      <td>0</td>\n",
       "    </tr>\n",
       "    <tr>\n",
       "      <th>260</th>\n",
       "      <td>0.847986</td>\n",
       "      <td>1.318483</td>\n",
       "      <td>-0.111613</td>\n",
       "      <td>0</td>\n",
       "    </tr>\n",
       "    <tr>\n",
       "      <th>268</th>\n",
       "      <td>2.110865</td>\n",
       "      <td>0.750300</td>\n",
       "      <td>0.461966</td>\n",
       "      <td>0</td>\n",
       "    </tr>\n",
       "    <tr>\n",
       "      <th>317</th>\n",
       "      <td>1.315486</td>\n",
       "      <td>-0.285558</td>\n",
       "      <td>0.421485</td>\n",
       "      <td>0</td>\n",
       "    </tr>\n",
       "    <tr>\n",
       "      <th>324</th>\n",
       "      <td>0.349051</td>\n",
       "      <td>-0.328571</td>\n",
       "      <td>0.177277</td>\n",
       "      <td>0</td>\n",
       "    </tr>\n",
       "    <tr>\n",
       "      <th>435</th>\n",
       "      <td>0.828558</td>\n",
       "      <td>1.093218</td>\n",
       "      <td>0.232905</td>\n",
       "      <td>0</td>\n",
       "    </tr>\n",
       "    <tr>\n",
       "      <th>439</th>\n",
       "      <td>0.506635</td>\n",
       "      <td>-0.579960</td>\n",
       "      <td>0.685118</td>\n",
       "      <td>0</td>\n",
       "    </tr>\n",
       "    <tr>\n",
       "      <th>442</th>\n",
       "      <td>0.124824</td>\n",
       "      <td>0.634464</td>\n",
       "      <td>-0.787689</td>\n",
       "      <td>0</td>\n",
       "    </tr>\n",
       "    <tr>\n",
       "      <th>456</th>\n",
       "      <td>0.200285</td>\n",
       "      <td>-0.367240</td>\n",
       "      <td>0.312548</td>\n",
       "      <td>0</td>\n",
       "    </tr>\n",
       "    <tr>\n",
       "      <th>484</th>\n",
       "      <td>0.621420</td>\n",
       "      <td>-0.887205</td>\n",
       "      <td>-1.268060</td>\n",
       "      <td>0</td>\n",
       "    </tr>\n",
       "    <tr>\n",
       "      <th>564</th>\n",
       "      <td>0.210158</td>\n",
       "      <td>-1.297810</td>\n",
       "      <td>-0.021151</td>\n",
       "      <td>0</td>\n",
       "    </tr>\n",
       "    <tr>\n",
       "      <th>585</th>\n",
       "      <td>0.140563</td>\n",
       "      <td>-0.512107</td>\n",
       "      <td>-1.154449</td>\n",
       "      <td>0</td>\n",
       "    </tr>\n",
       "    <tr>\n",
       "      <th>622</th>\n",
       "      <td>0.344468</td>\n",
       "      <td>-2.227065</td>\n",
       "      <td>0.197272</td>\n",
       "      <td>0</td>\n",
       "    </tr>\n",
       "    <tr>\n",
       "      <th>637</th>\n",
       "      <td>0.035048</td>\n",
       "      <td>0.434252</td>\n",
       "      <td>-0.075110</td>\n",
       "      <td>0</td>\n",
       "    </tr>\n",
       "    <tr>\n",
       "      <th>641</th>\n",
       "      <td>0.469526</td>\n",
       "      <td>-0.710150</td>\n",
       "      <td>0.146124</td>\n",
       "      <td>0</td>\n",
       "    </tr>\n",
       "    <tr>\n",
       "      <th>651</th>\n",
       "      <td>0.121604</td>\n",
       "      <td>-0.274313</td>\n",
       "      <td>1.131947</td>\n",
       "      <td>0</td>\n",
       "    </tr>\n",
       "    <tr>\n",
       "      <th>687</th>\n",
       "      <td>1.969878</td>\n",
       "      <td>-1.037750</td>\n",
       "      <td>0.480567</td>\n",
       "      <td>0</td>\n",
       "    </tr>\n",
       "    <tr>\n",
       "      <th>738</th>\n",
       "      <td>0.967288</td>\n",
       "      <td>-1.084228</td>\n",
       "      <td>0.046988</td>\n",
       "      <td>0</td>\n",
       "    </tr>\n",
       "    <tr>\n",
       "      <th>747</th>\n",
       "      <td>0.385284</td>\n",
       "      <td>0.073585</td>\n",
       "      <td>-2.017011</td>\n",
       "      <td>0</td>\n",
       "    </tr>\n",
       "    <tr>\n",
       "      <th>756</th>\n",
       "      <td>0.838828</td>\n",
       "      <td>1.127627</td>\n",
       "      <td>0.072767</td>\n",
       "      <td>0</td>\n",
       "    </tr>\n",
       "    <tr>\n",
       "      <th>758</th>\n",
       "      <td>0.731035</td>\n",
       "      <td>1.248347</td>\n",
       "      <td>-2.161840</td>\n",
       "      <td>0</td>\n",
       "    </tr>\n",
       "    <tr>\n",
       "      <th>797</th>\n",
       "      <td>1.411997</td>\n",
       "      <td>0.554367</td>\n",
       "      <td>1.004137</td>\n",
       "      <td>0</td>\n",
       "    </tr>\n",
       "    <tr>\n",
       "      <th>853</th>\n",
       "      <td>2.272682</td>\n",
       "      <td>0.401078</td>\n",
       "      <td>-0.425646</td>\n",
       "      <td>0</td>\n",
       "    </tr>\n",
       "    <tr>\n",
       "      <th>869</th>\n",
       "      <td>0.287949</td>\n",
       "      <td>1.220077</td>\n",
       "      <td>-1.265836</td>\n",
       "      <td>0</td>\n",
       "    </tr>\n",
       "    <tr>\n",
       "      <th>876</th>\n",
       "      <td>0.841266</td>\n",
       "      <td>0.523182</td>\n",
       "      <td>-0.771459</td>\n",
       "      <td>0</td>\n",
       "    </tr>\n",
       "    <tr>\n",
       "      <th>877</th>\n",
       "      <td>1.432156</td>\n",
       "      <td>0.597308</td>\n",
       "      <td>0.967660</td>\n",
       "      <td>0</td>\n",
       "    </tr>\n",
       "    <tr>\n",
       "      <th>878</th>\n",
       "      <td>1.853462</td>\n",
       "      <td>-1.106961</td>\n",
       "      <td>-0.726303</td>\n",
       "      <td>0</td>\n",
       "    </tr>\n",
       "    <tr>\n",
       "      <th>887</th>\n",
       "      <td>0.799195</td>\n",
       "      <td>-0.357374</td>\n",
       "      <td>-0.402065</td>\n",
       "      <td>0</td>\n",
       "    </tr>\n",
       "    <tr>\n",
       "      <th>905</th>\n",
       "      <td>0.231137</td>\n",
       "      <td>-0.564191</td>\n",
       "      <td>0.870541</td>\n",
       "      <td>0</td>\n",
       "    </tr>\n",
       "    <tr>\n",
       "      <th>944</th>\n",
       "      <td>1.118502</td>\n",
       "      <td>-1.372109</td>\n",
       "      <td>-0.865562</td>\n",
       "      <td>0</td>\n",
       "    </tr>\n",
       "    <tr>\n",
       "      <th>946</th>\n",
       "      <td>1.126948</td>\n",
       "      <td>2.729026</td>\n",
       "      <td>1.049207</td>\n",
       "      <td>0</td>\n",
       "    </tr>\n",
       "    <tr>\n",
       "      <th>974</th>\n",
       "      <td>0.834002</td>\n",
       "      <td>0.713839</td>\n",
       "      <td>0.359467</td>\n",
       "      <td>0</td>\n",
       "    </tr>\n",
       "    <tr>\n",
       "      <th>976</th>\n",
       "      <td>1.652369</td>\n",
       "      <td>-0.265554</td>\n",
       "      <td>-0.179872</td>\n",
       "      <td>0</td>\n",
       "    </tr>\n",
       "    <tr>\n",
       "      <th>983</th>\n",
       "      <td>1.122709</td>\n",
       "      <td>-1.501097</td>\n",
       "      <td>-0.520160</td>\n",
       "      <td>0</td>\n",
       "    </tr>\n",
       "  </tbody>\n",
       "</table>\n",
       "</div>"
      ],
      "text/plain": [
       "            a         b         c  d\n",
       "21   0.773095 -1.036505 -0.955359  0\n",
       "22   0.414102 -1.002109  0.479195  0\n",
       "56   0.645434  1.430031  0.060958  0\n",
       "92   0.332590 -0.629383 -0.747801  0\n",
       "120  1.900952 -0.682407 -1.195893  0\n",
       "121  0.877090 -0.245780  0.600367  0\n",
       "167  0.403494 -1.320771 -0.881206  0\n",
       "170  1.478854  0.176259 -1.075208  0\n",
       "212  0.738898 -0.186162  0.074379  0\n",
       "228  0.661286  0.115505  0.594959  0\n",
       "234  2.192265 -0.161628  0.911832  0\n",
       "260  0.847986  1.318483 -0.111613  0\n",
       "268  2.110865  0.750300  0.461966  0\n",
       "317  1.315486 -0.285558  0.421485  0\n",
       "324  0.349051 -0.328571  0.177277  0\n",
       "435  0.828558  1.093218  0.232905  0\n",
       "439  0.506635 -0.579960  0.685118  0\n",
       "442  0.124824  0.634464 -0.787689  0\n",
       "456  0.200285 -0.367240  0.312548  0\n",
       "484  0.621420 -0.887205 -1.268060  0\n",
       "564  0.210158 -1.297810 -0.021151  0\n",
       "585  0.140563 -0.512107 -1.154449  0\n",
       "622  0.344468 -2.227065  0.197272  0\n",
       "637  0.035048  0.434252 -0.075110  0\n",
       "641  0.469526 -0.710150  0.146124  0\n",
       "651  0.121604 -0.274313  1.131947  0\n",
       "687  1.969878 -1.037750  0.480567  0\n",
       "738  0.967288 -1.084228  0.046988  0\n",
       "747  0.385284  0.073585 -2.017011  0\n",
       "756  0.838828  1.127627  0.072767  0\n",
       "758  0.731035  1.248347 -2.161840  0\n",
       "797  1.411997  0.554367  1.004137  0\n",
       "853  2.272682  0.401078 -0.425646  0\n",
       "869  0.287949  1.220077 -1.265836  0\n",
       "876  0.841266  0.523182 -0.771459  0\n",
       "877  1.432156  0.597308  0.967660  0\n",
       "878  1.853462 -1.106961 -0.726303  0\n",
       "887  0.799195 -0.357374 -0.402065  0\n",
       "905  0.231137 -0.564191  0.870541  0\n",
       "944  1.118502 -1.372109 -0.865562  0\n",
       "946  1.126948  2.729026  1.049207  0\n",
       "974  0.834002  0.713839  0.359467  0\n",
       "976  1.652369 -0.265554 -0.179872  0\n",
       "983  1.122709 -1.501097 -0.520160  0"
      ]
     },
     "execution_count": 45,
     "metadata": {},
     "output_type": "execute_result"
    }
   ],
   "source": [
    "df[(df['a'] > 0)&(df['d'] == 0)]"
   ]
  },
  {
   "cell_type": "markdown",
   "id": "49ce3d86",
   "metadata": {},
   "source": [
    "## 참고자료\n",
    "<hr style=\"height:5px;border:none;color:#132e4f;background-color:#132e4f;\"/>"
   ]
  },
  {
   "cell_type": "markdown",
   "id": "5dec1acf",
   "metadata": {},
   "source": [
    "- https://wikidocs.net/32829"
   ]
  },
  {
   "cell_type": "markdown",
   "id": "c65da470",
   "metadata": {},
   "source": [
    "<br>\n",
    "\n",
    "<span style=\"color:rgb(120, 120, 120)\">본 학습 자료를 포함한 모든 자료의 저작권은 성민석에 있으며 제작자의 동의없이 외부로의 무단 복제, 배포 및 전송을 절대로 불허합니다.\n",
    "\n",
    "<b>Copyright ⓒ 2022. Minsuk Sung. All rights reserved.</b>\n",
    "</span>\n",
    "\n",
    "<br>"
   ]
  }
 ],
 "metadata": {
  "kernelspec": {
   "display_name": "Python 3",
   "language": "python",
   "name": "python3"
  },
  "language_info": {
   "codemirror_mode": {
    "name": "ipython",
    "version": 3
   },
   "file_extension": ".py",
   "mimetype": "text/x-python",
   "name": "python",
   "nbconvert_exporter": "python",
   "pygments_lexer": "ipython3",
   "version": "3.7.10"
  },
  "toc": {
   "base_numbering": 1,
   "nav_menu": {},
   "number_sections": true,
   "sideBar": true,
   "skip_h1_title": true,
   "title_cell": "목차",
   "title_sidebar": "내용",
   "toc_cell": true,
   "toc_position": {
    "height": "calc(100% - 180px)",
    "left": "10px",
    "top": "150px",
    "width": "165px"
   },
   "toc_section_display": true,
   "toc_window_display": true
  }
 },
 "nbformat": 4,
 "nbformat_minor": 5
}
