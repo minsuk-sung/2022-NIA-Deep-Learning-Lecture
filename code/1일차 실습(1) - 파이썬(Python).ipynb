{
 "cells": [
  {
   "cell_type": "markdown",
   "id": "133631a0",
   "metadata": {},
   "source": [
    "![](../img/banner_day1.png)\n",
    "\n",
    "<br>\n",
    "\n",
    "# 1일차 실습(1) - 파이썬(Python)\n",
    "\n",
    "<br>\n",
    "<br>\n",
    "<div align='right'>강사 성민석</div>\n",
    "<div align='right'>고려대학교 인공지능학과 박사과정</div>\n",
    "<div align='right'>(minsuksung@korea.ac.kr)</div>"
   ]
  },
  {
   "cell_type": "markdown",
   "id": "50ded8c6",
   "metadata": {},
   "source": [
    "> <font color='red'><b>WARNING</b></font>: 본 컨텐츠는 **[저작권법 제25조 제2항](https://glaw.scourt.go.kr/wsjo/lawod/sjo192.do?contId=2135829&jomunNo=25)** 에 의해 강의 목적으로 이용한 저작물이 포함되어 있습니다.  \n",
    "> 해당 자료를 제작자의 동의없이 <font color='red'><b>외부에 임의로 공개 및 수정하는 것을 금지</b></font>하며 이를 위반하는 경우 저작권 침해로서 관련법에 따라 처벌될 수 있으니 주의해주시기 바랍니다."
   ]
  },
  {
   "cell_type": "markdown",
   "id": "5f24954f",
   "metadata": {
    "toc": true
   },
   "source": [
    "<h1>목차<span class=\"tocSkip\"></span></h1>\n",
    "<div class=\"toc\"><ul class=\"toc-item\"><li><span><a href=\"#주피터에서-필요한-라이브러리-설치할-때\" data-toc-modified-id=\"주피터에서-필요한-라이브러리-설치할-때-1\"><span class=\"toc-item-num\">1&nbsp;&nbsp;</span>주피터에서 필요한 라이브러리 설치할 때</a></span></li><li><span><a href=\"#파이썬의-이념\" data-toc-modified-id=\"파이썬의-이념-2\"><span class=\"toc-item-num\">2&nbsp;&nbsp;</span>파이썬의 이념</a></span></li><li><span><a href=\"#사칙-연산\" data-toc-modified-id=\"사칙-연산-3\"><span class=\"toc-item-num\">3&nbsp;&nbsp;</span>사칙 연산</a></span></li><li><span><a href=\"#기초-자료형\" data-toc-modified-id=\"기초-자료형-4\"><span class=\"toc-item-num\">4&nbsp;&nbsp;</span>기초 자료형</a></span><ul class=\"toc-item\"><li><span><a href=\"#list\" data-toc-modified-id=\"list-4.1\"><span class=\"toc-item-num\">4.1&nbsp;&nbsp;</span>list</a></span><ul class=\"toc-item\"><li><span><a href=\"#문자열\" data-toc-modified-id=\"문자열-4.1.1\"><span class=\"toc-item-num\">4.1.1&nbsp;&nbsp;</span>문자열</a></span></li></ul></li><li><span><a href=\"#slicing\" data-toc-modified-id=\"slicing-4.2\"><span class=\"toc-item-num\">4.2&nbsp;&nbsp;</span>slicing</a></span></li><li><span><a href=\"#tuple\" data-toc-modified-id=\"tuple-4.3\"><span class=\"toc-item-num\">4.3&nbsp;&nbsp;</span>tuple</a></span></li><li><span><a href=\"#dict\" data-toc-modified-id=\"dict-4.4\"><span class=\"toc-item-num\">4.4&nbsp;&nbsp;</span>dict</a></span></li><li><span><a href=\"#set\" data-toc-modified-id=\"set-4.5\"><span class=\"toc-item-num\">4.5&nbsp;&nbsp;</span>set</a></span></li></ul></li><li><span><a href=\"#조건문\" data-toc-modified-id=\"조건문-5\"><span class=\"toc-item-num\">5&nbsp;&nbsp;</span>조건문</a></span></li><li><span><a href=\"#반복문\" data-toc-modified-id=\"반복문-6\"><span class=\"toc-item-num\">6&nbsp;&nbsp;</span>반복문</a></span><ul class=\"toc-item\"><li><span><a href=\"#while문\" data-toc-modified-id=\"while문-6.1\"><span class=\"toc-item-num\">6.1&nbsp;&nbsp;</span>while문</a></span></li><li><span><a href=\"#for문\" data-toc-modified-id=\"for문-6.2\"><span class=\"toc-item-num\">6.2&nbsp;&nbsp;</span>for문</a></span></li></ul></li><li><span><a href=\"#함수\" data-toc-modified-id=\"함수-7\"><span class=\"toc-item-num\">7&nbsp;&nbsp;</span>함수</a></span><ul class=\"toc-item\"><li><span><a href=\"#입력이-있고-출력이-있는-경우\" data-toc-modified-id=\"입력이-있고-출력이-있는-경우-7.1\"><span class=\"toc-item-num\">7.1&nbsp;&nbsp;</span>입력이 있고 출력이 있는 경우</a></span></li><li><span><a href=\"#입력이-있고-출력이-없는-경우\" data-toc-modified-id=\"입력이-있고-출력이-없는-경우-7.2\"><span class=\"toc-item-num\">7.2&nbsp;&nbsp;</span>입력이 있고 출력이 없는 경우</a></span></li><li><span><a href=\"#입력이-없고-출력이-있는-경우\" data-toc-modified-id=\"입력이-없고-출력이-있는-경우-7.3\"><span class=\"toc-item-num\">7.3&nbsp;&nbsp;</span>입력이 없고 출력이 있는 경우</a></span></li><li><span><a href=\"#입력이-없고-출력이-없는-경우\" data-toc-modified-id=\"입력이-없고-출력이-없는-경우-7.4\"><span class=\"toc-item-num\">7.4&nbsp;&nbsp;</span>입력이 없고 출력이 없는 경우</a></span></li></ul></li><li><span><a href=\"#클래스\" data-toc-modified-id=\"클래스-8\"><span class=\"toc-item-num\">8&nbsp;&nbsp;</span>클래스</a></span></li><li><span><a href=\"#참고자료\" data-toc-modified-id=\"참고자료-9\"><span class=\"toc-item-num\">9&nbsp;&nbsp;</span>참고자료</a></span></li></ul></div>"
   ]
  },
  {
   "cell_type": "markdown",
   "id": "1e1e689d",
   "metadata": {},
   "source": [
    "## 주피터에서 필요한 라이브러리 설치할 때\n",
    "<hr style=\"height:5px;border:none;color:#132e4f;background-color:#132e4f;\"/>"
   ]
  },
  {
   "cell_type": "markdown",
   "id": "f72538d3",
   "metadata": {},
   "source": [
    "필요한 라이브러리(e.g. numpy)와 함께 아래의 명령어를 주피터 셀에 입력한 후 실행\n",
    "```bash\n",
    "!pip install numpy\n",
    "```"
   ]
  },
  {
   "cell_type": "code",
   "execution_count": null,
   "id": "7ea40299",
   "metadata": {},
   "outputs": [],
   "source": [
    "# !pip install numpy"
   ]
  },
  {
   "cell_type": "markdown",
   "id": "38b5b442",
   "metadata": {},
   "source": [
    "## 파이썬의 이념\n",
    "<hr style=\"height:5px;border:none;color:#132e4f;background-color:#132e4f;\"/>"
   ]
  },
  {
   "cell_type": "code",
   "execution_count": 1,
   "id": "c6737a09",
   "metadata": {
    "ExecuteTime": {
     "end_time": "2022-08-31T05:40:44.237915Z",
     "start_time": "2022-08-31T05:40:44.230528Z"
    }
   },
   "outputs": [
    {
     "name": "stdout",
     "output_type": "stream",
     "text": [
      "The Zen of Python, by Tim Peters\n",
      "\n",
      "Beautiful is better than ugly.\n",
      "Explicit is better than implicit.\n",
      "Simple is better than complex.\n",
      "Complex is better than complicated.\n",
      "Flat is better than nested.\n",
      "Sparse is better than dense.\n",
      "Readability counts.\n",
      "Special cases aren't special enough to break the rules.\n",
      "Although practicality beats purity.\n",
      "Errors should never pass silently.\n",
      "Unless explicitly silenced.\n",
      "In the face of ambiguity, refuse the temptation to guess.\n",
      "There should be one-- and preferably only one --obvious way to do it.\n",
      "Although that way may not be obvious at first unless you're Dutch.\n",
      "Now is better than never.\n",
      "Although never is often better than *right* now.\n",
      "If the implementation is hard to explain, it's a bad idea.\n",
      "If the implementation is easy to explain, it may be a good idea.\n",
      "Namespaces are one honking great idea -- let's do more of those!\n"
     ]
    }
   ],
   "source": [
    "import this"
   ]
  },
  {
   "cell_type": "markdown",
   "id": "82fbcf06",
   "metadata": {},
   "source": [
    "## 사칙 연산\n",
    "<hr style=\"height:5px;border:none;color:#132e4f;background-color:#132e4f;\"/>"
   ]
  },
  {
   "cell_type": "code",
   "execution_count": 2,
   "id": "ef58b619",
   "metadata": {
    "ExecuteTime": {
     "end_time": "2022-08-31T05:41:42.795335Z",
     "start_time": "2022-08-31T05:41:42.777862Z"
    }
   },
   "outputs": [
    {
     "data": {
      "text/plain": [
       "3"
      ]
     },
     "execution_count": 2,
     "metadata": {},
     "output_type": "execute_result"
    }
   ],
   "source": [
    "1 + 2"
   ]
  },
  {
   "cell_type": "code",
   "execution_count": 3,
   "id": "45f8bfe0",
   "metadata": {
    "ExecuteTime": {
     "end_time": "2022-08-31T05:41:43.145733Z",
     "start_time": "2022-08-31T05:41:43.141445Z"
    }
   },
   "outputs": [
    {
     "data": {
      "text/plain": [
       "-1"
      ]
     },
     "execution_count": 3,
     "metadata": {},
     "output_type": "execute_result"
    }
   ],
   "source": [
    "1 - 2"
   ]
  },
  {
   "cell_type": "code",
   "execution_count": 4,
   "id": "c5ced2bb",
   "metadata": {
    "ExecuteTime": {
     "end_time": "2022-08-31T05:41:43.826996Z",
     "start_time": "2022-08-31T05:41:43.821771Z"
    }
   },
   "outputs": [
    {
     "data": {
      "text/plain": [
       "2"
      ]
     },
     "execution_count": 4,
     "metadata": {},
     "output_type": "execute_result"
    }
   ],
   "source": [
    "1 * 2"
   ]
  },
  {
   "cell_type": "code",
   "execution_count": 5,
   "id": "36844eb7",
   "metadata": {
    "ExecuteTime": {
     "end_time": "2022-08-31T05:41:45.547494Z",
     "start_time": "2022-08-31T05:41:45.541515Z"
    }
   },
   "outputs": [
    {
     "data": {
      "text/plain": [
       "0.5"
      ]
     },
     "execution_count": 5,
     "metadata": {},
     "output_type": "execute_result"
    }
   ],
   "source": [
    "1 / 2  # 몫:0 나머지:1 "
   ]
  },
  {
   "cell_type": "code",
   "execution_count": 6,
   "id": "e017b233",
   "metadata": {
    "ExecuteTime": {
     "end_time": "2022-08-31T05:41:45.827797Z",
     "start_time": "2022-08-31T05:41:45.821794Z"
    }
   },
   "outputs": [
    {
     "data": {
      "text/plain": [
       "1"
      ]
     },
     "execution_count": 6,
     "metadata": {},
     "output_type": "execute_result"
    }
   ],
   "source": [
    "7 % 3  # 나머지"
   ]
  },
  {
   "cell_type": "code",
   "execution_count": 7,
   "id": "7eee4fa1",
   "metadata": {
    "ExecuteTime": {
     "end_time": "2022-08-31T05:42:35.229279Z",
     "start_time": "2022-08-31T05:42:35.222313Z"
    }
   },
   "outputs": [
    {
     "data": {
      "text/plain": [
       "2"
      ]
     },
     "execution_count": 7,
     "metadata": {},
     "output_type": "execute_result"
    }
   ],
   "source": [
    "7 // 3  # 몫"
   ]
  },
  {
   "cell_type": "markdown",
   "id": "6cb072aa",
   "metadata": {},
   "source": [
    "## 기초 자료형\n",
    "<hr style=\"height:5px;border:none;color:#132e4f;background-color:#132e4f;\"/>"
   ]
  },
  {
   "cell_type": "markdown",
   "id": "1ed5a9ef",
   "metadata": {},
   "source": [
    "### list\n",
    "아래와 같이 리스트를 생성할 수 있음"
   ]
  },
  {
   "cell_type": "code",
   "execution_count": 8,
   "id": "b9390342",
   "metadata": {
    "ExecuteTime": {
     "end_time": "2022-08-31T05:43:02.076610Z",
     "start_time": "2022-08-31T05:43:02.070248Z"
    }
   },
   "outputs": [
    {
     "data": {
      "text/plain": [
       "[]"
      ]
     },
     "execution_count": 8,
     "metadata": {},
     "output_type": "execute_result"
    }
   ],
   "source": [
    "list()"
   ]
  },
  {
   "cell_type": "code",
   "execution_count": 9,
   "id": "7ff5db9a",
   "metadata": {
    "ExecuteTime": {
     "end_time": "2022-08-31T05:43:12.140348Z",
     "start_time": "2022-08-31T05:43:12.134080Z"
    }
   },
   "outputs": [
    {
     "data": {
      "text/plain": [
       "[]"
      ]
     },
     "execution_count": 9,
     "metadata": {},
     "output_type": "execute_result"
    }
   ],
   "source": [
    "[]"
   ]
  },
  {
   "cell_type": "code",
   "execution_count": 11,
   "id": "eb4c3d48",
   "metadata": {
    "ExecuteTime": {
     "end_time": "2022-08-31T05:44:00.782780Z",
     "start_time": "2022-08-31T05:44:00.775522Z"
    }
   },
   "outputs": [
    {
     "data": {
      "text/plain": [
       "9"
      ]
     },
     "execution_count": 11,
     "metadata": {},
     "output_type": "execute_result"
    }
   ],
   "source": [
    "a = [0, 1, 2, 3, 4, 5, 6, 7, 8, 9]\n",
    "a[-1]"
   ]
  },
  {
   "cell_type": "code",
   "execution_count": 15,
   "id": "07492456",
   "metadata": {
    "ExecuteTime": {
     "end_time": "2022-08-31T05:45:06.113373Z",
     "start_time": "2022-08-31T05:45:06.106922Z"
    }
   },
   "outputs": [
    {
     "data": {
      "text/plain": [
       "[]"
      ]
     },
     "execution_count": 15,
     "metadata": {},
     "output_type": "execute_result"
    }
   ],
   "source": [
    "a[-2]"
   ]
  },
  {
   "cell_type": "code",
   "execution_count": 16,
   "id": "08f9165d",
   "metadata": {
    "ExecuteTime": {
     "end_time": "2022-08-31T05:45:23.019497Z",
     "start_time": "2022-08-31T05:45:23.011282Z"
    }
   },
   "outputs": [
    {
     "data": {
      "text/plain": [
       "[-1, 1, 2, 3, 4, 5, 6, 7, 8, 9]"
      ]
     },
     "execution_count": 16,
     "metadata": {},
     "output_type": "execute_result"
    }
   ],
   "source": [
    "a = [0, 1, 2, 3, 4, 5, 6, 7, 8, 9]\n",
    "a[0] = -1  # item 변경 가능\n",
    "a"
   ]
  },
  {
   "cell_type": "markdown",
   "id": "b84880ad",
   "metadata": {},
   "source": [
    "#### 문자열"
   ]
  },
  {
   "cell_type": "code",
   "execution_count": 17,
   "id": "50afa767",
   "metadata": {
    "ExecuteTime": {
     "end_time": "2022-08-31T05:45:41.177867Z",
     "start_time": "2022-08-31T05:45:41.171671Z"
    }
   },
   "outputs": [
    {
     "data": {
      "text/plain": [
       "'Life is too short, You need Python!'"
      ]
     },
     "execution_count": 17,
     "metadata": {},
     "output_type": "execute_result"
    }
   ],
   "source": [
    "'Life is too short, You need Python!'"
   ]
  },
  {
   "cell_type": "code",
   "execution_count": 19,
   "id": "32c26f31",
   "metadata": {
    "ExecuteTime": {
     "end_time": "2022-08-31T05:46:14.876930Z",
     "start_time": "2022-08-31T05:46:14.870649Z"
    }
   },
   "outputs": [
    {
     "data": {
      "text/plain": [
       "'Life is too short, You need Python!'"
      ]
     },
     "execution_count": 19,
     "metadata": {},
     "output_type": "execute_result"
    }
   ],
   "source": [
    "\"Life is too short, You need Python!\""
   ]
  },
  {
   "cell_type": "code",
   "execution_count": 20,
   "id": "4a170632",
   "metadata": {
    "ExecuteTime": {
     "end_time": "2022-08-31T05:46:23.832406Z",
     "start_time": "2022-08-31T05:46:23.825916Z"
    }
   },
   "outputs": [
    {
     "data": {
      "text/plain": [
       "'\\nLife is too short,\\nYou need Python!\\n'"
      ]
     },
     "execution_count": 20,
     "metadata": {},
     "output_type": "execute_result"
    }
   ],
   "source": [
    "'''\n",
    "Life is too short,\n",
    "You need Python!\n",
    "'''"
   ]
  },
  {
   "cell_type": "code",
   "execution_count": 21,
   "id": "7b679b57",
   "metadata": {
    "ExecuteTime": {
     "end_time": "2022-08-31T05:46:24.008173Z",
     "start_time": "2022-08-31T05:46:24.001986Z"
    }
   },
   "outputs": [
    {
     "data": {
      "text/plain": [
       "'\\nLife is too short,\\nYou need Python!\\n'"
      ]
     },
     "execution_count": 21,
     "metadata": {},
     "output_type": "execute_result"
    }
   ],
   "source": [
    "\"\"\"\n",
    "Life is too short,\n",
    "You need Python!\n",
    "\"\"\""
   ]
  },
  {
   "cell_type": "code",
   "execution_count": 22,
   "id": "74b6327a",
   "metadata": {
    "ExecuteTime": {
     "end_time": "2022-08-31T05:46:30.043607Z",
     "start_time": "2022-08-31T05:46:30.037435Z"
    }
   },
   "outputs": [
    {
     "data": {
      "text/plain": [
       "'Life is too short, You need Python!'"
      ]
     },
     "execution_count": 22,
     "metadata": {},
     "output_type": "execute_result"
    }
   ],
   "source": [
    "'Life is too short, '+ 'You need Python!' # 문자열끼리 더하기"
   ]
  },
  {
   "cell_type": "code",
   "execution_count": 27,
   "id": "441c3cef",
   "metadata": {
    "ExecuteTime": {
     "end_time": "2022-08-31T05:47:42.297253Z",
     "start_time": "2022-08-31T05:47:42.290646Z"
    }
   },
   "outputs": [
    {
     "data": {
      "text/plain": [
       "'Life is too short, You need Python! Life is too short, You need Python! '"
      ]
     },
     "execution_count": 27,
     "metadata": {},
     "output_type": "execute_result"
    }
   ],
   "source": [
    "'Life is too short, You need Python! '*2 # 문자열 곱하기"
   ]
  },
  {
   "cell_type": "code",
   "execution_count": 28,
   "id": "be46d80b",
   "metadata": {
    "ExecuteTime": {
     "end_time": "2022-08-31T05:47:42.756029Z",
     "start_time": "2022-08-31T05:47:42.752241Z"
    }
   },
   "outputs": [],
   "source": [
    "s = 'Life is too short, You need Python!'"
   ]
  },
  {
   "cell_type": "code",
   "execution_count": 29,
   "id": "99abc0f1",
   "metadata": {
    "ExecuteTime": {
     "end_time": "2022-08-31T05:47:47.260290Z",
     "start_time": "2022-08-31T05:47:47.253955Z"
    }
   },
   "outputs": [
    {
     "data": {
      "text/plain": [
       "'L'"
      ]
     },
     "execution_count": 29,
     "metadata": {},
     "output_type": "execute_result"
    }
   ],
   "source": [
    "s[0] # 인덱싱은 항상 0부터 시작"
   ]
  },
  {
   "cell_type": "code",
   "execution_count": 30,
   "id": "f7c7c447",
   "metadata": {
    "ExecuteTime": {
     "end_time": "2022-08-31T05:47:49.025499Z",
     "start_time": "2022-08-31T05:47:49.019138Z"
    }
   },
   "outputs": [
    {
     "data": {
      "text/plain": [
       "'Life'"
      ]
     },
     "execution_count": 30,
     "metadata": {},
     "output_type": "execute_result"
    }
   ],
   "source": [
    "s[0:4] # 슬라이싱은 처음과 끝 명시하지 않으면 알아서 끝으로"
   ]
  },
  {
   "cell_type": "code",
   "execution_count": 31,
   "id": "468d1f8a",
   "metadata": {
    "ExecuteTime": {
     "end_time": "2022-08-31T05:47:57.116404Z",
     "start_time": "2022-08-31T05:47:57.109364Z"
    }
   },
   "outputs": [
    {
     "data": {
      "text/plain": [
       "'L.i.f.e. .i.s. .t.o.o. .s.h.o.r.t.,. .Y.o.u. .n.e.e.d. .P.y.t.h.o.n.!'"
      ]
     },
     "execution_count": 31,
     "metadata": {},
     "output_type": "execute_result"
    }
   ],
   "source": [
    "'.'.join(s) # 문자열 삽입해주는 함수 -> 보통 파일 경로 때문에 많이 쓰임"
   ]
  },
  {
   "cell_type": "code",
   "execution_count": 32,
   "id": "3ee95830",
   "metadata": {
    "ExecuteTime": {
     "end_time": "2022-08-31T05:47:57.548613Z",
     "start_time": "2022-08-31T05:47:57.542424Z"
    }
   },
   "outputs": [
    {
     "data": {
      "text/plain": [
       "'LIFE IS TOO SHORT, YOU NEED PYTHON!'"
      ]
     },
     "execution_count": 32,
     "metadata": {},
     "output_type": "execute_result"
    }
   ],
   "source": [
    "s.upper() # 대문자로 만들어줌"
   ]
  },
  {
   "cell_type": "code",
   "execution_count": 33,
   "id": "03cf065e",
   "metadata": {
    "ExecuteTime": {
     "end_time": "2022-08-31T05:48:02.120090Z",
     "start_time": "2022-08-31T05:48:02.113485Z"
    }
   },
   "outputs": [
    {
     "data": {
      "text/plain": [
       "'Life is txx shxrt, Yxu need Pythxn!'"
      ]
     },
     "execution_count": 33,
     "metadata": {},
     "output_type": "execute_result"
    }
   ],
   "source": [
    "s.replace('o','x') # 문자열 바꾸기"
   ]
  },
  {
   "cell_type": "code",
   "execution_count": 34,
   "id": "cb3c41a7",
   "metadata": {
    "ExecuteTime": {
     "end_time": "2022-08-31T05:48:36.743829Z",
     "start_time": "2022-08-31T05:48:36.737296Z"
    }
   },
   "outputs": [
    {
     "data": {
      "text/plain": [
       "'Your grade is 100'"
      ]
     },
     "execution_count": 34,
     "metadata": {},
     "output_type": "execute_result"
    }
   ],
   "source": [
    "'Your grade is %d' % 100"
   ]
  },
  {
   "cell_type": "code",
   "execution_count": 35,
   "id": "e8a82c89",
   "metadata": {
    "ExecuteTime": {
     "end_time": "2022-08-31T05:49:19.482996Z",
     "start_time": "2022-08-31T05:49:19.475788Z"
    }
   },
   "outputs": [
    {
     "data": {
      "text/plain": [
       "'Your grade is 100 abc [1, 2, 3]'"
      ]
     },
     "execution_count": 35,
     "metadata": {},
     "output_type": "execute_result"
    }
   ],
   "source": [
    "'Your grade is {} {} {}'.format(100, 'abc', [1,2,3])"
   ]
  },
  {
   "cell_type": "code",
   "execution_count": 36,
   "id": "a0fd4b17",
   "metadata": {
    "ExecuteTime": {
     "end_time": "2022-08-31T05:49:37.825418Z",
     "start_time": "2022-08-31T05:49:37.819099Z"
    }
   },
   "outputs": [
    {
     "data": {
      "text/plain": [
       "'Your grade is 100'"
      ]
     },
     "execution_count": 36,
     "metadata": {},
     "output_type": "execute_result"
    }
   ],
   "source": [
    "f'Your grade is {100}'"
   ]
  },
  {
   "cell_type": "code",
   "execution_count": null,
   "id": "3db16988",
   "metadata": {},
   "outputs": [],
   "source": []
  },
  {
   "cell_type": "markdown",
   "id": "580ce557",
   "metadata": {},
   "source": [
    "### slicing"
   ]
  },
  {
   "cell_type": "code",
   "execution_count": 37,
   "id": "ae254a1d",
   "metadata": {
    "ExecuteTime": {
     "end_time": "2022-08-31T05:49:53.004349Z",
     "start_time": "2022-08-31T05:49:52.996945Z"
    }
   },
   "outputs": [
    {
     "data": {
      "text/plain": [
       "[0, 1]"
      ]
     },
     "execution_count": 37,
     "metadata": {},
     "output_type": "execute_result"
    }
   ],
   "source": [
    "a = [0, 1, 2, 3, 4, 5, 6, 7, 8, 9]\n",
    "a[0:2]"
   ]
  },
  {
   "cell_type": "code",
   "execution_count": 38,
   "id": "befac616",
   "metadata": {
    "ExecuteTime": {
     "end_time": "2022-08-31T05:49:53.285972Z",
     "start_time": "2022-08-31T05:49:53.278484Z"
    }
   },
   "outputs": [
    {
     "data": {
      "text/plain": [
       "[0, 2, 4, 6, 8]"
      ]
     },
     "execution_count": 38,
     "metadata": {},
     "output_type": "execute_result"
    }
   ],
   "source": [
    "a = [0, 1, 2, 3, 4, 5, 6, 7, 8, 9]\n",
    "a[0:10:2]  # step을 2씩 증가"
   ]
  },
  {
   "cell_type": "code",
   "execution_count": 39,
   "id": "cbc05e43",
   "metadata": {
    "ExecuteTime": {
     "end_time": "2022-08-31T05:49:55.395044Z",
     "start_time": "2022-08-31T05:49:55.386664Z"
    }
   },
   "outputs": [
    {
     "data": {
      "text/plain": [
       "[-1, -2, 2, 3, 4, 5, 6, 7, 8, 9]"
      ]
     },
     "execution_count": 39,
     "metadata": {},
     "output_type": "execute_result"
    }
   ],
   "source": [
    "a = [0, 1, 2, 3, 4, 5, 6, 7, 8, 9]\n",
    "a[0:2] = [-1, -2]  # 길이만 맞는다면 변경 가능\n",
    "a"
   ]
  },
  {
   "cell_type": "markdown",
   "id": "93366db1",
   "metadata": {},
   "source": [
    "### tuple"
   ]
  },
  {
   "cell_type": "code",
   "execution_count": 40,
   "id": "e97a4c31",
   "metadata": {
    "ExecuteTime": {
     "end_time": "2022-08-31T05:49:58.648344Z",
     "start_time": "2022-08-31T05:49:58.642211Z"
    }
   },
   "outputs": [
    {
     "data": {
      "text/plain": [
       "()"
      ]
     },
     "execution_count": 40,
     "metadata": {},
     "output_type": "execute_result"
    }
   ],
   "source": [
    "tuple()"
   ]
  },
  {
   "cell_type": "code",
   "execution_count": 41,
   "id": "89acb7cc",
   "metadata": {
    "ExecuteTime": {
     "end_time": "2022-08-31T05:50:00.128863Z",
     "start_time": "2022-08-31T05:50:00.124817Z"
    }
   },
   "outputs": [
    {
     "data": {
      "text/plain": [
       "()"
      ]
     },
     "execution_count": 41,
     "metadata": {},
     "output_type": "execute_result"
    }
   ],
   "source": [
    "()"
   ]
  },
  {
   "cell_type": "code",
   "execution_count": 42,
   "id": "c79a223a",
   "metadata": {
    "ExecuteTime": {
     "end_time": "2022-08-31T05:50:00.308958Z",
     "start_time": "2022-08-31T05:50:00.303099Z"
    }
   },
   "outputs": [
    {
     "data": {
      "text/plain": [
       "(0, 1)"
      ]
     },
     "execution_count": 42,
     "metadata": {},
     "output_type": "execute_result"
    }
   ],
   "source": [
    "a = (0, 1, 2, 3, 4, 5, 6, 7, 8, 9)\n",
    "a[0:2]"
   ]
  },
  {
   "cell_type": "code",
   "execution_count": 43,
   "id": "a587ca09",
   "metadata": {
    "ExecuteTime": {
     "end_time": "2022-08-31T05:50:00.528016Z",
     "start_time": "2022-08-31T05:50:00.521397Z"
    }
   },
   "outputs": [
    {
     "data": {
      "text/plain": [
       "(0, 2, 4, 6, 8)"
      ]
     },
     "execution_count": 43,
     "metadata": {},
     "output_type": "execute_result"
    }
   ],
   "source": [
    "a = (0, 1, 2, 3, 4, 5, 6, 7, 8, 9)\n",
    "a[0:10:2]"
   ]
  },
  {
   "cell_type": "markdown",
   "id": "dae45c39",
   "metadata": {},
   "source": [
    "```python\n",
    "a = (0, 1, 2, 3, 4, 5, 6, 7, 8, 9)\n",
    "a[0] = -1\n",
    "\n",
    "---------------------------------------------------------------------------\n",
    "TypeError                                 Traceback (most recent call last)\n",
    "<ipython-input-29-86bf1ecdbbc2> in <module>\n",
    "      1 a = (0, 1, 2, 3, 4, 5, 6, 7, 8, 9)\n",
    "----> 2 a[0] = -1\n",
    "\n",
    "TypeError: 'tuple' object does not support item assignment\n",
    "```"
   ]
  },
  {
   "cell_type": "markdown",
   "id": "371e9b4b",
   "metadata": {},
   "source": [
    "### dict"
   ]
  },
  {
   "cell_type": "code",
   "execution_count": 44,
   "id": "ced3cac9",
   "metadata": {
    "ExecuteTime": {
     "end_time": "2022-08-31T06:02:50.040240Z",
     "start_time": "2022-08-31T06:02:50.033909Z"
    }
   },
   "outputs": [
    {
     "data": {
      "text/plain": [
       "{}"
      ]
     },
     "execution_count": 44,
     "metadata": {},
     "output_type": "execute_result"
    }
   ],
   "source": [
    "dict()"
   ]
  },
  {
   "cell_type": "code",
   "execution_count": 45,
   "id": "81d8c7ef",
   "metadata": {
    "ExecuteTime": {
     "end_time": "2022-08-31T06:02:50.251613Z",
     "start_time": "2022-08-31T06:02:50.246389Z"
    }
   },
   "outputs": [
    {
     "data": {
      "text/plain": [
       "{}"
      ]
     },
     "execution_count": 45,
     "metadata": {},
     "output_type": "execute_result"
    }
   ],
   "source": [
    "{}"
   ]
  },
  {
   "cell_type": "code",
   "execution_count": 46,
   "id": "2574f7c1",
   "metadata": {
    "ExecuteTime": {
     "end_time": "2022-08-31T06:03:03.166612Z",
     "start_time": "2022-08-31T06:03:03.159441Z"
    }
   },
   "outputs": [
    {
     "data": {
      "text/plain": [
       "{'이름': '홍길동', '나이': 20, '전화번호': '010-1234-5678'}"
      ]
     },
     "execution_count": 46,
     "metadata": {},
     "output_type": "execute_result"
    }
   ],
   "source": [
    "a = {\n",
    "    '이름': '홍길동',\n",
    "    '나이': 20,\n",
    "    '전화번호': '010-1234-5678'\n",
    "}\n",
    "a"
   ]
  },
  {
   "cell_type": "code",
   "execution_count": 47,
   "id": "4df05f87",
   "metadata": {
    "ExecuteTime": {
     "end_time": "2022-08-31T06:03:53.085785Z",
     "start_time": "2022-08-31T06:03:53.079026Z"
    }
   },
   "outputs": [
    {
     "data": {
      "text/plain": [
       "dict_keys(['이름', '나이', '전화번호'])"
      ]
     },
     "execution_count": 47,
     "metadata": {},
     "output_type": "execute_result"
    }
   ],
   "source": [
    "a.keys()"
   ]
  },
  {
   "cell_type": "code",
   "execution_count": 48,
   "id": "2312b0a7",
   "metadata": {
    "ExecuteTime": {
     "end_time": "2022-08-31T06:03:54.312431Z",
     "start_time": "2022-08-31T06:03:54.306236Z"
    }
   },
   "outputs": [
    {
     "data": {
      "text/plain": [
       "dict_values(['홍길동', 20, '010-1234-5678'])"
      ]
     },
     "execution_count": 48,
     "metadata": {},
     "output_type": "execute_result"
    }
   ],
   "source": [
    "a.values()"
   ]
  },
  {
   "cell_type": "code",
   "execution_count": 49,
   "id": "6d97a288",
   "metadata": {
    "ExecuteTime": {
     "end_time": "2022-08-31T06:03:55.603636Z",
     "start_time": "2022-08-31T06:03:55.597434Z"
    }
   },
   "outputs": [
    {
     "data": {
      "text/plain": [
       "dict_items([('이름', '홍길동'), ('나이', 20), ('전화번호', '010-1234-5678')])"
      ]
     },
     "execution_count": 49,
     "metadata": {},
     "output_type": "execute_result"
    }
   ],
   "source": [
    "a.items()"
   ]
  },
  {
   "cell_type": "code",
   "execution_count": 57,
   "id": "b3de1319",
   "metadata": {
    "ExecuteTime": {
     "end_time": "2022-08-31T06:08:14.312024Z",
     "start_time": "2022-08-31T06:08:14.305107Z"
    }
   },
   "outputs": [
    {
     "data": {
      "text/plain": [
       "{'이름': 20, '전화번호': '010-1234-5678'}"
      ]
     },
     "execution_count": 57,
     "metadata": {},
     "output_type": "execute_result"
    }
   ],
   "source": [
    "# Key가 동일하면 안됨\n",
    "a = {'이름':'홍길동', '이름': 20, '전화번호': '010-1234-5678'}\n",
    "a"
   ]
  },
  {
   "cell_type": "markdown",
   "id": "06e8ef35",
   "metadata": {},
   "source": [
    "### set"
   ]
  },
  {
   "cell_type": "code",
   "execution_count": 58,
   "id": "5525a975",
   "metadata": {
    "ExecuteTime": {
     "end_time": "2022-08-31T06:08:28.051851Z",
     "start_time": "2022-08-31T06:08:28.045575Z"
    }
   },
   "outputs": [
    {
     "data": {
      "text/plain": [
       "set()"
      ]
     },
     "execution_count": 58,
     "metadata": {},
     "output_type": "execute_result"
    }
   ],
   "source": [
    "set()"
   ]
  },
  {
   "cell_type": "code",
   "execution_count": 59,
   "id": "7227eb12",
   "metadata": {
    "ExecuteTime": {
     "end_time": "2022-08-31T06:08:37.023972Z",
     "start_time": "2022-08-31T06:08:37.016616Z"
    }
   },
   "outputs": [
    {
     "data": {
      "text/plain": [
       "{1, 2, 3, 4, 5}"
      ]
     },
     "execution_count": 59,
     "metadata": {},
     "output_type": "execute_result"
    }
   ],
   "source": [
    "a = {1,1,2,3,3,3,4,4,5}  # Key 없는 dict\n",
    "a"
   ]
  },
  {
   "cell_type": "markdown",
   "id": "07e05366",
   "metadata": {},
   "source": [
    "## 조건문\n",
    "<hr style=\"height:5px;border:none;color:#132e4f;background-color:#132e4f;\"/>"
   ]
  },
  {
   "cell_type": "code",
   "execution_count": 61,
   "id": "4e42ea13",
   "metadata": {
    "ExecuteTime": {
     "end_time": "2022-08-31T06:10:02.621880Z",
     "start_time": "2022-08-31T06:10:02.615200Z"
    }
   },
   "outputs": [
    {
     "name": "stdout",
     "output_type": "stream",
     "text": [
      "2는 짝수입니다.\n"
     ]
    }
   ],
   "source": [
    "num = 2\n",
    "if num % 2 == 0:\n",
    "    print('{}는 짝수입니다.'.format(num))\n",
    "elif num % 2 != 0:\n",
    "    print('{}는 홀수입니다.'.format(num))\n",
    "else:\n",
    "    print('error!!')"
   ]
  },
  {
   "cell_type": "code",
   "execution_count": 62,
   "id": "a67a73a1",
   "metadata": {
    "ExecuteTime": {
     "end_time": "2022-08-31T06:10:29.515555Z",
     "start_time": "2022-08-31T06:10:29.510083Z"
    }
   },
   "outputs": [
    {
     "name": "stdout",
     "output_type": "stream",
     "text": [
      "hello\n"
     ]
    }
   ],
   "source": [
    "a = []\n",
    "if not a:\n",
    "    print('hello')"
   ]
  },
  {
   "cell_type": "markdown",
   "id": "5fd2da08",
   "metadata": {},
   "source": [
    "## 반복문\n",
    "<hr style=\"height:5px;border:none;color:#132e4f;background-color:#132e4f;\"/>"
   ]
  },
  {
   "cell_type": "markdown",
   "id": "d7a8a2dc",
   "metadata": {},
   "source": [
    "### while문"
   ]
  },
  {
   "cell_type": "code",
   "execution_count": 65,
   "id": "cd444080",
   "metadata": {
    "ExecuteTime": {
     "end_time": "2022-08-31T06:11:54.640701Z",
     "start_time": "2022-08-31T06:11:54.634354Z"
    }
   },
   "outputs": [
    {
     "name": "stdout",
     "output_type": "stream",
     "text": [
      "0\n",
      "1\n",
      "2\n",
      "3\n",
      "4\n"
     ]
    }
   ],
   "source": [
    "cnt = 0\n",
    "while cnt < 5:\n",
    "    print(cnt)\n",
    "    cnt += 1"
   ]
  },
  {
   "cell_type": "markdown",
   "id": "8f9d05df",
   "metadata": {},
   "source": [
    "### for문"
   ]
  },
  {
   "cell_type": "code",
   "execution_count": 66,
   "id": "178b08e3",
   "metadata": {
    "ExecuteTime": {
     "end_time": "2022-08-31T06:11:59.956310Z",
     "start_time": "2022-08-31T06:11:59.950498Z"
    }
   },
   "outputs": [
    {
     "name": "stdout",
     "output_type": "stream",
     "text": [
      "0\n",
      "1\n",
      "2\n",
      "3\n",
      "4\n"
     ]
    }
   ],
   "source": [
    "for i in range(5):\n",
    "    print(i)"
   ]
  },
  {
   "cell_type": "code",
   "execution_count": 67,
   "id": "adc830b2",
   "metadata": {
    "ExecuteTime": {
     "end_time": "2022-08-31T06:12:08.168655Z",
     "start_time": "2022-08-31T06:12:08.161988Z"
    }
   },
   "outputs": [
    {
     "data": {
      "text/plain": [
       "[0, 1, 2, 3, 4]"
      ]
     },
     "execution_count": 67,
     "metadata": {},
     "output_type": "execute_result"
    }
   ],
   "source": [
    "[i for i in range(5)]  # List comprehension"
   ]
  },
  {
   "cell_type": "code",
   "execution_count": 68,
   "id": "3e438a89",
   "metadata": {
    "ExecuteTime": {
     "end_time": "2022-08-31T06:12:11.001236Z",
     "start_time": "2022-08-31T06:12:10.993736Z"
    }
   },
   "outputs": [
    {
     "data": {
      "text/plain": [
       "{0: 'a', 1: 'b', 2: 'c'}"
      ]
     },
     "execution_count": 68,
     "metadata": {},
     "output_type": "execute_result"
    }
   ],
   "source": [
    "{k:v for k,v in zip(range(3), 'abc')}  # Dict comprehension"
   ]
  },
  {
   "cell_type": "markdown",
   "id": "014395e3",
   "metadata": {},
   "source": [
    "<div style=\"background:rgb(255,135,0,0.1);padding:20px;margin: 20px;color:black;\">\n",
    "    <b>문제1: 별찢기</b>\n",
    "    <ul>\n",
    "        <li>적절하게 조건문과 반복문을 이용하여 아래와 같은 모양이 나올 수 있도록 코드를 작성하세요.</li>\n",
    "    </ul>\n",
    "</div>\n",
    "\n",
    "```\n",
    "          *\n",
    "         ***\n",
    "        *****\n",
    "       *******\n",
    "      *********\n",
    "     ***********\n",
    "    *************\n",
    "   ***************\n",
    "  *****************\n",
    " *******************\n",
    " ```"
   ]
  },
  {
   "cell_type": "code",
   "execution_count": 86,
   "id": "0b91c719",
   "metadata": {
    "ExecuteTime": {
     "end_time": "2022-08-31T06:16:41.662400Z",
     "start_time": "2022-08-31T06:16:41.654481Z"
    }
   },
   "outputs": [
    {
     "name": "stdout",
     "output_type": "stream",
     "text": [
      "          *\n",
      "         ***\n",
      "        *****\n",
      "       *******\n",
      "      *********\n",
      "     ***********\n",
      "    *************\n",
      "   ***************\n",
      "  *****************\n",
      " *******************\n"
     ]
    }
   ],
   "source": [
    "for i in range(10):\n",
    "    print('{}{}'.format(\n",
    "        ' '*(10-i),\n",
    "        '*'*(2*i+1),\n",
    "    ))"
   ]
  },
  {
   "cell_type": "markdown",
   "id": "6130c3f2",
   "metadata": {},
   "source": [
    "## 함수\n",
    "<hr style=\"height:5px;border:none;color:#132e4f;background-color:#132e4f;\"/>"
   ]
  },
  {
   "cell_type": "markdown",
   "id": "9265d436",
   "metadata": {},
   "source": [
    "### 입력이 있고 출력이 있는 경우"
   ]
  },
  {
   "cell_type": "code",
   "execution_count": 87,
   "id": "0114b807",
   "metadata": {
    "ExecuteTime": {
     "end_time": "2022-08-31T06:17:19.987508Z",
     "start_time": "2022-08-31T06:17:19.983324Z"
    }
   },
   "outputs": [],
   "source": [
    "def func1(arg):\n",
    "    return arg"
   ]
  },
  {
   "cell_type": "code",
   "execution_count": 88,
   "id": "c7328edd",
   "metadata": {
    "ExecuteTime": {
     "end_time": "2022-08-31T06:17:20.671663Z",
     "start_time": "2022-08-31T06:17:20.666717Z"
    }
   },
   "outputs": [
    {
     "name": "stdout",
     "output_type": "stream",
     "text": [
      "1\n"
     ]
    }
   ],
   "source": [
    "rt = func1('1')\n",
    "print(rt)"
   ]
  },
  {
   "cell_type": "markdown",
   "id": "2119159c",
   "metadata": {},
   "source": [
    "### 입력이 있고 출력이 없는 경우"
   ]
  },
  {
   "cell_type": "code",
   "execution_count": 89,
   "id": "ac1be87b",
   "metadata": {
    "ExecuteTime": {
     "end_time": "2022-08-31T06:17:24.091368Z",
     "start_time": "2022-08-31T06:17:24.087320Z"
    }
   },
   "outputs": [],
   "source": [
    "def func2(arg):\n",
    "    print(arg)"
   ]
  },
  {
   "cell_type": "code",
   "execution_count": 90,
   "id": "a470627b",
   "metadata": {
    "ExecuteTime": {
     "end_time": "2022-08-31T06:17:27.920062Z",
     "start_time": "2022-08-31T06:17:27.915057Z"
    }
   },
   "outputs": [
    {
     "name": "stdout",
     "output_type": "stream",
     "text": [
      "1\n"
     ]
    }
   ],
   "source": [
    "func2('1')"
   ]
  },
  {
   "cell_type": "markdown",
   "id": "13cd6c26",
   "metadata": {},
   "source": [
    "### 입력이 없고 출력이 있는 경우"
   ]
  },
  {
   "cell_type": "code",
   "execution_count": 91,
   "id": "fbd5005a",
   "metadata": {
    "ExecuteTime": {
     "end_time": "2022-08-31T06:17:31.785339Z",
     "start_time": "2022-08-31T06:17:31.781456Z"
    }
   },
   "outputs": [],
   "source": [
    "def func3():\n",
    "    return '1'"
   ]
  },
  {
   "cell_type": "code",
   "execution_count": 92,
   "id": "24ea64fe",
   "metadata": {
    "ExecuteTime": {
     "end_time": "2022-08-31T06:17:32.038383Z",
     "start_time": "2022-08-31T06:17:32.033410Z"
    }
   },
   "outputs": [
    {
     "name": "stdout",
     "output_type": "stream",
     "text": [
      "1\n"
     ]
    }
   ],
   "source": [
    "rt = func3()\n",
    "print(rt)"
   ]
  },
  {
   "cell_type": "markdown",
   "id": "bbd65f03",
   "metadata": {},
   "source": [
    "### 입력이 없고 출력이 없는 경우"
   ]
  },
  {
   "cell_type": "code",
   "execution_count": 93,
   "id": "f99c6bb5",
   "metadata": {
    "ExecuteTime": {
     "end_time": "2022-08-31T06:17:34.069018Z",
     "start_time": "2022-08-31T06:17:34.065096Z"
    }
   },
   "outputs": [],
   "source": [
    "def func4():\n",
    "    print('1')"
   ]
  },
  {
   "cell_type": "code",
   "execution_count": 94,
   "id": "c9f38c03",
   "metadata": {
    "ExecuteTime": {
     "end_time": "2022-08-31T06:17:51.216600Z",
     "start_time": "2022-08-31T06:17:51.211759Z"
    }
   },
   "outputs": [
    {
     "name": "stdout",
     "output_type": "stream",
     "text": [
      "1\n"
     ]
    }
   ],
   "source": [
    "func4()"
   ]
  },
  {
   "cell_type": "markdown",
   "id": "25964484",
   "metadata": {},
   "source": [
    "<div style=\"background:rgb(255,135,0,0.1);padding:20px;margin: 20px;color:black;\">\n",
    "    <b>문제2: 숫자 야구</b>\n",
    "    <ul>\n",
    "        <li>적절하게 조건문과 반복문을 이용하여 아래의 예제를 통과할 수 있도록 코드를 작성하세요.</li>\n",
    "        <li>입력된 숫자 3개 중 입력된 숫자가 포함하면 볼, 위치까지 맞으면 스트라이크</li>\n",
    "        <ul>\n",
    "            <li>아래와 같은 예시를 통과</li>\n",
    "            <li>정답: 1 2 3 </li>\n",
    "            <li>예측: 7 1 3 -> 1볼 1스트라이크</li>\n",
    "        </ul>\n",
    "    </ul>\n",
    "</div>"
   ]
  },
  {
   "cell_type": "code",
   "execution_count": 95,
   "id": "0f4e337c",
   "metadata": {
    "ExecuteTime": {
     "end_time": "2022-08-31T06:18:59.993172Z",
     "start_time": "2022-08-31T06:18:59.984968Z"
    }
   },
   "outputs": [],
   "source": [
    "import random\n",
    "answer = random.sample(range(10), 3)\n",
    "\n",
    "def digits_baseball(nums_list):\n",
    "    print('입력: {}'.format(nums_list))\n",
    "    print('정답: {}'.format(answer))\n",
    "    ball, strike = 0, 0\n",
    "    for i, n in enumerate(nums_list):\n",
    "        if n in answer:\n",
    "            if n == answer[i]:\n",
    "                strike += 1\n",
    "            else:\n",
    "                ball += 1\n",
    "    \n",
    "    return ball, strike"
   ]
  },
  {
   "cell_type": "code",
   "execution_count": 96,
   "id": "1e5a40a1",
   "metadata": {
    "ExecuteTime": {
     "end_time": "2022-08-31T06:19:11.323112Z",
     "start_time": "2022-08-31T06:19:01.059128Z"
    }
   },
   "outputs": [
    {
     "name": "stdout",
     "output_type": "stream",
     "text": [
      "숫자 3개를 입력하세요 > 1 2 3\n",
      "입력: [1, 2, 3]\n",
      "정답: [4, 6, 3]\n",
      "결과: 0B 1S\n"
     ]
    }
   ],
   "source": [
    "nums_list = list(map(lambda x: int(x), input('숫자 3개를 입력하세요 > ').split(' ')))\n",
    "b, s = digits_baseball(nums_list)\n",
    "print('결과: {}B {}S'.format(b, s))"
   ]
  },
  {
   "cell_type": "markdown",
   "id": "7bac530f",
   "metadata": {},
   "source": [
    "## 클래스\n",
    "<hr style=\"height:5px;border:none;color:#132e4f;background-color:#132e4f;\"/>"
   ]
  },
  {
   "cell_type": "code",
   "execution_count": 99,
   "id": "24d1dbde",
   "metadata": {
    "ExecuteTime": {
     "end_time": "2022-08-31T06:22:34.706675Z",
     "start_time": "2022-08-31T06:22:34.701080Z"
    }
   },
   "outputs": [],
   "source": [
    "class Calculator:\n",
    "    def __init__(self, name):\n",
    "        self.name = name\n",
    "        self.result = 0\n",
    "    \n",
    "    def add(self, a):\n",
    "        self.result += a\n",
    "        return self.result"
   ]
  },
  {
   "cell_type": "code",
   "execution_count": 100,
   "id": "6fd1104c",
   "metadata": {
    "ExecuteTime": {
     "end_time": "2022-08-31T06:22:34.934355Z",
     "start_time": "2022-08-31T06:22:34.930544Z"
    }
   },
   "outputs": [],
   "source": [
    "c = Calculator('더하기 계산기')"
   ]
  },
  {
   "cell_type": "code",
   "execution_count": 101,
   "id": "7ab5fbb3",
   "metadata": {
    "ExecuteTime": {
     "end_time": "2022-08-31T06:22:35.119868Z",
     "start_time": "2022-08-31T06:22:35.113530Z"
    }
   },
   "outputs": [
    {
     "data": {
      "text/plain": [
       "3"
      ]
     },
     "execution_count": 101,
     "metadata": {},
     "output_type": "execute_result"
    }
   ],
   "source": [
    "c.add(3)"
   ]
  },
  {
   "cell_type": "markdown",
   "id": "49ce3d86",
   "metadata": {},
   "source": [
    "## 참고자료\n",
    "<hr style=\"height:5px;border:none;color:#132e4f;background-color:#132e4f;\"/>"
   ]
  },
  {
   "cell_type": "markdown",
   "id": "6a5efdba",
   "metadata": {},
   "source": [
    "- https://wikidocs.net/book/1"
   ]
  },
  {
   "cell_type": "markdown",
   "id": "c65da470",
   "metadata": {},
   "source": [
    "<br>\n",
    "\n",
    "<span style=\"color:rgb(120, 120, 120)\">본 학습 자료를 포함한 모든 자료의 저작권은 성민석에 있으며 제작자의 동의없이 외부로의 무단 복제, 배포 및 전송을 절대로 불허합니다.\n",
    "\n",
    "<b>Copyright ⓒ 2022. Minsuk Sung. All rights reserved.</b>\n",
    "</span>\n",
    "\n",
    "<br>"
   ]
  }
 ],
 "metadata": {
  "kernelspec": {
   "display_name": "Python 3",
   "language": "python",
   "name": "python3"
  },
  "language_info": {
   "codemirror_mode": {
    "name": "ipython",
    "version": 3
   },
   "file_extension": ".py",
   "mimetype": "text/x-python",
   "name": "python",
   "nbconvert_exporter": "python",
   "pygments_lexer": "ipython3",
   "version": "3.7.10"
  },
  "toc": {
   "base_numbering": 1,
   "nav_menu": {},
   "number_sections": true,
   "sideBar": true,
   "skip_h1_title": true,
   "title_cell": "목차",
   "title_sidebar": "내용",
   "toc_cell": true,
   "toc_position": {
    "height": "calc(100% - 180px)",
    "left": "10px",
    "top": "150px",
    "width": "165px"
   },
   "toc_section_display": true,
   "toc_window_display": true
  }
 },
 "nbformat": 4,
 "nbformat_minor": 5
}
