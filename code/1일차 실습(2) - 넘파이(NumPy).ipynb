{
 "cells": [
  {
   "cell_type": "markdown",
   "id": "133631a0",
   "metadata": {},
   "source": [
    "![](../img/banner_day1.png)\n",
    "\n",
    "<br>\n",
    "\n",
    "# 1일차 실습(2) - 넘파이(NumPy)\n",
    "\n",
    "<br>\n",
    "<br>\n",
    "<div align='right'>강사 성민석</div>\n",
    "<div align='right'>고려대학교 인공지능학과 박사과정</div>\n",
    "<div align='right'>(minsuksung@korea.ac.kr)</div>"
   ]
  },
  {
   "cell_type": "markdown",
   "id": "50ded8c6",
   "metadata": {},
   "source": [
    "> <font color='red'><b>WARNING</b></font>: 본 컨텐츠는 **[저작권법 제25조 제2항](https://glaw.scourt.go.kr/wsjo/lawod/sjo192.do?contId=2135829&jomunNo=25)** 에 의해 강의 목적으로 이용한 저작물이 포함되어 있습니다.  \n",
    "> 해당 자료를 제작자의 동의없이 <font color='red'><b>외부에 임의로 공개 및 수정하는 것을 금지</b></font>하며 이를 위반하는 경우 저작권 침해로서 관련법에 따라 처벌될 수 있으니 주의해주시기 바랍니다."
   ]
  },
  {
   "cell_type": "markdown",
   "id": "5f24954f",
   "metadata": {
    "toc": true
   },
   "source": [
    "<h1>목차<span class=\"tocSkip\"></span></h1>\n",
    "<div class=\"toc\"><ul class=\"toc-item\"><li><span><a href=\"#NumPy-불러오기\" data-toc-modified-id=\"NumPy-불러오기-1\"><span class=\"toc-item-num\">1&nbsp;&nbsp;</span>NumPy 불러오기</a></span></li><li><span><a href=\"#np.array\" data-toc-modified-id=\"np.array-2\"><span class=\"toc-item-num\">2&nbsp;&nbsp;</span>np.array</a></span></li><li><span><a href=\"#연산\" data-toc-modified-id=\"연산-3\"><span class=\"toc-item-num\">3&nbsp;&nbsp;</span>연산</a></span></li><li><span><a href=\"#다차원-array\" data-toc-modified-id=\"다차원-array-4\"><span class=\"toc-item-num\">4&nbsp;&nbsp;</span>다차원 array</a></span></li><li><span><a href=\"#indexing-&amp;-slicing\" data-toc-modified-id=\"indexing-&amp;-slicing-5\"><span class=\"toc-item-num\">5&nbsp;&nbsp;</span>indexing &amp; slicing</a></span></li><li><span><a href=\"#Broadcasting\" data-toc-modified-id=\"Broadcasting-6\"><span class=\"toc-item-num\">6&nbsp;&nbsp;</span>Broadcasting</a></span></li><li><span><a href=\"#reshape\" data-toc-modified-id=\"reshape-7\"><span class=\"toc-item-num\">7&nbsp;&nbsp;</span>reshape</a></span></li><li><span><a href=\"#참고자료\" data-toc-modified-id=\"참고자료-8\"><span class=\"toc-item-num\">8&nbsp;&nbsp;</span>참고자료</a></span></li></ul></div>"
   ]
  },
  {
   "cell_type": "markdown",
   "id": "6cb072aa",
   "metadata": {},
   "source": [
    "## NumPy 불러오기\n",
    "<hr style=\"height:5px;border:none;color:#132e4f;background-color:#132e4f;\"/>"
   ]
  },
  {
   "cell_type": "markdown",
   "id": "749d4980",
   "metadata": {},
   "source": [
    "<div style=\"background:rgb(255,135,0,0.1);padding:20px;margin: 20px;color:black;\">\n",
    "    <b>설명</b>\n",
    "    <ul>\n",
    "        <li>ㅇㅇㅇㅇㅇ</li>\n",
    "    </ul>\n",
    "</div>"
   ]
  },
  {
   "cell_type": "code",
   "execution_count": 1,
   "id": "6fd4eff0",
   "metadata": {
    "ExecuteTime": {
     "end_time": "2022-08-29T06:57:04.702818Z",
     "start_time": "2022-08-29T06:57:04.631138Z"
    }
   },
   "outputs": [],
   "source": [
    "import numpy as np"
   ]
  },
  {
   "cell_type": "markdown",
   "id": "07e05366",
   "metadata": {},
   "source": [
    "## np.array\n",
    "<hr style=\"height:5px;border:none;color:#132e4f;background-color:#132e4f;\"/>"
   ]
  },
  {
   "cell_type": "code",
   "execution_count": 2,
   "id": "4e42ea13",
   "metadata": {
    "ExecuteTime": {
     "end_time": "2022-08-29T06:57:04.707966Z",
     "start_time": "2022-08-29T06:57:04.704784Z"
    }
   },
   "outputs": [
    {
     "name": "stdout",
     "output_type": "stream",
     "text": [
      "[1 2 3]\n"
     ]
    }
   ],
   "source": [
    "x = np.array([1,2,3])\n",
    "print(x)"
   ]
  },
  {
   "cell_type": "code",
   "execution_count": 3,
   "id": "4ed98a4e",
   "metadata": {
    "ExecuteTime": {
     "end_time": "2022-08-29T06:57:04.731151Z",
     "start_time": "2022-08-29T06:57:04.709541Z"
    }
   },
   "outputs": [
    {
     "data": {
      "text/plain": [
       "numpy.ndarray"
      ]
     },
     "execution_count": 3,
     "metadata": {},
     "output_type": "execute_result"
    }
   ],
   "source": [
    "type(x)"
   ]
  },
  {
   "cell_type": "code",
   "execution_count": 4,
   "id": "4220c5e9",
   "metadata": {
    "ExecuteTime": {
     "end_time": "2022-08-29T06:57:04.749413Z",
     "start_time": "2022-08-29T06:57:04.732486Z"
    }
   },
   "outputs": [
    {
     "name": "stdout",
     "output_type": "stream",
     "text": [
      "[1, 2, 3]\n"
     ]
    }
   ],
   "source": [
    "x2 = [1,2,3]\n",
    "print(x2)"
   ]
  },
  {
   "cell_type": "code",
   "execution_count": 5,
   "id": "afad58fb",
   "metadata": {
    "ExecuteTime": {
     "end_time": "2022-08-29T06:57:04.764572Z",
     "start_time": "2022-08-29T06:57:04.751284Z"
    }
   },
   "outputs": [
    {
     "data": {
      "text/plain": [
       "list"
      ]
     },
     "execution_count": 5,
     "metadata": {},
     "output_type": "execute_result"
    }
   ],
   "source": [
    "type(x2)  # list와 확실히 다르다"
   ]
  },
  {
   "cell_type": "code",
   "execution_count": 6,
   "id": "58d3e185",
   "metadata": {
    "ExecuteTime": {
     "end_time": "2022-08-29T06:57:04.781875Z",
     "start_time": "2022-08-29T06:57:04.766536Z"
    }
   },
   "outputs": [
    {
     "data": {
      "text/plain": [
       "['__add__',\n",
       " '__class__',\n",
       " '__contains__',\n",
       " '__delattr__',\n",
       " '__delitem__',\n",
       " '__dir__',\n",
       " '__doc__',\n",
       " '__eq__',\n",
       " '__format__',\n",
       " '__ge__',\n",
       " '__getattribute__',\n",
       " '__getitem__',\n",
       " '__gt__',\n",
       " '__hash__',\n",
       " '__iadd__',\n",
       " '__imul__',\n",
       " '__init__',\n",
       " '__init_subclass__',\n",
       " '__iter__',\n",
       " '__le__',\n",
       " '__len__',\n",
       " '__lt__',\n",
       " '__mul__',\n",
       " '__ne__',\n",
       " '__new__',\n",
       " '__reduce__',\n",
       " '__reduce_ex__',\n",
       " '__repr__',\n",
       " '__reversed__',\n",
       " '__rmul__',\n",
       " '__setattr__',\n",
       " '__setitem__',\n",
       " '__sizeof__',\n",
       " '__str__',\n",
       " '__subclasshook__',\n",
       " 'append',\n",
       " 'clear',\n",
       " 'copy',\n",
       " 'count',\n",
       " 'extend',\n",
       " 'index',\n",
       " 'insert',\n",
       " 'pop',\n",
       " 'remove',\n",
       " 'reverse',\n",
       " 'sort']"
      ]
     },
     "execution_count": 6,
     "metadata": {},
     "output_type": "execute_result"
    }
   ],
   "source": [
    "# list 에서 활용할 수 있는 함수들\n",
    "dir(x2)"
   ]
  },
  {
   "cell_type": "code",
   "execution_count": 7,
   "id": "ef68b695",
   "metadata": {
    "ExecuteTime": {
     "end_time": "2022-08-29T06:57:04.801612Z",
     "start_time": "2022-08-29T06:57:04.785692Z"
    }
   },
   "outputs": [
    {
     "data": {
      "text/plain": [
       "['T',\n",
       " '__abs__',\n",
       " '__add__',\n",
       " '__and__',\n",
       " '__array__',\n",
       " '__array_finalize__',\n",
       " '__array_function__',\n",
       " '__array_interface__',\n",
       " '__array_prepare__',\n",
       " '__array_priority__',\n",
       " '__array_struct__',\n",
       " '__array_ufunc__',\n",
       " '__array_wrap__',\n",
       " '__bool__',\n",
       " '__class__',\n",
       " '__complex__',\n",
       " '__contains__',\n",
       " '__copy__',\n",
       " '__deepcopy__',\n",
       " '__delattr__',\n",
       " '__delitem__',\n",
       " '__dir__',\n",
       " '__divmod__',\n",
       " '__doc__',\n",
       " '__eq__',\n",
       " '__float__',\n",
       " '__floordiv__',\n",
       " '__format__',\n",
       " '__ge__',\n",
       " '__getattribute__',\n",
       " '__getitem__',\n",
       " '__gt__',\n",
       " '__hash__',\n",
       " '__iadd__',\n",
       " '__iand__',\n",
       " '__ifloordiv__',\n",
       " '__ilshift__',\n",
       " '__imatmul__',\n",
       " '__imod__',\n",
       " '__imul__',\n",
       " '__index__',\n",
       " '__init__',\n",
       " '__init_subclass__',\n",
       " '__int__',\n",
       " '__invert__',\n",
       " '__ior__',\n",
       " '__ipow__',\n",
       " '__irshift__',\n",
       " '__isub__',\n",
       " '__iter__',\n",
       " '__itruediv__',\n",
       " '__ixor__',\n",
       " '__le__',\n",
       " '__len__',\n",
       " '__lshift__',\n",
       " '__lt__',\n",
       " '__matmul__',\n",
       " '__mod__',\n",
       " '__mul__',\n",
       " '__ne__',\n",
       " '__neg__',\n",
       " '__new__',\n",
       " '__or__',\n",
       " '__pos__',\n",
       " '__pow__',\n",
       " '__radd__',\n",
       " '__rand__',\n",
       " '__rdivmod__',\n",
       " '__reduce__',\n",
       " '__reduce_ex__',\n",
       " '__repr__',\n",
       " '__rfloordiv__',\n",
       " '__rlshift__',\n",
       " '__rmatmul__',\n",
       " '__rmod__',\n",
       " '__rmul__',\n",
       " '__ror__',\n",
       " '__rpow__',\n",
       " '__rrshift__',\n",
       " '__rshift__',\n",
       " '__rsub__',\n",
       " '__rtruediv__',\n",
       " '__rxor__',\n",
       " '__setattr__',\n",
       " '__setitem__',\n",
       " '__setstate__',\n",
       " '__sizeof__',\n",
       " '__str__',\n",
       " '__sub__',\n",
       " '__subclasshook__',\n",
       " '__truediv__',\n",
       " '__xor__',\n",
       " 'all',\n",
       " 'any',\n",
       " 'argmax',\n",
       " 'argmin',\n",
       " 'argpartition',\n",
       " 'argsort',\n",
       " 'astype',\n",
       " 'base',\n",
       " 'byteswap',\n",
       " 'choose',\n",
       " 'clip',\n",
       " 'compress',\n",
       " 'conj',\n",
       " 'conjugate',\n",
       " 'copy',\n",
       " 'ctypes',\n",
       " 'cumprod',\n",
       " 'cumsum',\n",
       " 'data',\n",
       " 'diagonal',\n",
       " 'dot',\n",
       " 'dtype',\n",
       " 'dump',\n",
       " 'dumps',\n",
       " 'fill',\n",
       " 'flags',\n",
       " 'flat',\n",
       " 'flatten',\n",
       " 'getfield',\n",
       " 'imag',\n",
       " 'item',\n",
       " 'itemset',\n",
       " 'itemsize',\n",
       " 'max',\n",
       " 'mean',\n",
       " 'min',\n",
       " 'nbytes',\n",
       " 'ndim',\n",
       " 'newbyteorder',\n",
       " 'nonzero',\n",
       " 'partition',\n",
       " 'prod',\n",
       " 'ptp',\n",
       " 'put',\n",
       " 'ravel',\n",
       " 'real',\n",
       " 'repeat',\n",
       " 'reshape',\n",
       " 'resize',\n",
       " 'round',\n",
       " 'searchsorted',\n",
       " 'setfield',\n",
       " 'setflags',\n",
       " 'shape',\n",
       " 'size',\n",
       " 'sort',\n",
       " 'squeeze',\n",
       " 'std',\n",
       " 'strides',\n",
       " 'sum',\n",
       " 'swapaxes',\n",
       " 'take',\n",
       " 'tobytes',\n",
       " 'tofile',\n",
       " 'tolist',\n",
       " 'tostring',\n",
       " 'trace',\n",
       " 'transpose',\n",
       " 'var',\n",
       " 'view']"
      ]
     },
     "execution_count": 7,
     "metadata": {},
     "output_type": "execute_result"
    }
   ],
   "source": [
    "dir(x)"
   ]
  },
  {
   "cell_type": "markdown",
   "id": "4cf43271",
   "metadata": {},
   "source": [
    "## 연산\n",
    "<hr style=\"height:5px;border:none;color:#132e4f;background-color:#132e4f;\"/>"
   ]
  },
  {
   "cell_type": "code",
   "execution_count": 8,
   "id": "fc1497aa",
   "metadata": {
    "ExecuteTime": {
     "end_time": "2022-08-29T06:57:04.815430Z",
     "start_time": "2022-08-29T06:57:04.804335Z"
    }
   },
   "outputs": [],
   "source": [
    "x1 = np.array([1,2,3])\n",
    "x2 = np.array([4,5,6])"
   ]
  },
  {
   "cell_type": "code",
   "execution_count": 9,
   "id": "50d3e711",
   "metadata": {
    "ExecuteTime": {
     "end_time": "2022-08-29T06:57:04.831934Z",
     "start_time": "2022-08-29T06:57:04.817300Z"
    }
   },
   "outputs": [
    {
     "data": {
      "text/plain": [
       "array([5, 7, 9])"
      ]
     },
     "execution_count": 9,
     "metadata": {},
     "output_type": "execute_result"
    }
   ],
   "source": [
    "x1 + x2  # 기본적으로 연산은 element-wise"
   ]
  },
  {
   "cell_type": "code",
   "execution_count": 10,
   "id": "b29a78dd",
   "metadata": {
    "ExecuteTime": {
     "end_time": "2022-08-29T06:57:04.847538Z",
     "start_time": "2022-08-29T06:57:04.833894Z"
    }
   },
   "outputs": [
    {
     "data": {
      "text/plain": [
       "array([-3, -3, -3])"
      ]
     },
     "execution_count": 10,
     "metadata": {},
     "output_type": "execute_result"
    }
   ],
   "source": [
    "x1 - x2"
   ]
  },
  {
   "cell_type": "code",
   "execution_count": 11,
   "id": "d8079015",
   "metadata": {
    "ExecuteTime": {
     "end_time": "2022-08-29T06:57:04.863311Z",
     "start_time": "2022-08-29T06:57:04.849766Z"
    }
   },
   "outputs": [
    {
     "data": {
      "text/plain": [
       "array([ 4, 10, 18])"
      ]
     },
     "execution_count": 11,
     "metadata": {},
     "output_type": "execute_result"
    }
   ],
   "source": [
    "x1 * x2"
   ]
  },
  {
   "cell_type": "code",
   "execution_count": 12,
   "id": "cfbd53d2",
   "metadata": {
    "ExecuteTime": {
     "end_time": "2022-08-29T06:57:04.878816Z",
     "start_time": "2022-08-29T06:57:04.865569Z"
    }
   },
   "outputs": [
    {
     "data": {
      "text/plain": [
       "array([0.25, 0.4 , 0.5 ])"
      ]
     },
     "execution_count": 12,
     "metadata": {},
     "output_type": "execute_result"
    }
   ],
   "source": [
    "x1 / x2"
   ]
  },
  {
   "cell_type": "markdown",
   "id": "005b7887",
   "metadata": {},
   "source": [
    "## 다차원 array\n",
    "<hr style=\"height:5px;border:none;color:#132e4f;background-color:#132e4f;\"/>"
   ]
  },
  {
   "cell_type": "code",
   "execution_count": 13,
   "id": "d74ffd8a",
   "metadata": {
    "ExecuteTime": {
     "end_time": "2022-08-29T06:57:04.895151Z",
     "start_time": "2022-08-29T06:57:04.881026Z"
    }
   },
   "outputs": [],
   "source": [
    "x1 = np.array([\n",
    "    [1,2,3],\n",
    "    [4,5,6]\n",
    "])"
   ]
  },
  {
   "cell_type": "code",
   "execution_count": 14,
   "id": "c75660d6",
   "metadata": {
    "ExecuteTime": {
     "end_time": "2022-08-29T06:57:04.912153Z",
     "start_time": "2022-08-29T06:57:04.897862Z"
    }
   },
   "outputs": [
    {
     "data": {
      "text/plain": [
       "array([[1, 2, 3],\n",
       "       [4, 5, 6]])"
      ]
     },
     "execution_count": 14,
     "metadata": {},
     "output_type": "execute_result"
    }
   ],
   "source": [
    "x1"
   ]
  },
  {
   "cell_type": "code",
   "execution_count": 15,
   "id": "c91e1082",
   "metadata": {
    "ExecuteTime": {
     "end_time": "2022-08-29T06:57:04.928268Z",
     "start_time": "2022-08-29T06:57:04.914386Z"
    }
   },
   "outputs": [
    {
     "data": {
      "text/plain": [
       "(2, 3)"
      ]
     },
     "execution_count": 15,
     "metadata": {},
     "output_type": "execute_result"
    }
   ],
   "source": [
    "x1.shape"
   ]
  },
  {
   "cell_type": "code",
   "execution_count": 16,
   "id": "32ad6aa4",
   "metadata": {
    "ExecuteTime": {
     "end_time": "2022-08-29T06:57:04.943447Z",
     "start_time": "2022-08-29T06:57:04.930490Z"
    }
   },
   "outputs": [
    {
     "data": {
      "text/plain": [
       "dtype('int64')"
      ]
     },
     "execution_count": 16,
     "metadata": {},
     "output_type": "execute_result"
    }
   ],
   "source": [
    "x1.dtype"
   ]
  },
  {
   "cell_type": "code",
   "execution_count": 17,
   "id": "4bb5e1fd",
   "metadata": {
    "ExecuteTime": {
     "end_time": "2022-08-29T06:57:04.957491Z",
     "start_time": "2022-08-29T06:57:04.945760Z"
    }
   },
   "outputs": [],
   "source": [
    "x2 = np.array([\n",
    "    [7,8,9],\n",
    "    [10,11,12]\n",
    "])"
   ]
  },
  {
   "cell_type": "code",
   "execution_count": 18,
   "id": "7857da1e",
   "metadata": {
    "ExecuteTime": {
     "end_time": "2022-08-29T06:57:04.974557Z",
     "start_time": "2022-08-29T06:57:04.960129Z"
    }
   },
   "outputs": [
    {
     "data": {
      "text/plain": [
       "array([[ 7,  8,  9],\n",
       "       [10, 11, 12]])"
      ]
     },
     "execution_count": 18,
     "metadata": {},
     "output_type": "execute_result"
    }
   ],
   "source": [
    "x2"
   ]
  },
  {
   "cell_type": "code",
   "execution_count": 19,
   "id": "10f229df",
   "metadata": {
    "ExecuteTime": {
     "end_time": "2022-08-29T06:57:04.989694Z",
     "start_time": "2022-08-29T06:57:04.976832Z"
    }
   },
   "outputs": [
    {
     "data": {
      "text/plain": [
       "array([[ 8, 10, 12],\n",
       "       [14, 16, 18]])"
      ]
     },
     "execution_count": 19,
     "metadata": {},
     "output_type": "execute_result"
    }
   ],
   "source": [
    "x1 + x2"
   ]
  },
  {
   "cell_type": "code",
   "execution_count": 20,
   "id": "0b196585",
   "metadata": {
    "ExecuteTime": {
     "end_time": "2022-08-29T06:57:05.006605Z",
     "start_time": "2022-08-29T06:57:04.991748Z"
    }
   },
   "outputs": [
    {
     "data": {
      "text/plain": [
       "array([[ 7, 16, 27],\n",
       "       [40, 55, 72]])"
      ]
     },
     "execution_count": 20,
     "metadata": {},
     "output_type": "execute_result"
    }
   ],
   "source": [
    "x1 * x2"
   ]
  },
  {
   "cell_type": "code",
   "execution_count": 21,
   "id": "1824d530",
   "metadata": {
    "ExecuteTime": {
     "end_time": "2022-08-29T06:57:05.021865Z",
     "start_time": "2022-08-29T06:57:05.009116Z"
    }
   },
   "outputs": [
    {
     "data": {
      "text/plain": [
       "array([0, 1, 2, 3, 4, 5, 6, 7, 8, 9])"
      ]
     },
     "execution_count": 21,
     "metadata": {},
     "output_type": "execute_result"
    }
   ],
   "source": [
    "np.arange(10)"
   ]
  },
  {
   "cell_type": "code",
   "execution_count": 41,
   "id": "1c7eaa79",
   "metadata": {
    "ExecuteTime": {
     "end_time": "2022-08-29T06:57:36.791512Z",
     "start_time": "2022-08-29T06:57:36.784315Z"
    }
   },
   "outputs": [
    {
     "data": {
      "text/plain": [
       "array([0., 0., 0., 0., 0., 0., 0., 0., 0., 0.])"
      ]
     },
     "execution_count": 41,
     "metadata": {},
     "output_type": "execute_result"
    }
   ],
   "source": [
    "np.zeros((10,))"
   ]
  },
  {
   "cell_type": "code",
   "execution_count": 42,
   "id": "997ef897",
   "metadata": {
    "ExecuteTime": {
     "end_time": "2022-08-29T06:57:42.044436Z",
     "start_time": "2022-08-29T06:57:42.033535Z"
    }
   },
   "outputs": [
    {
     "data": {
      "text/plain": [
       "array([1., 1., 1., 1., 1., 1., 1., 1., 1., 1.])"
      ]
     },
     "execution_count": 42,
     "metadata": {},
     "output_type": "execute_result"
    }
   ],
   "source": [
    "np.ones((10,))"
   ]
  },
  {
   "cell_type": "code",
   "execution_count": 43,
   "id": "86118e18",
   "metadata": {
    "ExecuteTime": {
     "end_time": "2022-08-29T06:57:53.594032Z",
     "start_time": "2022-08-29T06:57:53.586389Z"
    }
   },
   "outputs": [
    {
     "data": {
      "text/plain": [
       "array([5, 0, 2, 1, 2, 8, 4, 7, 3, 6])"
      ]
     },
     "execution_count": 43,
     "metadata": {},
     "output_type": "execute_result"
    }
   ],
   "source": [
    "np.random.randint(0,10,size=(10,))"
   ]
  },
  {
   "cell_type": "code",
   "execution_count": 45,
   "id": "a7e8b7e3",
   "metadata": {
    "ExecuteTime": {
     "end_time": "2022-08-29T06:58:15.588692Z",
     "start_time": "2022-08-29T06:58:15.581156Z"
    }
   },
   "outputs": [
    {
     "data": {
      "text/plain": [
       "array([[ 0.79513424,  1.63833654, -1.59608953],\n",
       "       [ 1.14236014,  0.67426596,  0.97514973],\n",
       "       [ 2.32801259, -0.04540607,  1.39723935]])"
      ]
     },
     "execution_count": 45,
     "metadata": {},
     "output_type": "execute_result"
    }
   ],
   "source": [
    "np.random.randn(3,3)"
   ]
  },
  {
   "cell_type": "markdown",
   "id": "2e8be5e3",
   "metadata": {},
   "source": [
    "## indexing & slicing\n",
    "<hr style=\"height:5px;border:none;color:#132e4f;background-color:#132e4f;\"/>"
   ]
  },
  {
   "cell_type": "code",
   "execution_count": 25,
   "id": "5c90d812",
   "metadata": {
    "ExecuteTime": {
     "end_time": "2022-08-29T06:57:22.468176Z",
     "start_time": "2022-08-29T06:57:22.463463Z"
    }
   },
   "outputs": [],
   "source": [
    "x1 = np.array([\n",
    "    [1,2,3],\n",
    "    [4,5,6]\n",
    "])"
   ]
  },
  {
   "cell_type": "code",
   "execution_count": 26,
   "id": "bd7cb056",
   "metadata": {
    "ExecuteTime": {
     "end_time": "2022-08-29T06:57:22.626331Z",
     "start_time": "2022-08-29T06:57:22.619771Z"
    }
   },
   "outputs": [
    {
     "data": {
      "text/plain": [
       "array([1, 2, 3])"
      ]
     },
     "execution_count": 26,
     "metadata": {},
     "output_type": "execute_result"
    }
   ],
   "source": [
    "x1[0]"
   ]
  },
  {
   "cell_type": "code",
   "execution_count": 27,
   "id": "e3c19e2e",
   "metadata": {
    "ExecuteTime": {
     "end_time": "2022-08-29T06:57:22.786963Z",
     "start_time": "2022-08-29T06:57:22.780539Z"
    }
   },
   "outputs": [
    {
     "data": {
      "text/plain": [
       "2"
      ]
     },
     "execution_count": 27,
     "metadata": {},
     "output_type": "execute_result"
    }
   ],
   "source": [
    "x1[0][1]"
   ]
  },
  {
   "cell_type": "code",
   "execution_count": 28,
   "id": "a4cfae31",
   "metadata": {
    "ExecuteTime": {
     "end_time": "2022-08-29T06:57:23.010175Z",
     "start_time": "2022-08-29T06:57:23.003881Z"
    }
   },
   "outputs": [
    {
     "data": {
      "text/plain": [
       "2"
      ]
     },
     "execution_count": 28,
     "metadata": {},
     "output_type": "execute_result"
    }
   ],
   "source": [
    "x1[0,1]"
   ]
  },
  {
   "cell_type": "code",
   "execution_count": 29,
   "id": "3d032f46",
   "metadata": {
    "ExecuteTime": {
     "end_time": "2022-08-29T06:57:23.476503Z",
     "start_time": "2022-08-29T06:57:23.470051Z"
    }
   },
   "outputs": [
    {
     "data": {
      "text/plain": [
       "array([2, 3])"
      ]
     },
     "execution_count": 29,
     "metadata": {},
     "output_type": "execute_result"
    }
   ],
   "source": [
    "x1[0,1:3]"
   ]
  },
  {
   "cell_type": "markdown",
   "id": "5d7a96bc",
   "metadata": {},
   "source": [
    "## Broadcasting\n",
    "<hr style=\"height:5px;border:none;color:#132e4f;background-color:#132e4f;\"/>"
   ]
  },
  {
   "cell_type": "code",
   "execution_count": 30,
   "id": "4049dc3b",
   "metadata": {
    "ExecuteTime": {
     "end_time": "2022-08-29T06:57:26.441780Z",
     "start_time": "2022-08-29T06:57:26.437277Z"
    }
   },
   "outputs": [],
   "source": [
    "x1 = np.array([\n",
    "    [1,2,3],\n",
    "    [4,5,6]\n",
    "])"
   ]
  },
  {
   "cell_type": "code",
   "execution_count": 31,
   "id": "7215b273",
   "metadata": {
    "ExecuteTime": {
     "end_time": "2022-08-29T06:57:26.604239Z",
     "start_time": "2022-08-29T06:57:26.600143Z"
    }
   },
   "outputs": [],
   "source": [
    "x2 = np.array([\n",
    "    [1,2,3],\n",
    "])"
   ]
  },
  {
   "cell_type": "code",
   "execution_count": 32,
   "id": "9256da7e",
   "metadata": {
    "ExecuteTime": {
     "end_time": "2022-08-29T06:57:26.762601Z",
     "start_time": "2022-08-29T06:57:26.756201Z"
    }
   },
   "outputs": [
    {
     "data": {
      "text/plain": [
       "array([[2, 4, 6],\n",
       "       [5, 7, 9]])"
      ]
     },
     "execution_count": 32,
     "metadata": {},
     "output_type": "execute_result"
    }
   ],
   "source": [
    "x1 + x2"
   ]
  },
  {
   "cell_type": "code",
   "execution_count": 33,
   "id": "0718326b",
   "metadata": {
    "ExecuteTime": {
     "end_time": "2022-08-29T06:57:26.949462Z",
     "start_time": "2022-08-29T06:57:26.943128Z"
    }
   },
   "outputs": [
    {
     "data": {
      "text/plain": [
       "array([[ 1,  4,  9],\n",
       "       [ 4, 10, 18]])"
      ]
     },
     "execution_count": 33,
     "metadata": {},
     "output_type": "execute_result"
    }
   ],
   "source": [
    "x1 * x2"
   ]
  },
  {
   "cell_type": "markdown",
   "id": "c0d293f9",
   "metadata": {},
   "source": [
    "## reshape\n",
    "<hr style=\"height:5px;border:none;color:#132e4f;background-color:#132e4f;\"/>"
   ]
  },
  {
   "cell_type": "code",
   "execution_count": 34,
   "id": "aac13e32",
   "metadata": {
    "ExecuteTime": {
     "end_time": "2022-08-29T06:57:27.306255Z",
     "start_time": "2022-08-29T06:57:27.302041Z"
    }
   },
   "outputs": [],
   "source": [
    "x1 = np.array([\n",
    "    [1,2,3],\n",
    "    [4,5,6]\n",
    "])"
   ]
  },
  {
   "cell_type": "code",
   "execution_count": 35,
   "id": "b24960ad",
   "metadata": {
    "ExecuteTime": {
     "end_time": "2022-08-29T06:57:27.495358Z",
     "start_time": "2022-08-29T06:57:27.489101Z"
    }
   },
   "outputs": [
    {
     "data": {
      "text/plain": [
       "array([[1, 2, 3],\n",
       "       [4, 5, 6]])"
      ]
     },
     "execution_count": 35,
     "metadata": {},
     "output_type": "execute_result"
    }
   ],
   "source": [
    "x1"
   ]
  },
  {
   "cell_type": "code",
   "execution_count": 36,
   "id": "b8677177",
   "metadata": {
    "ExecuteTime": {
     "end_time": "2022-08-29T06:57:27.692261Z",
     "start_time": "2022-08-29T06:57:27.686081Z"
    }
   },
   "outputs": [
    {
     "data": {
      "text/plain": [
       "(2, 3)"
      ]
     },
     "execution_count": 36,
     "metadata": {},
     "output_type": "execute_result"
    }
   ],
   "source": [
    "x1.shape"
   ]
  },
  {
   "cell_type": "code",
   "execution_count": 37,
   "id": "d8469712",
   "metadata": {
    "ExecuteTime": {
     "end_time": "2022-08-29T06:57:27.853766Z",
     "start_time": "2022-08-29T06:57:27.847187Z"
    }
   },
   "outputs": [
    {
     "data": {
      "text/plain": [
       "array([[1, 2],\n",
       "       [3, 4],\n",
       "       [5, 6]])"
      ]
     },
     "execution_count": 37,
     "metadata": {},
     "output_type": "execute_result"
    }
   ],
   "source": [
    "x1.reshape(3,2)"
   ]
  },
  {
   "cell_type": "code",
   "execution_count": 38,
   "id": "633db045",
   "metadata": {
    "ExecuteTime": {
     "end_time": "2022-08-29T06:57:28.037792Z",
     "start_time": "2022-08-29T06:57:28.031243Z"
    }
   },
   "outputs": [
    {
     "data": {
      "text/plain": [
       "array([[1, 2, 3, 4, 5, 6]])"
      ]
     },
     "execution_count": 38,
     "metadata": {},
     "output_type": "execute_result"
    }
   ],
   "source": [
    "x1.reshape(1,6)"
   ]
  },
  {
   "cell_type": "code",
   "execution_count": 39,
   "id": "37ed1e48",
   "metadata": {
    "ExecuteTime": {
     "end_time": "2022-08-29T06:57:28.237841Z",
     "start_time": "2022-08-29T06:57:28.231189Z"
    },
    "scrolled": true
   },
   "outputs": [
    {
     "data": {
      "text/plain": [
       "array([[1],\n",
       "       [2],\n",
       "       [3],\n",
       "       [4],\n",
       "       [5],\n",
       "       [6]])"
      ]
     },
     "execution_count": 39,
     "metadata": {},
     "output_type": "execute_result"
    }
   ],
   "source": [
    "x1.reshape(6,1)"
   ]
  },
  {
   "cell_type": "code",
   "execution_count": 40,
   "id": "ae006533",
   "metadata": {
    "ExecuteTime": {
     "end_time": "2022-08-29T06:57:28.396648Z",
     "start_time": "2022-08-29T06:57:28.390043Z"
    }
   },
   "outputs": [
    {
     "data": {
      "text/plain": [
       "array([[[1, 2, 3],\n",
       "        [4, 5, 6]]])"
      ]
     },
     "execution_count": 40,
     "metadata": {},
     "output_type": "execute_result"
    }
   ],
   "source": [
    "x1.reshape(1,2,3)"
   ]
  },
  {
   "cell_type": "markdown",
   "id": "49ce3d86",
   "metadata": {},
   "source": [
    "## 참고자료\n",
    "<hr style=\"height:5px;border:none;color:#132e4f;background-color:#132e4f;\"/>"
   ]
  },
  {
   "cell_type": "markdown",
   "id": "cfad7e88",
   "metadata": {},
   "source": [
    "- http://bigdata.dongguk.ac.kr/lectures/Python/_book/numpy.html"
   ]
  },
  {
   "cell_type": "markdown",
   "id": "c65da470",
   "metadata": {},
   "source": [
    "<br>\n",
    "\n",
    "<span style=\"color:rgb(120, 120, 120)\">본 학습 자료를 포함한 모든 자료의 저작권은 성민석에 있으며 제작자의 동의없이 외부로의 무단 복제, 배포 및 전송을 절대로 불허합니다.\n",
    "\n",
    "<b>Copyright ⓒ 2022. Minsuk Sung. All rights reserved.</b>\n",
    "</span>\n",
    "\n",
    "<br>"
   ]
  }
 ],
 "metadata": {
  "kernelspec": {
   "display_name": "Python 3",
   "language": "python",
   "name": "python3"
  },
  "language_info": {
   "codemirror_mode": {
    "name": "ipython",
    "version": 3
   },
   "file_extension": ".py",
   "mimetype": "text/x-python",
   "name": "python",
   "nbconvert_exporter": "python",
   "pygments_lexer": "ipython3",
   "version": "3.7.10"
  },
  "toc": {
   "base_numbering": 1,
   "nav_menu": {},
   "number_sections": true,
   "sideBar": true,
   "skip_h1_title": true,
   "title_cell": "목차",
   "title_sidebar": "내용",
   "toc_cell": true,
   "toc_position": {
    "height": "calc(100% - 180px)",
    "left": "10px",
    "top": "150px",
    "width": "165px"
   },
   "toc_section_display": true,
   "toc_window_display": true
  }
 },
 "nbformat": 4,
 "nbformat_minor": 5
}
